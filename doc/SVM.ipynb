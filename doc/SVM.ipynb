{
 "cells": [
  {
   "cell_type": "code",
   "execution_count": null,
   "metadata": {},
   "outputs": [],
   "source": [
    "import numpy as np\n",
    "import pandas as pd\n",
    "from matplotlib import pyplot as plt\n",
    "%run ../lib/load.py"
   ]
  },
  {
   "cell_type": "code",
   "execution_count": null,
   "metadata": {},
   "outputs": [],
   "source": [
    "path = '../data/train_set/'\n",
    "data = load.load_data(path+'label.csv')\n",
    "points_path = '../data/train_set/points/'\n",
    "X = load.load_points(points_path,data)\n",
    "y= data['emotion_idx'].to_numpy()"
   ]
  },
  {
   "cell_type": "code",
   "execution_count": null,
   "metadata": {},
   "outputs": [],
   "source": [
    "from sklearn.model_selection import train_test_split\n",
    "train_x,test_x,train_y,test_y=train_test_split(X,y,test_size=0.2,random_state=123)"
   ]
  },
  {
   "cell_type": "code",
   "execution_count": null,
   "metadata": {},
   "outputs": [],
   "source": [
    "from sklearn.model_selection import GridSearchCV\n",
    "param= {'C': [0.0000001,0.000001,0.00001,0.0001,0.001,0.01,1]}\n",
    "gscv = GridSearchCV(SVC(kernel='linear'), param)\n",
    "gscv.fit(train_x,train_y)\n",
    "gscv.best_params_"
   ]
  },
  {
   "cell_type": "code",
   "execution_count": null,
   "metadata": {},
   "outputs": [],
   "source": [
    "# svm\n",
    "import sklearn.svm\n",
    "from sklearn.svm import SVC\n",
    "start=time.time()\n",
    "svc = SVC(kernel= 'linear', random_state = 123, C = 0.000001)\n",
    "svm=svc.fit(train_x,train_y)\n",
    "svm_predict = svm.predict(test_x)\n",
    "print(\"Accuracy is : {}%\".format(svm.score(test_x,test_y) * 100 ))\n",
    "print('time:',time.time()-start)"
   ]
  }
 ],
 "metadata": {
  "kernelspec": {
   "display_name": "Python 3",
   "language": "python",
   "name": "python3"
  },
  "language_info": {
   "codemirror_mode": {
    "name": "ipython",
    "version": 3
   },
   "file_extension": ".py",
   "mimetype": "text/x-python",
   "name": "python",
   "nbconvert_exporter": "python",
   "pygments_lexer": "ipython3",
   "version": "3.7.3"
  }
 },
 "nbformat": 4,
 "nbformat_minor": 4
}
