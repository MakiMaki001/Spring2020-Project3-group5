{
 "cells": [
  {
   "cell_type": "markdown",
   "metadata": {},
   "source": [
    "# Set up and import"
   ]
  },
  {
   "cell_type": "code",
   "execution_count": 3,
   "metadata": {},
   "outputs": [],
   "source": [
    "import numpy as np\n",
    "import pandas as pd\n",
    "from matplotlib import pyplot as plt\n",
    "%run ../lib/load.py"
   ]
  },
  {
   "cell_type": "code",
   "execution_count": 4,
   "metadata": {},
   "outputs": [
    {
     "name": "stdout",
     "output_type": "stream",
     "text": [
      "--- 16.21194887161255 seconds ---\n"
     ]
    }
   ],
   "source": [
    "path = '/Users/zhaoziqin/Desktop/train_set/'\n",
    "data = load.load_data(path+'label.csv')\n",
    "points_path = '/Users/zhaoziqin/Desktop/train_set/points/'\n",
    "X = load.load_points(points_path,data)\n",
    "y= data['emotion_idx'].to_numpy()"
   ]
  },
  {
   "cell_type": "markdown",
   "metadata": {},
   "source": [
    "# Train-test split"
   ]
  },
  {
   "cell_type": "code",
   "execution_count": 5,
   "metadata": {},
   "outputs": [],
   "source": [
    "from sklearn.model_selection import train_test_split\n",
    "train_x,test_x,train_y,test_y=train_test_split(X,y,test_size=0.2,random_state=123)"
   ]
  },
  {
   "cell_type": "code",
   "execution_count": 6,
   "metadata": {},
   "outputs": [
    {
     "name": "stdout",
     "output_type": "stream",
     "text": [
      "(2000, 6006)\n",
      "(500, 6006)\n",
      "(2000,)\n",
      "(500,)\n"
     ]
    }
   ],
   "source": [
    "print(train_x.shape)\n",
    "print(test_x.shape)\n",
    "print(train_y.shape)\n",
    "print(test_y.shape)"
   ]
  },
  {
   "cell_type": "markdown",
   "metadata": {},
   "source": [
    "# Baseline model (GBM)"
   ]
  },
  {
   "cell_type": "code",
   "execution_count": 8,
   "metadata": {},
   "outputs": [
    {
     "name": "stdout",
     "output_type": "stream",
     "text": [
      "--- 398.3472001552582 seconds ---\n"
     ]
    }
   ],
   "source": [
    "from sklearn.ensemble import GradientBoostingClassifier \n",
    "start_time = time.time()\n",
    "baseline = GradientBoostingClassifier(n_estimators=22,max_depth=2)\n",
    "gbm_model = GradientBoostingClassifier(n_estimators=22,max_depth=2).fit(train_x,train_y) \n",
    "print(\"--- %s seconds ---\" % (time.time() - start_time))"
   ]
  },
  {
   "cell_type": "code",
   "execution_count": 9,
   "metadata": {},
   "outputs": [
    {
     "name": "stdout",
     "output_type": "stream",
     "text": [
      "Accuracy on the baseline model: 0.3660\n",
      "              precision    recall  f1-score   support\n",
      "\n",
      "           1       0.43      0.50      0.46        18\n",
      "           2       0.50      0.58      0.54        19\n",
      "           3       0.28      0.36      0.32        25\n",
      "           4       0.32      0.48      0.38        21\n",
      "           5       0.71      0.56      0.63        18\n",
      "           6       0.38      0.19      0.26        26\n",
      "           7       0.36      0.40      0.38        20\n",
      "           8       0.65      0.69      0.67        16\n",
      "           9       0.47      0.28      0.35        25\n",
      "          10       0.26      0.40      0.31        20\n",
      "          11       0.42      0.42      0.42        24\n",
      "          12       0.33      0.22      0.26        32\n",
      "          13       0.08      0.08      0.08        24\n",
      "          14       0.41      0.52      0.46        23\n",
      "          15       0.53      0.45      0.49        22\n",
      "          16       0.68      0.59      0.63        22\n",
      "          17       0.36      0.46      0.41        26\n",
      "          18       0.44      0.36      0.40        22\n",
      "          19       0.31      0.39      0.35        23\n",
      "          20       0.14      0.20      0.17        20\n",
      "          21       0.33      0.21      0.25        34\n",
      "          22       0.06      0.05      0.05        20\n",
      "\n",
      "    accuracy                           0.37       500\n",
      "   macro avg       0.39      0.38      0.38       500\n",
      "weighted avg       0.38      0.37      0.36       500\n",
      "\n"
     ]
    }
   ],
   "source": [
    "from sklearn.metrics import classification_report\n",
    "baseline_pred = gbm_model.predict(test_x)\n",
    "baseline_accuracy = gbm_model.score(test_x,test_y)\n",
    "print(\"Accuracy on the baseline model: %.4f\" % (baseline_accuracy))\n",
    "print(classification_report(test_y, baseline_pred))"
   ]
  },
  {
   "cell_type": "code",
   "execution_count": 18,
   "metadata": {},
   "outputs": [],
   "source": [
    "from sklearn.metrics import confusion_matrix\n",
    "cm = confusion_matrix(test_y,baseline_pred)"
   ]
  },
  {
   "cell_type": "code",
   "execution_count": 21,
   "metadata": {},
   "outputs": [
    {
     "data": {
      "text/plain": [
       "<matplotlib.axes._subplots.AxesSubplot at 0x1a3c256e10>"
      ]
     },
     "execution_count": 21,
     "metadata": {},
     "output_type": "execute_result"
    },
    {
     "data": {
      "image/png": "[encoded data removed]",
      "text/plain": [
       "<Figure size 432x288 with 2 Axes>"
      ]
     },
     "metadata": {
      "needs_background": "light"
     },
     "output_type": "display_data"
    }
   ],
   "source": [
    "import seaborn as sns\n",
    "sns.heatmap(cm)"
   ]
  },
  {
   "cell_type": "code",
   "execution_count": null,
   "metadata": {},
   "outputs": [],
   "source": []
  },
  {
   "cell_type": "code",
   "execution_count": null,
   "metadata": {},
   "outputs": [],
   "source": []
  }
 ],
 "metadata": {
  "kernelspec": {
   "display_name": "Python 3",
   "language": "python",
   "name": "python3"
  },
  "language_info": {
   "codemirror_mode": {
    "name": "ipython",
    "version": 3
   },
   "file_extension": ".py",
   "mimetype": "text/x-python",
   "name": "python",
   "nbconvert_exporter": "python",
   "pygments_lexer": "ipython3",
   "version": "3.7.4"
  }
 },
 "nbformat": 4,
 "nbformat_minor": 2
}
