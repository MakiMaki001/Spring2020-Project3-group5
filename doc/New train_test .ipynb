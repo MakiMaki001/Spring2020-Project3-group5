{
 "cells": [
  {
   "cell_type": "code",
   "execution_count": 8,
   "metadata": {},
   "outputs": [],
   "source": [
    "import numpy as np\n",
    "import pandas as pd\n",
    "from matplotlib import pyplot as plt\n",
    "from datetime import datetime\n",
    "from sklearn.decomposition import PCA\n",
    "from sklearn.metrics import classification_report\n",
    "from sklearn.metrics import confusion_matrix\n",
    "%run ../lib/load.py"
   ]
  },
  {
   "cell_type": "code",
   "execution_count": 2,
   "metadata": {},
   "outputs": [
    {
     "name": "stdout",
     "output_type": "stream",
     "text": [
      "--- 13.994304895401001 seconds ---\n"
     ]
    }
   ],
   "source": [
    "path = '/Users/zhaoziqin/Desktop/train_set/'\n",
    "data = load.load_data(path+'label.csv')\n",
    "points_path = '/Users/zhaoziqin/Desktop/train_set/points/'\n",
    "X = load.load_points(points_path,data)\n",
    "y= data['emotion_idx'].to_numpy()"
   ]
  },
  {
   "cell_type": "code",
   "execution_count": 6,
   "metadata": {},
   "outputs": [],
   "source": [
    "from sklearn.model_selection import train_test_split\n",
    "data_unsplit = pd.read_csv('/Users/zhaoziqin/Desktop/data_unsplit.csv')\n",
    "X=data_unsplit.iloc[:,1:-1]\n",
    "y=data_unsplit[\"emotion_idx\"]\n",
    "train_x,test_x,train_y,test_y=train_test_split(X,y,test_size=0.2,random_state=123)"
   ]
  },
  {
   "cell_type": "markdown",
   "metadata": {},
   "source": [
    "# XGBoost"
   ]
  },
  {
   "cell_type": "code",
   "execution_count": 4,
   "metadata": {},
   "outputs": [],
   "source": [
    "# conda install -c conda-forge xgboost\n",
    "import xgboost\n",
    "from xgboost import XGBClassifier\n",
    "xgb = XGBClassifier()"
   ]
  },
  {
   "cell_type": "code",
   "execution_count": 9,
   "metadata": {},
   "outputs": [
    {
     "name": "stdout",
     "output_type": "stream",
     "text": [
      "Accuracy on the baseline model: 0.4800\n",
      "              precision    recall  f1-score   support\n",
      "\n",
      "           1       1.00      1.00      1.00        94\n",
      "           2       1.00      1.00      1.00        95\n",
      "           3       1.00      1.00      1.00       110\n",
      "           4       1.00      1.00      1.00        97\n",
      "           5       1.00      1.00      1.00        91\n",
      "           6       1.00      1.00      1.00        78\n",
      "           7       1.00      1.00      1.00        94\n",
      "           8       1.00      1.00      1.00       104\n",
      "           9       1.00      1.00      1.00        84\n",
      "          10       1.00      1.00      1.00        87\n",
      "          11       1.00      1.00      1.00        99\n",
      "          12       1.00      1.00      1.00        80\n",
      "          13       1.00      1.00      1.00        83\n",
      "          14       1.00      1.00      1.00        99\n",
      "          15       1.00      1.00      1.00        73\n",
      "          16       1.00      1.00      1.00        91\n",
      "          17       1.00      1.00      1.00       101\n",
      "          18       1.00      1.00      1.00        84\n",
      "          19       1.00      1.00      1.00        88\n",
      "          20       1.00      1.00      1.00        95\n",
      "          21       1.00      1.00      1.00        83\n",
      "          22       1.00      1.00      1.00        90\n",
      "\n",
      "    accuracy                           1.00      2000\n",
      "   macro avg       1.00      1.00      1.00      2000\n",
      "weighted avg       1.00      1.00      1.00      2000\n",
      "\n",
      "              precision    recall  f1-score   support\n",
      "\n",
      "           1       0.72      0.72      0.72        18\n",
      "           2       0.61      0.58      0.59        19\n",
      "           3       0.37      0.52      0.43        25\n",
      "           4       0.41      0.52      0.46        21\n",
      "           5       0.52      0.67      0.59        18\n",
      "           6       0.36      0.31      0.33        26\n",
      "           7       0.50      0.40      0.44        20\n",
      "           8       0.69      0.69      0.69        16\n",
      "           9       0.70      0.56      0.62        25\n",
      "          10       0.45      0.50      0.48        20\n",
      "          11       0.58      0.46      0.51        24\n",
      "          12       0.47      0.44      0.45        32\n",
      "          13       0.40      0.42      0.41        24\n",
      "          14       0.52      0.57      0.54        23\n",
      "          15       0.62      0.45      0.53        22\n",
      "          16       0.69      0.82      0.75        22\n",
      "          17       0.47      0.54      0.50        26\n",
      "          18       0.57      0.36      0.44        22\n",
      "          19       0.33      0.48      0.39        23\n",
      "          20       0.33      0.45      0.38        20\n",
      "          21       0.32      0.24      0.27        34\n",
      "          22       0.23      0.15      0.18        20\n",
      "\n",
      "    accuracy                           0.48       500\n",
      "   macro avg       0.49      0.49      0.49       500\n",
      "weighted avg       0.49      0.48      0.48       500\n",
      "\n",
      "--- 3654.9233169555664 seconds ---\n"
     ]
    }
   ],
   "source": [
    "start_time = time.time()\n",
    "xgb_new = XGBClassifier(\n",
    "    n_estimators=181,\n",
    "    min_child_weight = 1,\n",
    "    gamma = 0,\n",
    "    subsample = 0.8,\n",
    "    max_depth=2,\n",
    "    colsample_bytree = 0.8,\n",
    "    learning_rate=0.1,\n",
    "    reg_alpha = 0.005)\n",
    "xgb_model = xgb_new.fit(train_x,train_y)\n",
    "\n",
    "xgb_test_pred = xgb_model.predict(test_x)\n",
    "xgb_accuracy = xgb_model.score(test_x,test_y)\n",
    "print(\"Accuracy on the baseline model: %.4f\" % (xgb_accuracy))\n",
    "xgb_train_pred = xgb_model.predict(train_x)\n",
    "print(classification_report(train_y, xgb_train_pred))\n",
    "print(classification_report(test_y, xgb_test_pred))\n",
    "print(\"--- %s seconds ---\" % (time.time() - start_time))"
   ]
  },
  {
   "cell_type": "code",
   "execution_count": null,
   "metadata": {},
   "outputs": [],
   "source": []
  }
 ],
 "metadata": {
  "kernelspec": {
   "display_name": "Python 3",
   "language": "python",
   "name": "python3"
  },
  "language_info": {
   "codemirror_mode": {
    "name": "ipython",
    "version": 3
   },
   "file_extension": ".py",
   "mimetype": "text/x-python",
   "name": "python",
   "nbconvert_exporter": "python",
   "pygments_lexer": "ipython3",
   "version": "3.7.4"
  }
 },
 "nbformat": 4,
 "nbformat_minor": 2
}
