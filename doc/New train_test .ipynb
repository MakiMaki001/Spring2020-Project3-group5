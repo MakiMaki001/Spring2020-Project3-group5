{
 "cells": [
  {
   "cell_type": "code",
   "execution_count": 1,
   "metadata": {},
   "outputs": [],
   "source": [
    "import numpy as np\n",
    "import pandas as pd\n",
    "from matplotlib import pyplot as plt\n",
    "from datetime import datetime\n",
    "from sklearn.decomposition import PCA\n",
    "%run ../lib/load.py"
   ]
  },
  {
   "cell_type": "code",
   "execution_count": 2,
   "metadata": {},
   "outputs": [
    {
     "name": "stdout",
     "output_type": "stream",
     "text": [
      "--- 13.994304895401001 seconds ---\n"
     ]
    }
   ],
   "source": [
    "path = '/Users/zhaoziqin/Desktop/train_set/'\n",
    "data = load.load_data(path+'label.csv')\n",
    "points_path = '/Users/zhaoziqin/Desktop/train_set/points/'\n",
    "X = load.load_points(points_path,data)\n",
    "y= data['emotion_idx'].to_numpy()"
   ]
  },
  {
   "cell_type": "code",
   "execution_count": 6,
   "metadata": {},
   "outputs": [],
   "source": [
    "from sklearn.model_selection import train_test_split\n",
    "data_unsplit = pd.read_csv('/Users/zhaoziqin/Desktop/data_unsplit.csv')\n",
    "X_dis=data_unsplit.iloc[:,1:-1]\n",
    "y_dis=data_unsplit[\"emotion_idx\"]\n",
    "train_x,test_x,train_y,test_y=train_test_split(X_dis,y_dis,test_size=0.2,random_state=123)"
   ]
  },
  {
   "cell_type": "markdown",
   "metadata": {},
   "source": [
    "# XGBoost"
   ]
  },
  {
   "cell_type": "code",
   "execution_count": 4,
   "metadata": {},
   "outputs": [],
   "source": [
    "# conda install -c conda-forge xgboost\n",
    "import xgboost\n",
    "from xgboost import XGBClassifier\n",
    "xgb = XGBClassifier()"
   ]
  },
  {
   "cell_type": "code",
   "execution_count": null,
   "metadata": {},
   "outputs": [],
   "source": [
    "start_time = time.time()\n",
    "xgb_new = XGBClassifier(\n",
    "    n_estimators=181,\n",
    "    min_child_weight = 1,\n",
    "    gamma = 0,\n",
    "    subsample = 0.8,\n",
    "    max_depth=2,\n",
    "    colsample_bytree = 0.8,\n",
    "    learning_rate=0.1,\n",
    "    reg_alpha = 0.005)\n",
    "xgb_model = xgb_new.fit(train_x,train_y)\n",
    "\n",
    "xgb_test_pred = xgb_model.predict(test_x)\n",
    "xgb_accuracy = xgb_model.score(test_x,test_y)\n",
    "print(\"Accuracy on the baseline model: %.4f\" % (xgb_accuracy))\n",
    "xgb_train_pred = xgb_model.predict(train_x)\n",
    "print(classification_report(train_y, xgb_train_pred))\n",
    "print(classification_report(test_y, xgb_test_pred))\n",
    "print(\"--- %s seconds ---\" % (time.time() - start_time))"
   ]
  },
  {
   "cell_type": "code",
   "execution_count": null,
   "metadata": {},
   "outputs": [],
   "source": []
  }
 ],
 "metadata": {
  "kernelspec": {
   "display_name": "Python 3",
   "language": "python",
   "name": "python3"
  },
  "language_info": {
   "codemirror_mode": {
    "name": "ipython",
    "version": 3
   },
   "file_extension": ".py",
   "mimetype": "text/x-python",
   "name": "python",
   "nbconvert_exporter": "python",
   "pygments_lexer": "ipython3",
   "version": "3.7.4"
  }
 },
 "nbformat": 4,
 "nbformat_minor": 2
}
