{
 "cells": [
  {
   "cell_type": "markdown",
   "metadata": {},
   "source": [
    "# Set up and import"
   ]
  },
  {
   "cell_type": "code",
   "execution_count": 3,
   "metadata": {},
   "outputs": [],
   "source": [
    "import numpy as np\n",
    "import pandas as pd\n",
    "from matplotlib import pyplot as plt\n",
    "import seaborn as sns\n",
    "from datetime import datetime\n",
    "from sklearn.decomposition import PCA\n",
    "from sklearn.model_selection import train_test_split\n",
    "from sklearn.ensemble import GradientBoostingClassifier \n",
    "from sklearn.metrics import classification_report\n",
    "from sklearn.metrics import confusion_matrix\n",
    "from sklearn.linear_model import LogisticRegression\n",
    "from sklearn.model_selection import GridSearchCV\n",
    "%run ../lib/load.py"
   ]
  },
  {
   "cell_type": "code",
   "execution_count": 4,
   "metadata": {},
   "outputs": [
    {
     "name": "stdout",
     "output_type": "stream",
     "text": [
      "--- 13.504863977432251 seconds ---\n"
     ]
    }
   ],
   "source": [
    "path = '/Users/zhaoziqin/Desktop/train_set/'\n",
    "data = load.load_data(path+'label.csv')\n",
    "points_path = '/Users/zhaoziqin/Desktop/train_set/points/'\n",
    "X = load.load_points(points_path,data)\n",
    "y= data['emotion_idx'].to_numpy()"
   ]
  },
  {
   "cell_type": "markdown",
   "metadata": {},
   "source": [
    "# Train-test split"
   ]
  },
  {
   "cell_type": "code",
   "execution_count": 5,
   "metadata": {},
   "outputs": [],
   "source": [
    "from sklearn.model_selection import train_test_split\n",
    "train_x,test_x,train_y,test_y=train_test_split(X,y,test_size=0.2,random_state=123)"
   ]
  },
  {
   "cell_type": "code",
   "execution_count": 6,
   "metadata": {},
   "outputs": [
    {
     "name": "stdout",
     "output_type": "stream",
     "text": [
      "(2000, 6006)\n",
      "(500, 6006)\n",
      "(2000,)\n",
      "(500,)\n"
     ]
    }
   ],
   "source": [
    "print(train_x.shape)\n",
    "print(test_x.shape)\n",
    "print(train_y.shape)\n",
    "print(test_y.shape)"
   ]
  },
  {
   "cell_type": "markdown",
   "metadata": {},
   "source": [
    "# Baseline model (GBM)"
   ]
  },
  {
   "cell_type": "code",
   "execution_count": 6,
   "metadata": {},
   "outputs": [
    {
     "name": "stdout",
     "output_type": "stream",
     "text": [
      "--- 374.0963981151581 seconds ---\n"
     ]
    }
   ],
   "source": [
    "from sklearn.ensemble import GradientBoostingClassifier \n",
    "start_time = time.time()\n",
    "baseline = GradientBoostingClassifier(n_estimators=22,max_depth=2)\n",
    "gbm_model = GradientBoostingClassifier(n_estimators=22,max_depth=2).fit(train_x,train_y) \n",
    "print(\"--- %s seconds ---\" % (time.time() - start_time))"
   ]
  },
  {
   "cell_type": "code",
   "execution_count": 7,
   "metadata": {},
   "outputs": [
    {
     "name": "stdout",
     "output_type": "stream",
     "text": [
      "Accuracy on the baseline model: 0.3780\n",
      "              precision    recall  f1-score   support\n",
      "\n",
      "           1       0.83      0.87      0.85        94\n",
      "           2       0.90      0.93      0.91        95\n",
      "           3       0.81      0.92      0.86       110\n",
      "           4       0.87      0.86      0.86        97\n",
      "           5       0.93      0.90      0.92        91\n",
      "           6       0.86      0.83      0.84        78\n",
      "           7       0.88      0.88      0.88        94\n",
      "           8       0.92      0.93      0.92       104\n",
      "           9       0.89      0.89      0.89        84\n",
      "          10       0.82      0.89      0.85        87\n",
      "          11       0.89      0.81      0.85        99\n",
      "          12       0.98      0.80      0.88        80\n",
      "          13       0.87      0.81      0.84        83\n",
      "          14       0.82      0.93      0.87        99\n",
      "          15       0.93      0.78      0.85        73\n",
      "          16       0.87      0.90      0.89        91\n",
      "          17       0.79      0.87      0.83       101\n",
      "          18       0.84      0.77      0.81        84\n",
      "          19       0.75      0.78      0.77        88\n",
      "          20       0.69      0.71      0.70        95\n",
      "          21       0.76      0.77      0.77        83\n",
      "          22       0.81      0.72      0.76        90\n",
      "\n",
      "    accuracy                           0.85      2000\n",
      "   macro avg       0.85      0.84      0.85      2000\n",
      "weighted avg       0.85      0.85      0.85      2000\n",
      "\n",
      "              precision    recall  f1-score   support\n",
      "\n",
      "           1       0.56      0.56      0.56        18\n",
      "           2       0.48      0.58      0.52        19\n",
      "           3       0.33      0.40      0.36        25\n",
      "           4       0.32      0.43      0.37        21\n",
      "           5       0.64      0.50      0.56        18\n",
      "           6       0.36      0.19      0.25        26\n",
      "           7       0.33      0.40      0.36        20\n",
      "           8       0.61      0.69      0.65        16\n",
      "           9       0.55      0.24      0.33        25\n",
      "          10       0.29      0.50      0.37        20\n",
      "          11       0.41      0.46      0.43        24\n",
      "          12       0.38      0.25      0.30        32\n",
      "          13       0.14      0.12      0.13        24\n",
      "          14       0.40      0.52      0.45        23\n",
      "          15       0.65      0.50      0.56        22\n",
      "          16       0.65      0.59      0.62        22\n",
      "          17       0.35      0.46      0.40        26\n",
      "          18       0.44      0.32      0.37        22\n",
      "          19       0.29      0.43      0.35        23\n",
      "          20       0.16      0.20      0.18        20\n",
      "          21       0.30      0.21      0.25        34\n",
      "          22       0.12      0.10      0.11        20\n",
      "\n",
      "    accuracy                           0.38       500\n",
      "   macro avg       0.40      0.39      0.39       500\n",
      "weighted avg       0.39      0.38      0.37       500\n",
      "\n"
     ]
    }
   ],
   "source": [
    "from sklearn.metrics import classification_report\n",
    "baseline_pred = gbm_model.predict(test_x)\n",
    "baseline_accuracy = gbm_model.score(test_x,test_y)\n",
    "print(\"Accuracy on the baseline model: %.4f\" % (baseline_accuracy))\n",
    "baseline_pred_train = gbm_model.predict(train_x)\n",
    "print(classification_report(train_y, baseline_pred_train))\n",
    "print(classification_report(test_y, baseline_pred))"
   ]
  },
  {
   "cell_type": "code",
   "execution_count": 8,
   "metadata": {},
   "outputs": [],
   "source": [
    "from sklearn.metrics import confusion_matrix\n",
    "cm = confusion_matrix(test_y,baseline_pred)"
   ]
  },
  {
   "cell_type": "code",
   "execution_count": 9,
   "metadata": {},
   "outputs": [
    {
     "data": {
      "text/plain": [
       "<matplotlib.axes._subplots.AxesSubplot at 0x1a34f16110>"
      ]
     },
     "execution_count": 9,
     "metadata": {},
     "output_type": "execute_result"
    },
    {
     "data": {
      "image/png": "[encoded data removed]",
      "text/plain": [
       "<Figure size 432x288 with 2 Axes>"
      ]
     },
     "metadata": {
      "needs_background": "light"
     },
     "output_type": "display_data"
    }
   ],
   "source": [
    "import seaborn as sns\n",
    "sns.heatmap(cm)"
   ]
  },
  {
   "cell_type": "code",
   "execution_count": 10,
   "metadata": {},
   "outputs": [
    {
     "name": "stderr",
     "output_type": "stream",
     "text": [
      "/opt/anaconda3/lib/python3.7/site-packages/sklearn/externals/joblib/__init__.py:15: DeprecationWarning: sklearn.externals.joblib is deprecated in 0.21 and will be removed in 0.23. Please import this functionality directly from joblib, which can be installed with: pip install joblib. If this warning is raised when loading pickled models, you may need to re-serialize those models with scikit-learn 0.21+.\n",
      "  warnings.warn(msg, category=DeprecationWarning)\n"
     ]
    },
    {
     "data": {
      "text/plain": [
       "['../output/baseline.m']"
      ]
     },
     "execution_count": 10,
     "metadata": {},
     "output_type": "execute_result"
    }
   ],
   "source": [
    "# save baseline model\n",
    "# from sklearn.externals import joblib\n",
    "# joblib.dump(gbm_model,'../output/baseline.m')"
   ]
  },
  {
   "cell_type": "markdown",
   "metadata": {},
   "source": [
    "# XGBoost"
   ]
  },
  {
   "cell_type": "code",
   "execution_count": 3,
   "metadata": {},
   "outputs": [],
   "source": [
    "import xgboost\n",
    "from xgboost import XGBClassifier\n",
    "xgb = XGBClassifier()"
   ]
  },
  {
   "cell_type": "markdown",
   "metadata": {},
   "source": [
    "#### Principal Component Analysis (PCA) for XGBoost "
   ]
  },
  {
   "cell_type": "code",
   "execution_count": 12,
   "metadata": {},
   "outputs": [
    {
     "name": "stdout",
     "output_type": "stream",
     "text": [
      "25\n",
      "(2000, 25)\n",
      "(500, 25)\n"
     ]
    }
   ],
   "source": [
    "pca= PCA(random_state = 123)\n",
    "pca.fit(train_x)\n",
    "k=0\n",
    "total= sum(pca.explained_variance_)\n",
    "current_sum=0\n",
    "while current_sum/total < 0.95: \n",
    "    current_sum += pca.explained_variance_[k]\n",
    "    k+=1\n",
    "print(k)\n",
    "pca1=PCA(n_components=k,whiten=True)\n",
    "train_transform_data= pca1.fit_transform(train_x)\n",
    "print(train_transform_data.shape)\n",
    "test_transform_data=pca1.transform(test_x)\n",
    "print(test_transform_data.shape)"
   ]
  },
  {
   "cell_type": "markdown",
   "metadata": {},
   "source": [
    "#### Cross Validation XGBoost"
   ]
  },
  {
   "cell_type": "code",
   "execution_count": 14,
   "metadata": {},
   "outputs": [
    {
     "name": "stderr",
     "output_type": "stream",
     "text": [
      "/opt/anaconda3/lib/python3.7/site-packages/sklearn/model_selection/_search.py:814: DeprecationWarning: The default of the `iid` parameter will change from True to False in version 0.22 and will be removed in 0.24. This will change numeric results when test-set sizes are unequal.\n",
      "  DeprecationWarning)\n"
     ]
    },
    {
     "data": {
      "text/plain": [
       "GridSearchCV(cv=5, error_score='raise-deprecating',\n",
       "             estimator=XGBClassifier(base_score=0.5, booster='gbtree',\n",
       "                                     colsample_bylevel=1, colsample_bynode=1,\n",
       "                                     colsample_bytree=1, gamma=0,\n",
       "                                     learning_rate=0.1, max_delta_step=0,\n",
       "                                     max_depth=3, min_child_weight=1,\n",
       "                                     missing=None, n_estimators=100, n_jobs=1,\n",
       "                                     nthread=None, objective='multi:softprob',\n",
       "                                     random_state=0, reg_alpha=0, reg_lambda=1,\n",
       "                                     scale_pos_weight=1, seed=36, silent=None,\n",
       "                                     subsample=1, verbosity=1),\n",
       "             iid='warn', n_jobs=-1,\n",
       "             param_grid={'learning_rate': [0.1, 0.01, 0.05],\n",
       "                         'max_depth': range(1, 5),\n",
       "                         'n_estimators': range(1, 200, 20)},\n",
       "             pre_dispatch='2*n_jobs', refit=True, return_train_score=False,\n",
       "             scoring='accuracy', verbose=0)"
      ]
     },
     "execution_count": 14,
     "metadata": {},
     "output_type": "execute_result"
    }
   ],
   "source": [
    "from sklearn.model_selection import GridSearchCV\n",
    "\n",
    "estimator = XGBClassifier(objective='multi:softprob',seed=36)\n",
    "parameters = {\n",
    "   'max_depth': range (1, 5, 1),\n",
    "   'n_estimators': range(1, 200, 20),\n",
    "   'learning_rate': [0.1, 0.01, 0.05]\n",
    "}\n",
    "\n",
    "gscv1 = GridSearchCV(estimator = estimator , \n",
    "                        param_grid = parameters, \n",
    "                        scoring ='accuracy',\n",
    "                        cv = 5,\n",
    "                        n_jobs = -1)\n",
    "gscv1.fit(train_transform_data, train_y)\n"
   ]
  },
  {
   "cell_type": "code",
   "execution_count": 16,
   "metadata": {},
   "outputs": [
    {
     "name": "stdout",
     "output_type": "stream",
     "text": [
      "Best score for data: 0.3335\n",
      "Best Max Depth: 2\n",
      "Best N.estimators: 181\n",
      "Best Learning Rate: 0.1\n"
     ]
    }
   ],
   "source": [
    "# accuracy score\n",
    "print('Best score for data:', gscv1.best_score_) \n",
    "\n",
    "# Find the best parameters for the model by using grid search\n",
    "print('Best Max Depth:',gscv1.best_estimator_.max_depth) \n",
    "print('Best N.estimators:',gscv1.best_estimator_.n_estimators)\n",
    "print('Best Learning Rate:',gscv1.best_estimator_.learning_rate)"
   ]
  },
  {
   "cell_type": "code",
   "execution_count": 19,
   "metadata": {},
   "outputs": [
    {
     "name": "stdout",
     "output_type": "stream",
     "text": [
      "Accuracy on the baseline model: 0.4960\n",
      "              precision    recall  f1-score   support\n",
      "\n",
      "           1       1.00      1.00      1.00        94\n",
      "           2       1.00      1.00      1.00        95\n",
      "           3       1.00      1.00      1.00       110\n",
      "           4       1.00      1.00      1.00        97\n",
      "           5       1.00      1.00      1.00        91\n",
      "           6       1.00      1.00      1.00        78\n",
      "           7       1.00      1.00      1.00        94\n",
      "           8       1.00      1.00      1.00       104\n",
      "           9       1.00      1.00      1.00        84\n",
      "          10       1.00      1.00      1.00        87\n",
      "          11       1.00      1.00      1.00        99\n",
      "          12       1.00      1.00      1.00        80\n",
      "          13       1.00      1.00      1.00        83\n",
      "          14       1.00      1.00      1.00        99\n",
      "          15       1.00      1.00      1.00        73\n",
      "          16       1.00      1.00      1.00        91\n",
      "          17       1.00      1.00      1.00       101\n",
      "          18       1.00      1.00      1.00        84\n",
      "          19       1.00      1.00      1.00        88\n",
      "          20       1.00      1.00      1.00        95\n",
      "          21       1.00      1.00      1.00        83\n",
      "          22       1.00      1.00      1.00        90\n",
      "\n",
      "    accuracy                           1.00      2000\n",
      "   macro avg       1.00      1.00      1.00      2000\n",
      "weighted avg       1.00      1.00      1.00      2000\n",
      "\n",
      "              precision    recall  f1-score   support\n",
      "\n",
      "           1       0.60      0.83      0.70        18\n",
      "           2       0.65      0.68      0.67        19\n",
      "           3       0.48      0.52      0.50        25\n",
      "           4       0.52      0.62      0.57        21\n",
      "           5       0.57      0.72      0.63        18\n",
      "           6       0.60      0.46      0.52        26\n",
      "           7       0.39      0.35      0.37        20\n",
      "           8       0.73      0.69      0.71        16\n",
      "           9       0.75      0.60      0.67        25\n",
      "          10       0.48      0.55      0.51        20\n",
      "          11       0.58      0.58      0.58        24\n",
      "          12       0.54      0.47      0.50        32\n",
      "          13       0.36      0.33      0.35        24\n",
      "          14       0.57      0.52      0.55        23\n",
      "          15       0.55      0.50      0.52        22\n",
      "          16       0.68      0.77      0.72        22\n",
      "          17       0.40      0.54      0.46        26\n",
      "          18       0.38      0.23      0.29        22\n",
      "          19       0.31      0.39      0.35        23\n",
      "          20       0.32      0.40      0.36        20\n",
      "          21       0.40      0.29      0.34        34\n",
      "          22       0.12      0.10      0.11        20\n",
      "\n",
      "    accuracy                           0.50       500\n",
      "   macro avg       0.50      0.51      0.50       500\n",
      "weighted avg       0.50      0.50      0.49       500\n",
      "\n",
      "--- 2399.1727528572083 seconds ---\n"
     ]
    }
   ],
   "source": [
    "start_time = time.time()\n",
    "xgb_new = XGBClassifier(\n",
    "    n_estimators=181,\n",
    "    min_child_weight = 1,\n",
    "    gamma = 0,\n",
    "    subsample = 0.8,\n",
    "    max_depth=2,\n",
    "    colsample_bytree = 0.8,\n",
    "    learning_rate=0.1,\n",
    "    reg_alpha = 0.005)\n",
    "xgb_model = xgb_new.fit(train_x,train_y)\n",
    "\n",
    "xgb_test_pred = xgb_model.predict(test_x)\n",
    "xgb_accuracy = xgb_model.score(test_x,test_y)\n",
    "print(\"Accuracy on the baseline model: %.4f\" % (xgb_accuracy))\n",
    "xgb_train_pred = xgb_model.predict(train_x)\n",
    "print(classification_report(train_y, xgb_train_pred))\n",
    "print(classification_report(test_y, xgb_test_pred))\n",
    "print(\"--- %s seconds ---\" % (time.time() - start_time))"
   ]
  },
  {
   "cell_type": "code",
   "execution_count": 20,
   "metadata": {},
   "outputs": [
    {
     "data": {
      "text/plain": [
       "<matplotlib.axes._subplots.AxesSubplot at 0x1a351b94d0>"
      ]
     },
     "execution_count": 20,
     "metadata": {},
     "output_type": "execute_result"
    },
    {
     "data": {
      "image/png": "[encoded data removed]",
      "text/plain": [
       "<Figure size 432x288 with 2 Axes>"
      ]
     },
     "metadata": {
      "needs_background": "light"
     },
     "output_type": "display_data"
    }
   ],
   "source": [
    "cm_xgb = confusion_matrix(test_y,xgb_test_pred)\n",
    "sns.heatmap(cm_xgb)"
   ]
  },
  {
   "cell_type": "markdown",
   "metadata": {},
   "source": [
    "# Logistic Regression"
   ]
  },
  {
   "cell_type": "code",
   "execution_count": 24,
   "metadata": {},
   "outputs": [
    {
     "name": "stderr",
     "output_type": "stream",
     "text": [
      "/opt/anaconda3/lib/python3.7/site-packages/sklearn/model_selection/_split.py:1978: FutureWarning: The default value of cv will change from 3 to 5 in version 0.22. Specify it explicitly to silence this warning.\n",
      "  warnings.warn(CV_WARNING, FutureWarning)\n",
      "/opt/anaconda3/lib/python3.7/site-packages/sklearn/linear_model/logistic.py:432: FutureWarning: Default solver will be changed to 'lbfgs' in 0.22. Specify a solver to silence this warning.\n",
      "  FutureWarning)\n",
      "/opt/anaconda3/lib/python3.7/site-packages/sklearn/linear_model/logistic.py:469: FutureWarning: Default multi_class will be changed to 'auto' in 0.22. Specify the multi_class option to silence this warning.\n",
      "  \"this warning.\", FutureWarning)\n",
      "/opt/anaconda3/lib/python3.7/site-packages/sklearn/linear_model/logistic.py:432: FutureWarning: Default solver will be changed to 'lbfgs' in 0.22. Specify a solver to silence this warning.\n",
      "  FutureWarning)\n",
      "/opt/anaconda3/lib/python3.7/site-packages/sklearn/linear_model/logistic.py:469: FutureWarning: Default multi_class will be changed to 'auto' in 0.22. Specify the multi_class option to silence this warning.\n",
      "  \"this warning.\", FutureWarning)\n",
      "/opt/anaconda3/lib/python3.7/site-packages/sklearn/linear_model/logistic.py:432: FutureWarning: Default solver will be changed to 'lbfgs' in 0.22. Specify a solver to silence this warning.\n",
      "  FutureWarning)\n",
      "/opt/anaconda3/lib/python3.7/site-packages/sklearn/linear_model/logistic.py:469: FutureWarning: Default multi_class will be changed to 'auto' in 0.22. Specify the multi_class option to silence this warning.\n",
      "  \"this warning.\", FutureWarning)\n",
      "/opt/anaconda3/lib/python3.7/site-packages/sklearn/linear_model/logistic.py:432: FutureWarning: Default solver will be changed to 'lbfgs' in 0.22. Specify a solver to silence this warning.\n",
      "  FutureWarning)\n",
      "/opt/anaconda3/lib/python3.7/site-packages/sklearn/linear_model/logistic.py:469: FutureWarning: Default multi_class will be changed to 'auto' in 0.22. Specify the multi_class option to silence this warning.\n",
      "  \"this warning.\", FutureWarning)\n",
      "/opt/anaconda3/lib/python3.7/site-packages/sklearn/linear_model/logistic.py:432: FutureWarning: Default solver will be changed to 'lbfgs' in 0.22. Specify a solver to silence this warning.\n",
      "  FutureWarning)\n",
      "/opt/anaconda3/lib/python3.7/site-packages/sklearn/linear_model/logistic.py:469: FutureWarning: Default multi_class will be changed to 'auto' in 0.22. Specify the multi_class option to silence this warning.\n",
      "  \"this warning.\", FutureWarning)\n",
      "/opt/anaconda3/lib/python3.7/site-packages/sklearn/linear_model/logistic.py:432: FutureWarning: Default solver will be changed to 'lbfgs' in 0.22. Specify a solver to silence this warning.\n",
      "  FutureWarning)\n",
      "/opt/anaconda3/lib/python3.7/site-packages/sklearn/linear_model/logistic.py:469: FutureWarning: Default multi_class will be changed to 'auto' in 0.22. Specify the multi_class option to silence this warning.\n",
      "  \"this warning.\", FutureWarning)\n",
      "/opt/anaconda3/lib/python3.7/site-packages/sklearn/linear_model/logistic.py:432: FutureWarning: Default solver will be changed to 'lbfgs' in 0.22. Specify a solver to silence this warning.\n",
      "  FutureWarning)\n",
      "/opt/anaconda3/lib/python3.7/site-packages/sklearn/linear_model/logistic.py:469: FutureWarning: Default multi_class will be changed to 'auto' in 0.22. Specify the multi_class option to silence this warning.\n",
      "  \"this warning.\", FutureWarning)\n",
      "/opt/anaconda3/lib/python3.7/site-packages/sklearn/linear_model/logistic.py:432: FutureWarning: Default solver will be changed to 'lbfgs' in 0.22. Specify a solver to silence this warning.\n",
      "  FutureWarning)\n",
      "/opt/anaconda3/lib/python3.7/site-packages/sklearn/linear_model/logistic.py:469: FutureWarning: Default multi_class will be changed to 'auto' in 0.22. Specify the multi_class option to silence this warning.\n",
      "  \"this warning.\", FutureWarning)\n",
      "/opt/anaconda3/lib/python3.7/site-packages/sklearn/linear_model/logistic.py:432: FutureWarning: Default solver will be changed to 'lbfgs' in 0.22. Specify a solver to silence this warning.\n",
      "  FutureWarning)\n",
      "/opt/anaconda3/lib/python3.7/site-packages/sklearn/linear_model/logistic.py:469: FutureWarning: Default multi_class will be changed to 'auto' in 0.22. Specify the multi_class option to silence this warning.\n",
      "  \"this warning.\", FutureWarning)\n",
      "/opt/anaconda3/lib/python3.7/site-packages/sklearn/linear_model/logistic.py:432: FutureWarning: Default solver will be changed to 'lbfgs' in 0.22. Specify a solver to silence this warning.\n",
      "  FutureWarning)\n",
      "/opt/anaconda3/lib/python3.7/site-packages/sklearn/linear_model/logistic.py:469: FutureWarning: Default multi_class will be changed to 'auto' in 0.22. Specify the multi_class option to silence this warning.\n",
      "  \"this warning.\", FutureWarning)\n",
      "/opt/anaconda3/lib/python3.7/site-packages/sklearn/linear_model/logistic.py:432: FutureWarning: Default solver will be changed to 'lbfgs' in 0.22. Specify a solver to silence this warning.\n",
      "  FutureWarning)\n",
      "/opt/anaconda3/lib/python3.7/site-packages/sklearn/linear_model/logistic.py:469: FutureWarning: Default multi_class will be changed to 'auto' in 0.22. Specify the multi_class option to silence this warning.\n",
      "  \"this warning.\", FutureWarning)\n",
      "/opt/anaconda3/lib/python3.7/site-packages/sklearn/linear_model/logistic.py:432: FutureWarning: Default solver will be changed to 'lbfgs' in 0.22. Specify a solver to silence this warning.\n",
      "  FutureWarning)\n",
      "/opt/anaconda3/lib/python3.7/site-packages/sklearn/linear_model/logistic.py:469: FutureWarning: Default multi_class will be changed to 'auto' in 0.22. Specify the multi_class option to silence this warning.\n",
      "  \"this warning.\", FutureWarning)\n",
      "/opt/anaconda3/lib/python3.7/site-packages/sklearn/linear_model/logistic.py:432: FutureWarning: Default solver will be changed to 'lbfgs' in 0.22. Specify a solver to silence this warning.\n",
      "  FutureWarning)\n",
      "/opt/anaconda3/lib/python3.7/site-packages/sklearn/linear_model/logistic.py:469: FutureWarning: Default multi_class will be changed to 'auto' in 0.22. Specify the multi_class option to silence this warning.\n",
      "  \"this warning.\", FutureWarning)\n",
      "/opt/anaconda3/lib/python3.7/site-packages/sklearn/linear_model/logistic.py:432: FutureWarning: Default solver will be changed to 'lbfgs' in 0.22. Specify a solver to silence this warning.\n",
      "  FutureWarning)\n",
      "/opt/anaconda3/lib/python3.7/site-packages/sklearn/linear_model/logistic.py:469: FutureWarning: Default multi_class will be changed to 'auto' in 0.22. Specify the multi_class option to silence this warning.\n",
      "  \"this warning.\", FutureWarning)\n",
      "/opt/anaconda3/lib/python3.7/site-packages/sklearn/linear_model/logistic.py:432: FutureWarning: Default solver will be changed to 'lbfgs' in 0.22. Specify a solver to silence this warning.\n",
      "  FutureWarning)\n",
      "/opt/anaconda3/lib/python3.7/site-packages/sklearn/linear_model/logistic.py:469: FutureWarning: Default multi_class will be changed to 'auto' in 0.22. Specify the multi_class option to silence this warning.\n",
      "  \"this warning.\", FutureWarning)\n",
      "/opt/anaconda3/lib/python3.7/site-packages/sklearn/linear_model/logistic.py:432: FutureWarning: Default solver will be changed to 'lbfgs' in 0.22. Specify a solver to silence this warning.\n",
      "  FutureWarning)\n",
      "/opt/anaconda3/lib/python3.7/site-packages/sklearn/linear_model/logistic.py:469: FutureWarning: Default multi_class will be changed to 'auto' in 0.22. Specify the multi_class option to silence this warning.\n",
      "  \"this warning.\", FutureWarning)\n",
      "/opt/anaconda3/lib/python3.7/site-packages/sklearn/linear_model/logistic.py:432: FutureWarning: Default solver will be changed to 'lbfgs' in 0.22. Specify a solver to silence this warning.\n",
      "  FutureWarning)\n",
      "/opt/anaconda3/lib/python3.7/site-packages/sklearn/linear_model/logistic.py:469: FutureWarning: Default multi_class will be changed to 'auto' in 0.22. Specify the multi_class option to silence this warning.\n",
      "  \"this warning.\", FutureWarning)\n",
      "/opt/anaconda3/lib/python3.7/site-packages/sklearn/linear_model/logistic.py:432: FutureWarning: Default solver will be changed to 'lbfgs' in 0.22. Specify a solver to silence this warning.\n",
      "  FutureWarning)\n",
      "/opt/anaconda3/lib/python3.7/site-packages/sklearn/linear_model/logistic.py:469: FutureWarning: Default multi_class will be changed to 'auto' in 0.22. Specify the multi_class option to silence this warning.\n",
      "  \"this warning.\", FutureWarning)\n"
     ]
    },
    {
     "name": "stderr",
     "output_type": "stream",
     "text": [
      "/opt/anaconda3/lib/python3.7/site-packages/sklearn/linear_model/logistic.py:432: FutureWarning: Default solver will be changed to 'lbfgs' in 0.22. Specify a solver to silence this warning.\n",
      "  FutureWarning)\n",
      "/opt/anaconda3/lib/python3.7/site-packages/sklearn/linear_model/logistic.py:469: FutureWarning: Default multi_class will be changed to 'auto' in 0.22. Specify the multi_class option to silence this warning.\n",
      "  \"this warning.\", FutureWarning)\n"
     ]
    },
    {
     "name": "stdout",
     "output_type": "stream",
     "text": [
      "--- 2690.433163166046 seconds ---\n"
     ]
    }
   ],
   "source": [
    "from sklearn.linear_model import LogisticRegression\n",
    "# lr = LogisticRegression()\n",
    "start_time = time.time() \n",
    "param_grid = {'C': [0.001, 0.01, 1, 5, 10, 25] }\n",
    "gscv2 = GridSearchCV(LogisticRegression(penalty='l2'), param_grid)\n",
    "GridSearchCV(cv = None,\n",
    "             estimator = LogisticRegression(C=1.0, intercept_scaling=1,\n",
    "                                          dual=False, fit_intercept=True, penalty='l2', tol=0.0001),\n",
    "             param_grid= {'C':[0.001, 0.01, 1, 5, 10, 25]},n_jobs=-1)\n",
    "\n",
    "gscv2.fit(train_x, train_y)\n",
    "\n",
    "print(\"--- %s seconds ---\" % (time.time() - start_time))"
   ]
  },
  {
   "cell_type": "code",
   "execution_count": 25,
   "metadata": {},
   "outputs": [
    {
     "data": {
      "text/plain": [
       "LogisticRegression(C=0.001, class_weight=None, dual=False, fit_intercept=True,\n",
       "                   intercept_scaling=1, l1_ratio=None, max_iter=100,\n",
       "                   multi_class='warn', n_jobs=None, penalty='l2',\n",
       "                   random_state=None, solver='warn', tol=0.0001, verbose=0,\n",
       "                   warm_start=False)"
      ]
     },
     "execution_count": 25,
     "metadata": {},
     "output_type": "execute_result"
    }
   ],
   "source": [
    "gscv2.best_estimator_\n",
    "# gscv2.best_params_"
   ]
  },
  {
   "cell_type": "code",
   "execution_count": 9,
   "metadata": {},
   "outputs": [
    {
     "name": "stdout",
     "output_type": "stream",
     "text": [
      "--- 4.925701141357422 seconds ---\n"
     ]
    },
    {
     "name": "stderr",
     "output_type": "stream",
     "text": [
      "/opt/anaconda3/lib/python3.7/site-packages/sklearn/linear_model/logistic.py:947: ConvergenceWarning: lbfgs failed to converge. Increase the number of iterations.\n",
      "  \"of iterations.\", ConvergenceWarning)\n"
     ]
    }
   ],
   "source": [
    "start_time = time.time() \n",
    "lr = LogisticRegression(C=0.001, class_weight=None, dual=False, fit_intercept=True,\n",
    "                   intercept_scaling=1, l1_ratio=None, max_iter=100,\n",
    "                   multi_class='auto', n_jobs=None, penalty='l2',\n",
    "                   random_state=None, tol=0.0001, verbose=0,\n",
    "                   warm_start=False,solver='lbfgs')\n",
    "lr_model = lr.fit(train_x,train_y)\n",
    "print(\"--- %s seconds ---\" % (time.time() - start_time))"
   ]
  },
  {
   "cell_type": "code",
   "execution_count": 10,
   "metadata": {},
   "outputs": [
    {
     "name": "stdout",
     "output_type": "stream",
     "text": [
      "Accuracy on the baseline model: 0.4940\n",
      "              precision    recall  f1-score   support\n",
      "\n",
      "           1       0.75      0.81      0.78        94\n",
      "           2       0.86      0.81      0.83        95\n",
      "           3       0.69      0.68      0.68       110\n",
      "           4       0.68      0.62      0.65        97\n",
      "           5       0.78      0.80      0.79        91\n",
      "           6       0.49      0.53      0.51        78\n",
      "           7       0.63      0.55      0.59        94\n",
      "           8       0.84      0.88      0.86       104\n",
      "           9       0.76      0.82      0.79        84\n",
      "          10       0.37      0.49      0.43        87\n",
      "          11       0.63      0.58      0.60        99\n",
      "          12       0.53      0.39      0.45        80\n",
      "          13       0.36      0.36      0.36        83\n",
      "          14       0.67      0.74      0.70        99\n",
      "          15       0.55      0.55      0.55        73\n",
      "          16       0.71      0.70      0.71        91\n",
      "          17       0.56      0.64      0.60       101\n",
      "          18       0.45      0.38      0.41        84\n",
      "          19       0.36      0.41      0.38        88\n",
      "          20       0.57      0.45      0.50        95\n",
      "          21       0.48      0.49      0.49        83\n",
      "          22       0.40      0.38      0.39        90\n",
      "\n",
      "    accuracy                           0.60      2000\n",
      "   macro avg       0.60      0.59      0.59      2000\n",
      "weighted avg       0.60      0.60      0.60      2000\n",
      "\n",
      "              precision    recall  f1-score   support\n",
      "\n",
      "           1       0.52      0.67      0.59        18\n",
      "           2       0.79      0.79      0.79        19\n",
      "           3       0.41      0.56      0.47        25\n",
      "           4       0.48      0.57      0.52        21\n",
      "           5       0.62      0.72      0.67        18\n",
      "           6       0.55      0.62      0.58        26\n",
      "           7       0.53      0.50      0.51        20\n",
      "           8       0.67      0.88      0.76        16\n",
      "           9       0.86      0.72      0.78        25\n",
      "          10       0.35      0.30      0.32        20\n",
      "          11       0.58      0.46      0.51        24\n",
      "          12       0.62      0.31      0.42        32\n",
      "          13       0.28      0.38      0.32        24\n",
      "          14       0.60      0.52      0.56        23\n",
      "          15       0.48      0.64      0.55        22\n",
      "          16       0.54      0.64      0.58        22\n",
      "          17       0.54      0.54      0.54        26\n",
      "          18       0.27      0.18      0.22        22\n",
      "          19       0.24      0.22      0.23        23\n",
      "          20       0.38      0.45      0.41        20\n",
      "          21       0.61      0.32      0.42        34\n",
      "          22       0.16      0.20      0.18        20\n",
      "\n",
      "    accuracy                           0.49       500\n",
      "   macro avg       0.50      0.51      0.50       500\n",
      "weighted avg       0.51      0.49      0.49       500\n",
      "\n"
     ]
    }
   ],
   "source": [
    "lr_test_pred = lr_model.predict(test_x)\n",
    "lr_accuracy = lr_model.score(test_x,test_y)\n",
    "print(\"Accuracy on the baseline model: %.4f\" % (lr_accuracy))\n",
    "lr_train_pred = lr_model.predict(train_x)\n",
    "print(classification_report(train_y, lr_train_pred))\n",
    "print(classification_report(test_y, lr_test_pred))"
   ]
  },
  {
   "cell_type": "code",
   "execution_count": 11,
   "metadata": {},
   "outputs": [
    {
     "name": "stderr",
     "output_type": "stream",
     "text": [
      "/opt/anaconda3/lib/python3.7/site-packages/sklearn/externals/joblib/__init__.py:15: DeprecationWarning: sklearn.externals.joblib is deprecated in 0.21 and will be removed in 0.23. Please import this functionality directly from joblib, which can be installed with: pip install joblib. If this warning is raised when loading pickled models, you may need to re-serialize those models with scikit-learn 0.21+.\n",
      "  warnings.warn(msg, category=DeprecationWarning)\n"
     ]
    },
    {
     "data": {
      "text/plain": [
       "['../output/logistic.m']"
      ]
     },
     "execution_count": 11,
     "metadata": {},
     "output_type": "execute_result"
    }
   ],
   "source": [
    "# save logistic model\n",
    "from sklearn.externals import joblib\n",
    "joblib.dump(lr_model,'../output/logistic.m')"
   ]
  },
  {
   "cell_type": "code",
   "execution_count": 12,
   "metadata": {},
   "outputs": [
    {
     "data": {
      "text/plain": [
       "<matplotlib.axes._subplots.AxesSubplot at 0x105254250>"
      ]
     },
     "execution_count": 12,
     "metadata": {},
     "output_type": "execute_result"
    },
    {
     "data": {
      "image/png": "[encoded data removed]",
      "text/plain": [
       "<Figure size 432x288 with 2 Axes>"
      ]
     },
     "metadata": {
      "needs_background": "light"
     },
     "output_type": "display_data"
    }
   ],
   "source": [
    "lr_xgb = confusion_matrix(test_y,lr_test_pred)\n",
    "sns.heatmap(lr_xgb)"
   ]
  },
  {
   "cell_type": "code",
   "execution_count": null,
   "metadata": {},
   "outputs": [],
   "source": []
  }
 ],
 "metadata": {
  "kernelspec": {
   "display_name": "Python 3",
   "language": "python",
   "name": "python3"
  },
  "language_info": {
   "codemirror_mode": {
    "name": "ipython",
    "version": 3
   },
   "file_extension": ".py",
   "mimetype": "text/x-python",
   "name": "python",
   "nbconvert_exporter": "python",
   "pygments_lexer": "ipython3",
   "version": "3.7.4"
  }
 },
 "nbformat": 4,
 "nbformat_minor": 2
}
