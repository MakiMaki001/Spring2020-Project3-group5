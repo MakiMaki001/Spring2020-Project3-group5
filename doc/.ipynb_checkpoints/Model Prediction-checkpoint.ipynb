{
 "cells": [
  {
   "cell_type": "code",
   "execution_count": 2,
   "metadata": {},
   "outputs": [],
   "source": [
    "import warnings\n",
    "warnings.filterwarnings(\"ignore\")"
   ]
  },
  {
   "cell_type": "code",
   "execution_count": 3,
   "metadata": {},
   "outputs": [
    {
     "name": "stderr",
     "output_type": "stream",
     "text": [
      "/opt/anaconda3/lib/python3.7/site-packages/sklearn/externals/joblib/__init__.py:15: DeprecationWarning: sklearn.externals.joblib is deprecated in 0.21 and will be removed in 0.23. Please import this functionality directly from joblib, which can be installed with: pip install joblib. If this warning is raised when loading pickled models, you may need to re-serialize those models with scikit-learn 0.21+.\n",
      "  warnings.warn(msg, category=DeprecationWarning)\n"
     ]
    }
   ],
   "source": [
    "import os\n",
    "import pandas as pd\n",
    "import numpy as np\n",
    "import scipy.io as scio\n",
    "from matplotlib import pyplot as plt\n",
    "import seaborn as sns\n",
    "import time\n",
    "from datetime import datetime\n",
    "from sklearn.decomposition import PCA\n",
    "from sklearn.model_selection import train_test_split\n",
    "from sklearn.metrics import classification_report\n",
    "from sklearn.metrics import confusion_matrix\n",
    "from sklearn.model_selection import GridSearchCV\n",
    "from sklearn.metrics import accuracy_score\n",
    "import time\n",
    "from sklearn.model_selection import cross_val_score\n",
    "from sklearn.model_selection import KFold\n",
    "from sklearn.externals import joblib\n",
    "from sklearn.ensemble import VotingClassifier\n",
    "from sklearn.ensemble import GradientBoostingClassifier\n",
    "from sklearn.linear_model import LogisticRegression\n",
    "from sklearn.svm import SVC\n",
    "from sklearn.discriminant_analysis import LinearDiscriminantAnalysis as LDA\n",
    "import xgboost\n",
    "from xgboost import XGBClassifier\n",
    "from sklearn.ensemble import RandomForestClassifier\n",
    "from sklearn.metrics import accuracy_score, roc_auc_score\n",
    "from scipy.io import loadmat\n",
    "import scipy"
   ]
  },
  {
   "cell_type": "markdown",
   "metadata": {},
   "source": [
    "## Feature Extraction"
   ]
  },
  {
   "cell_type": "markdown",
   "metadata": {},
   "source": [
    "### Path and Load"
   ]
  },
  {
   "cell_type": "code",
   "execution_count": 4,
   "metadata": {},
   "outputs": [],
   "source": [
    "class load():\n",
    "    def load_data(filename):\n",
    "        raw_data = pd.read_csv(filename)\n",
    "        raw_data['filename'] = [str(i).zfill(4)+'.jpg' for i in raw_data['Index'].tolist()]\n",
    "        raw_data['pointsname'] = [str(i).zfill(4)+'.mat' for i in raw_data['Index'].tolist()]\n",
    "        return raw_data\n",
    "\n",
    "    def load_points(points_path,data):\n",
    "        n = data.shape[0]\n",
    "        points_data = np.zeros([n,3003,2])\n",
    "        start_time = time.time()\n",
    "        for i in range(n):\n",
    "            result = loadmat(points_path+data['pointsname'][i])\n",
    "            key = sorted(result.keys())[-1]\n",
    "            points = result[key]\n",
    "            distance_h = []\n",
    "            distance_v = []\n",
    "            for d in range(points.shape[0]-1):\n",
    "                for j in range(d+1,points.shape[0]):\n",
    "                    distance_h.append(abs(points[d,0]-points[j,0]))\n",
    "                    distance_v.append(abs(points[d,1]-points[j,1]))\n",
    "\n",
    "            points_data[i,:,0]=distance_h\n",
    "            points_data[i,:,1]=distance_v\n",
    "        print(\"--- %s seconds ---\" % (time.time() - start_time))\n",
    "        return points_data.reshape([2500,6006])"
   ]
  },
  {
   "cell_type": "code",
   "execution_count": 5,
   "metadata": {},
   "outputs": [],
   "source": [
    "path = '/Users/zhaoziqin/Desktop/Applied Data Science/Spring2020-Project3-group5'\n",
    "\n",
    "trainpath = path+'/data/train_set/'\n",
    "testpath = path+'/data/test_set/'\n",
    "\n",
    "train_image = trainpath + \"images/\"\n",
    "train_point = trainpath + \"points/\"\n",
    "\n",
    "test_image = testpath + \"images/\"\n",
    "test_point = testpath + \"points/\"\n"
   ]
  },
  {
   "cell_type": "markdown",
   "metadata": {},
   "source": [
    "### Train Feature Extraction"
   ]
  },
  {
   "cell_type": "code",
   "execution_count": 7,
   "metadata": {},
   "outputs": [
    {
     "name": "stdout",
     "output_type": "stream",
     "text": [
      "--- 15.575760841369629 seconds ---\n"
     ]
    }
   ],
   "source": [
    "data = load.load_data(trainpath + 'label.csv')\n",
    "X = load.load_points(train_point,data)\n",
    "X = np.round(X,0)\n",
    "y= data['emotion_idx'].to_numpy()"
   ]
  },
  {
   "cell_type": "code",
   "execution_count": 8,
   "metadata": {},
   "outputs": [
    {
     "data": {
      "text/plain": [
       "array([[ 46.,   4.,  29., ..., 114.,   7.,  57.],\n",
       "       [ 44.,  12.,  27., ..., 117.,   1.,  59.],\n",
       "       [ 42.,   5.,  24., ..., 109.,   3.,  54.],\n",
       "       ...,\n",
       "       [ 29.,   7.,  16., ...,  89.,   0.,  45.],\n",
       "       [ 30.,   7.,  16., ..., 101.,   6.,  47.],\n",
       "       [ 38.,   6.,  17., ...,  99.,   1.,  50.]])"
      ]
     },
     "execution_count": 8,
     "metadata": {},
     "output_type": "execute_result"
    }
   ],
   "source": [
    "X"
   ]
  },
  {
   "cell_type": "code",
   "execution_count": 9,
   "metadata": {},
   "outputs": [
    {
     "data": {
      "text/plain": [
       "array([ 1,  1,  1, ..., 22, 22, 22])"
      ]
     },
     "execution_count": 9,
     "metadata": {},
     "output_type": "execute_result"
    }
   ],
   "source": [
    "y"
   ]
  },
  {
   "cell_type": "markdown",
   "metadata": {},
   "source": [
    "### Test Feature Extraction"
   ]
  },
  {
   "cell_type": "code",
   "execution_count": 16,
   "metadata": {},
   "outputs": [
    {
     "name": "stdout",
     "output_type": "stream",
     "text": [
      "--- 21.605776071548462 seconds ---\n"
     ]
    }
   ],
   "source": [
    "n = 2500\n",
    "points_data = np.zeros([n,3003,2])\n",
    "start_time = time.time()\n",
    "for i in range(n):\n",
    "    result = loadmat(test_point + [str(i+1).zfill(4)+'.mat' for i in range(2500)][i])\n",
    "    key = sorted(result.keys())[-1]\n",
    "    points = result[key]\n",
    "    distance_h = []\n",
    "    distance_v = []\n",
    "    for d in range(points.shape[0]-1):\n",
    "        for j in range(d+1,points.shape[0]):\n",
    "            distance_h.append(abs(points[d,0]-points[j,0]))\n",
    "            distance_v.append(abs(points[d,1]-points[j,1]))\n",
    "    points_data[i,:,0]=distance_h\n",
    "    points_data[i,:,1]=distance_v\n",
    "print(\"--- %s seconds ---\" % (time.time() - start_time))\n",
    "\n",
    "test_x = points_data.reshape([2500,6006])"
   ]
  },
  {
   "cell_type": "code",
   "execution_count": 17,
   "metadata": {},
   "outputs": [
    {
     "data": {
      "text/plain": [
       "array([[ 46.,   4.,  29., ..., 114.,   7.,  57.],\n",
       "       [ 44.,  12.,  27., ..., 117.,   1.,  59.],\n",
       "       [ 42.,   5.,  24., ..., 109.,   3.,  54.],\n",
       "       ...,\n",
       "       [ 29.,   7.,  16., ...,  89.,   0.,  45.],\n",
       "       [ 30.,   7.,  16., ..., 101.,   6.,  47.],\n",
       "       [ 38.,   6.,  17., ...,  99.,   1.,  50.]])"
      ]
     },
     "execution_count": 17,
     "metadata": {},
     "output_type": "execute_result"
    }
   ],
   "source": [
    "test_x = np.round(test_x,0)\n",
    "test_x"
   ]
  },
  {
   "cell_type": "code",
   "execution_count": 18,
   "metadata": {},
   "outputs": [
    {
     "data": {
      "text/plain": [
       "array([[ True,  True,  True, ...,  True,  True,  True],\n",
       "       [ True,  True,  True, ...,  True,  True,  True],\n",
       "       [ True,  True,  True, ...,  True,  True,  True],\n",
       "       ...,\n",
       "       [ True,  True,  True, ...,  True,  True,  True],\n",
       "       [ True,  True,  True, ...,  True,  True,  True],\n",
       "       [ True,  True,  True, ...,  True,  True,  True]])"
      ]
     },
     "execution_count": 18,
     "metadata": {},
     "output_type": "execute_result"
    }
   ],
   "source": [
    "test_x == X"
   ]
  },
  {
   "cell_type": "markdown",
   "metadata": {},
   "source": [
    "## Baseline Model --- Training"
   ]
  },
  {
   "cell_type": "code",
   "execution_count": 20,
   "metadata": {},
   "outputs": [
    {
     "name": "stdout",
     "output_type": "stream",
     "text": [
      "--- 682.0386118888855 seconds ---\n"
     ]
    }
   ],
   "source": [
    "start_time = time.time()\n",
    "baseline = GradientBoostingClassifier(n_estimators=100,max_depth= 1,learning_rate=0.1)\n",
    "gbm_model = baseline.fit(X,y) \n",
    "print(\"--- %s seconds ---\" % (time.time() - start_time))"
   ]
  },
  {
   "cell_type": "code",
   "execution_count": 27,
   "metadata": {},
   "outputs": [
    {
     "data": {
      "text/plain": [
       "['../output/Baseline_model.m']"
      ]
     },
     "execution_count": 27,
     "metadata": {},
     "output_type": "execute_result"
    }
   ],
   "source": [
    "joblib.dump(gbm_model,'../output/Baseline_model.m')"
   ]
  },
  {
   "cell_type": "markdown",
   "metadata": {},
   "source": [
    "## Advanced Model --- Training"
   ]
  },
  {
   "cell_type": "code",
   "execution_count": 28,
   "metadata": {},
   "outputs": [
    {
     "name": "stdout",
     "output_type": "stream",
     "text": [
      "Collecting package metadata (current_repodata.json): done\n",
      "Solving environment: done\n",
      "\n",
      "## Package Plan ##\n",
      "\n",
      "  environment location: /opt/anaconda3\n",
      "\n",
      "  added / updated specs:\n",
      "    - keras\n",
      "\n",
      "\n",
      "The following packages will be downloaded:\n",
      "\n",
      "    package                    |            build\n",
      "    ---------------------------|-----------------\n",
      "    conda-4.8.3                |           py37_0         2.8 MB\n",
      "    openssl-1.1.1d             |       h1de35cc_2         2.2 MB\n",
      "    ------------------------------------------------------------\n",
      "                                           Total:         5.0 MB\n",
      "\n",
      "The following packages will be SUPERSEDED by a higher-priority channel:\n",
      "\n",
      "  conda                                            anaconda --> pkgs/main\n",
      "  openssl                                          anaconda --> pkgs/main\n",
      "\n",
      "\n",
      "\n",
      "Downloading and Extracting Packages\n",
      "openssl-1.1.1d       | 2.2 MB    | ##################################### | 100% \n",
      "conda-4.8.3          | 2.8 MB    | ##################################### | 100% \n",
      "Preparing transaction: done\n",
      "Verifying transaction: done\n",
      "Executing transaction: done\n",
      "\n",
      "Note: you may need to restart the kernel to use updated packages.\n"
     ]
    }
   ],
   "source": [
    "conda install keras"
   ]
  },
  {
   "cell_type": "code",
   "execution_count": 29,
   "metadata": {},
   "outputs": [
    {
     "name": "stdout",
     "output_type": "stream",
     "text": [
      "Collecting package metadata (current_repodata.json): done\n",
      "Solving environment: done\n",
      "\n",
      "# All requested packages already installed.\n",
      "\n",
      "\n",
      "Note: you may need to restart the kernel to use updated packages.\n"
     ]
    }
   ],
   "source": [
    "conda install tensorflow"
   ]
  },
  {
   "cell_type": "code",
   "execution_count": 30,
   "metadata": {},
   "outputs": [
    {
     "name": "stderr",
     "output_type": "stream",
     "text": [
      "Using TensorFlow backend.\n"
     ]
    }
   ],
   "source": [
    "import tensorflow\n",
    "import keras\n",
    "from keras.utils import to_categorical\n",
    "import matplotlib.pyplot as plt\n",
    "from tensorflow.keras.models import Sequential\n",
    "from keras.layers import Dense, Activation, Flatten, Input, Dropout\n",
    "from keras.layers import BatchNormalization\n",
    "from keras.models import Model\n",
    "from keras import initializers\n",
    "from keras.optimizers import Adam\n",
    "from keras.utils import to_categorical"
   ]
  },
  {
   "cell_type": "markdown",
   "metadata": {},
   "source": [
    "#### Model Fitting"
   ]
  },
  {
   "cell_type": "code",
   "execution_count": 31,
   "metadata": {},
   "outputs": [],
   "source": [
    "Y = to_categorical(y)\n",
    "Y = Y[:,1:]"
   ]
  },
  {
   "cell_type": "code",
   "execution_count": 32,
   "metadata": {},
   "outputs": [],
   "source": [
    "input_shape = [6006] \n",
    "input_layer = Input(input_shape)\n",
    "x = BatchNormalization(momentum = 0.88)(input_layer) \n",
    "x = Dense(22*10,activation='relu',kernel_initializer=initializers.glorot_normal(seed=6))(x)\n",
    "x = Dropout(0.25)(x)\n",
    "x = BatchNormalization()(x) \n",
    "x = Dense(22*8,activation='relu',kernel_initializer=initializers.glorot_normal(seed=6))(x)\n",
    "x = Dropout(0.25)(x)\n",
    "x = Dense(22*4,activation='relu',kernel_initializer=initializers.glorot_normal(seed=6))(x)\n",
    "x = Dropout(0.25)(x)\n",
    "x = Dense(22*2,activation='relu',kernel_initializer=initializers.glorot_normal(seed=6))(x)\n",
    "output_layer = Dense(22,activation='softmax',kernel_initializer=initializers.glorot_normal(seed=6))(x) \n",
    "model = Model(input_layer,output_layer)"
   ]
  },
  {
   "cell_type": "code",
   "execution_count": 33,
   "metadata": {},
   "outputs": [
    {
     "name": "stdout",
     "output_type": "stream",
     "text": [
      "Epoch 1/200\n",
      "2500/2500 [==============================] - 10s 4ms/step - loss: 3.0250 - accuracy: 0.0948\n",
      "Epoch 2/200\n",
      "2500/2500 [==============================] - 5s 2ms/step - loss: 2.5314 - accuracy: 0.1936\n",
      "Epoch 3/200\n",
      "2500/2500 [==============================] - 5s 2ms/step - loss: 2.2103 - accuracy: 0.2688\n",
      "Epoch 4/200\n",
      "2500/2500 [==============================] - 5s 2ms/step - loss: 2.0393 - accuracy: 0.3084\n",
      "Epoch 5/200\n",
      "2500/2500 [==============================] - 5s 2ms/step - loss: 1.9423 - accuracy: 0.3404\n",
      "Epoch 6/200\n",
      "2500/2500 [==============================] - 5s 2ms/step - loss: 1.8313 - accuracy: 0.3868\n",
      "Epoch 7/200\n",
      "2500/2500 [==============================] - 5s 2ms/step - loss: 1.7731 - accuracy: 0.3964\n",
      "Epoch 8/200\n",
      "2500/2500 [==============================] - 5s 2ms/step - loss: 1.6873 - accuracy: 0.4224\n",
      "Epoch 9/200\n",
      "2500/2500 [==============================] - 5s 2ms/step - loss: 1.6427 - accuracy: 0.4348\n",
      "Epoch 10/200\n",
      "2500/2500 [==============================] - 5s 2ms/step - loss: 1.6065 - accuracy: 0.4436\n",
      "Epoch 11/200\n",
      "2500/2500 [==============================] - 5s 2ms/step - loss: 1.5866 - accuracy: 0.4516\n",
      "Epoch 12/200\n",
      "2500/2500 [==============================] - 5s 2ms/step - loss: 1.5245 - accuracy: 0.4792\n",
      "Epoch 13/200\n",
      "2500/2500 [==============================] - 5s 2ms/step - loss: 1.4727 - accuracy: 0.5024\n",
      "Epoch 14/200\n",
      "2500/2500 [==============================] - 5s 2ms/step - loss: 1.4267 - accuracy: 0.5100\n",
      "Epoch 15/200\n",
      "2500/2500 [==============================] - 5s 2ms/step - loss: 1.3816 - accuracy: 0.5172\n",
      "Epoch 16/200\n",
      "2500/2500 [==============================] - 5s 2ms/step - loss: 1.3641 - accuracy: 0.5284\n",
      "Epoch 17/200\n",
      "2500/2500 [==============================] - 5s 2ms/step - loss: 1.3430 - accuracy: 0.5228\n",
      "Epoch 18/200\n",
      "2500/2500 [==============================] - 5s 2ms/step - loss: 1.3495 - accuracy: 0.5244\n",
      "Epoch 19/200\n",
      "2500/2500 [==============================] - 5s 2ms/step - loss: 1.2792 - accuracy: 0.5616\n",
      "Epoch 20/200\n",
      "2500/2500 [==============================] - 5s 2ms/step - loss: 1.3026 - accuracy: 0.5520\n",
      "Epoch 21/200\n",
      "2500/2500 [==============================] - 5s 2ms/step - loss: 1.2384 - accuracy: 0.5572\n",
      "Epoch 22/200\n",
      "2500/2500 [==============================] - 5s 2ms/step - loss: 1.2351 - accuracy: 0.5676\n",
      "Epoch 23/200\n",
      "2500/2500 [==============================] - 5s 2ms/step - loss: 1.1859 - accuracy: 0.5844\n",
      "Epoch 24/200\n",
      "2500/2500 [==============================] - 5s 2ms/step - loss: 1.2021 - accuracy: 0.5736\n",
      "Epoch 25/200\n",
      "2500/2500 [==============================] - 5s 2ms/step - loss: 1.1774 - accuracy: 0.6000\n",
      "Epoch 26/200\n",
      "2500/2500 [==============================] - 5s 2ms/step - loss: 1.1704 - accuracy: 0.5944\n",
      "Epoch 27/200\n",
      "2500/2500 [==============================] - 5s 2ms/step - loss: 1.1536 - accuracy: 0.6020\n",
      "Epoch 28/200\n",
      "2500/2500 [==============================] - 5s 2ms/step - loss: 1.1259 - accuracy: 0.6144\n",
      "Epoch 29/200\n",
      "2500/2500 [==============================] - 5s 2ms/step - loss: 1.0673 - accuracy: 0.6312\n",
      "Epoch 30/200\n",
      "2500/2500 [==============================] - 5s 2ms/step - loss: 1.1058 - accuracy: 0.6172\n",
      "Epoch 31/200\n",
      "2500/2500 [==============================] - 5s 2ms/step - loss: 1.0959 - accuracy: 0.6196\n",
      "Epoch 32/200\n",
      "2500/2500 [==============================] - 5s 2ms/step - loss: 1.1239 - accuracy: 0.6080\n",
      "Epoch 33/200\n",
      "2500/2500 [==============================] - 5s 2ms/step - loss: 1.0628 - accuracy: 0.6292\n",
      "Epoch 34/200\n",
      "2500/2500 [==============================] - 5s 2ms/step - loss: 1.0138 - accuracy: 0.6520\n",
      "Epoch 35/200\n",
      "2500/2500 [==============================] - 5s 2ms/step - loss: 1.0161 - accuracy: 0.6396\n",
      "Epoch 36/200\n",
      "2500/2500 [==============================] - 5s 2ms/step - loss: 1.0473 - accuracy: 0.6344\n",
      "Epoch 37/200\n",
      "2500/2500 [==============================] - 5s 2ms/step - loss: 1.0109 - accuracy: 0.6544\n",
      "Epoch 38/200\n",
      "2500/2500 [==============================] - 5s 2ms/step - loss: 0.9390 - accuracy: 0.6656\n",
      "Epoch 39/200\n",
      "2500/2500 [==============================] - 5s 2ms/step - loss: 0.9778 - accuracy: 0.6624\n",
      "Epoch 40/200\n",
      "2500/2500 [==============================] - 5s 2ms/step - loss: 0.9396 - accuracy: 0.6712\n",
      "Epoch 41/200\n",
      "2500/2500 [==============================] - 5s 2ms/step - loss: 0.9131 - accuracy: 0.6752\n",
      "Epoch 42/200\n",
      "2500/2500 [==============================] - 5s 2ms/step - loss: 0.9052 - accuracy: 0.6864\n",
      "Epoch 43/200\n",
      "2500/2500 [==============================] - 5s 2ms/step - loss: 0.8964 - accuracy: 0.6980\n",
      "Epoch 44/200\n",
      "2500/2500 [==============================] - 5s 2ms/step - loss: 0.9269 - accuracy: 0.6780\n",
      "Epoch 45/200\n",
      "2500/2500 [==============================] - 5s 2ms/step - loss: 0.8560 - accuracy: 0.7072\n",
      "Epoch 46/200\n",
      "2500/2500 [==============================] - 5s 2ms/step - loss: 0.8586 - accuracy: 0.6996\n",
      "Epoch 47/200\n",
      "2500/2500 [==============================] - 5s 2ms/step - loss: 0.8459 - accuracy: 0.7096\n",
      "Epoch 48/200\n",
      "2500/2500 [==============================] - 6s 3ms/step - loss: 0.8341 - accuracy: 0.7148\n",
      "Epoch 49/200\n",
      "2500/2500 [==============================] - 5s 2ms/step - loss: 0.8609 - accuracy: 0.7096\n",
      "Epoch 50/200\n",
      "2500/2500 [==============================] - 6s 2ms/step - loss: 0.8101 - accuracy: 0.7168\n",
      "Epoch 51/200\n",
      "2500/2500 [==============================] - 6s 3ms/step - loss: 0.8650 - accuracy: 0.6980\n",
      "Epoch 52/200\n",
      "2500/2500 [==============================] - 6s 3ms/step - loss: 0.8180 - accuracy: 0.7248\n",
      "Epoch 53/200\n",
      "2500/2500 [==============================] - 6s 2ms/step - loss: 0.8379 - accuracy: 0.7112\n",
      "Epoch 54/200\n",
      "2500/2500 [==============================] - 5s 2ms/step - loss: 0.8327 - accuracy: 0.7124\n",
      "Epoch 55/200\n",
      "2500/2500 [==============================] - 5s 2ms/step - loss: 0.7777 - accuracy: 0.7284\n",
      "Epoch 56/200\n",
      "2500/2500 [==============================] - 5s 2ms/step - loss: 0.8092 - accuracy: 0.7252\n",
      "Epoch 57/200\n",
      "2500/2500 [==============================] - 5s 2ms/step - loss: 0.7966 - accuracy: 0.7336\n",
      "Epoch 58/200\n",
      "2500/2500 [==============================] - 5s 2ms/step - loss: 0.7478 - accuracy: 0.7452\n",
      "Epoch 59/200\n",
      "2500/2500 [==============================] - 5s 2ms/step - loss: 0.7493 - accuracy: 0.7404\n",
      "Epoch 60/200\n",
      "2500/2500 [==============================] - 6s 2ms/step - loss: 0.7647 - accuracy: 0.7488\n",
      "Epoch 61/200\n",
      "2500/2500 [==============================] - 7s 3ms/step - loss: 0.7501 - accuracy: 0.7416\n",
      "Epoch 62/200\n",
      "2500/2500 [==============================] - 5s 2ms/step - loss: 0.7456 - accuracy: 0.7440\n",
      "Epoch 63/200\n",
      "2500/2500 [==============================] - 5s 2ms/step - loss: 0.7071 - accuracy: 0.7576\n",
      "Epoch 64/200\n",
      "2500/2500 [==============================] - 5s 2ms/step - loss: 0.6926 - accuracy: 0.7608\n",
      "Epoch 65/200\n",
      "2500/2500 [==============================] - 4s 2ms/step - loss: 0.7078 - accuracy: 0.7596\n",
      "Epoch 66/200\n",
      "2500/2500 [==============================] - 4s 2ms/step - loss: 0.6906 - accuracy: 0.7652\n",
      "Epoch 67/200\n",
      "2500/2500 [==============================] - 5s 2ms/step - loss: 0.6864 - accuracy: 0.7612\n",
      "Epoch 68/200\n",
      "2500/2500 [==============================] - 5s 2ms/step - loss: 0.6428 - accuracy: 0.7740\n",
      "Epoch 69/200\n",
      "2500/2500 [==============================] - 5s 2ms/step - loss: 0.7181 - accuracy: 0.7600\n",
      "Epoch 70/200\n",
      "2500/2500 [==============================] - 5s 2ms/step - loss: 0.6805 - accuracy: 0.7624\n",
      "Epoch 71/200\n",
      "2500/2500 [==============================] - 5s 2ms/step - loss: 0.6785 - accuracy: 0.7628\n",
      "Epoch 72/200\n",
      "2500/2500 [==============================] - 5s 2ms/step - loss: 0.6421 - accuracy: 0.7736\n",
      "Epoch 73/200\n",
      "2500/2500 [==============================] - 5s 2ms/step - loss: 0.6197 - accuracy: 0.7844\n",
      "Epoch 74/200\n",
      "2500/2500 [==============================] - 5s 2ms/step - loss: 0.6332 - accuracy: 0.7856\n",
      "Epoch 75/200\n",
      "2500/2500 [==============================] - 5s 2ms/step - loss: 0.6544 - accuracy: 0.7764\n",
      "Epoch 76/200\n",
      "2500/2500 [==============================] - 6s 2ms/step - loss: 0.5851 - accuracy: 0.7972\n",
      "Epoch 77/200\n",
      "2500/2500 [==============================] - 5s 2ms/step - loss: 0.6266 - accuracy: 0.7872\n",
      "Epoch 78/200\n",
      "2500/2500 [==============================] - 5s 2ms/step - loss: 0.6126 - accuracy: 0.7852\n",
      "Epoch 79/200\n",
      "2500/2500 [==============================] - 5s 2ms/step - loss: 0.5646 - accuracy: 0.8048\n",
      "Epoch 80/200\n",
      "2500/2500 [==============================] - 5s 2ms/step - loss: 0.6011 - accuracy: 0.7888\n",
      "Epoch 81/200\n",
      "2500/2500 [==============================] - 5s 2ms/step - loss: 0.5865 - accuracy: 0.7912\n",
      "Epoch 82/200\n",
      "2500/2500 [==============================] - 5s 2ms/step - loss: 0.5778 - accuracy: 0.8008\n",
      "Epoch 83/200\n",
      "2500/2500 [==============================] - 5s 2ms/step - loss: 0.5617 - accuracy: 0.7944\n",
      "Epoch 84/200\n",
      "2500/2500 [==============================] - 5s 2ms/step - loss: 0.6069 - accuracy: 0.7928\n",
      "Epoch 85/200\n",
      "2500/2500 [==============================] - 5s 2ms/step - loss: 0.5759 - accuracy: 0.8072\n",
      "Epoch 86/200\n",
      "2500/2500 [==============================] - 5s 2ms/step - loss: 0.5906 - accuracy: 0.7936\n",
      "Epoch 87/200\n",
      "2500/2500 [==============================] - 5s 2ms/step - loss: 0.5657 - accuracy: 0.8064\n",
      "Epoch 88/200\n",
      "2500/2500 [==============================] - 5s 2ms/step - loss: 0.5666 - accuracy: 0.8128\n",
      "Epoch 89/200\n",
      "2500/2500 [==============================] - 5s 2ms/step - loss: 0.5500 - accuracy: 0.8208\n",
      "Epoch 90/200\n",
      "2500/2500 [==============================] - 5s 2ms/step - loss: 0.5796 - accuracy: 0.8016\n",
      "Epoch 91/200\n",
      "2500/2500 [==============================] - 5s 2ms/step - loss: 0.5367 - accuracy: 0.8180\n",
      "Epoch 92/200\n",
      "2500/2500 [==============================] - 5s 2ms/step - loss: 0.5437 - accuracy: 0.8220\n",
      "Epoch 93/200\n",
      "2500/2500 [==============================] - 5s 2ms/step - loss: 0.5584 - accuracy: 0.8004\n",
      "Epoch 94/200\n",
      "2500/2500 [==============================] - 5s 2ms/step - loss: 0.5063 - accuracy: 0.8328\n",
      "Epoch 95/200\n",
      "2500/2500 [==============================] - 5s 2ms/step - loss: 0.5472 - accuracy: 0.8068\n",
      "Epoch 96/200\n",
      "2500/2500 [==============================] - 5s 2ms/step - loss: 0.5061 - accuracy: 0.8264\n",
      "Epoch 97/200\n",
      "2500/2500 [==============================] - 6s 2ms/step - loss: 0.5103 - accuracy: 0.8248\n",
      "Epoch 98/200\n",
      "2500/2500 [==============================] - 5s 2ms/step - loss: 0.5057 - accuracy: 0.8292\n",
      "Epoch 99/200\n",
      "2500/2500 [==============================] - 5s 2ms/step - loss: 0.4921 - accuracy: 0.8280\n",
      "Epoch 100/200\n",
      "2500/2500 [==============================] - 6s 2ms/step - loss: 0.5206 - accuracy: 0.8332\n",
      "Epoch 101/200\n",
      "2500/2500 [==============================] - 5s 2ms/step - loss: 0.5435 - accuracy: 0.8272\n",
      "Epoch 102/200\n",
      "2500/2500 [==============================] - 5s 2ms/step - loss: 0.5223 - accuracy: 0.8264\n",
      "Epoch 103/200\n",
      "2500/2500 [==============================] - 5s 2ms/step - loss: 0.5099 - accuracy: 0.8208\n",
      "Epoch 104/200\n",
      "2500/2500 [==============================] - 5s 2ms/step - loss: 0.4987 - accuracy: 0.8348\n",
      "Epoch 105/200\n",
      "2500/2500 [==============================] - 5s 2ms/step - loss: 0.5020 - accuracy: 0.8320\n",
      "Epoch 106/200\n",
      "2500/2500 [==============================] - 5s 2ms/step - loss: 0.4853 - accuracy: 0.8308\n",
      "Epoch 107/200\n",
      "2500/2500 [==============================] - 5s 2ms/step - loss: 0.4727 - accuracy: 0.8440\n",
      "Epoch 108/200\n",
      "2500/2500 [==============================] - 5s 2ms/step - loss: 0.5073 - accuracy: 0.8324\n",
      "Epoch 109/200\n",
      "2500/2500 [==============================] - 5s 2ms/step - loss: 0.4864 - accuracy: 0.8364\n",
      "Epoch 110/200\n",
      "2500/2500 [==============================] - 5s 2ms/step - loss: 0.4545 - accuracy: 0.8412\n",
      "Epoch 111/200\n",
      "2500/2500 [==============================] - 5s 2ms/step - loss: 0.4450 - accuracy: 0.8496\n",
      "Epoch 112/200\n",
      "2500/2500 [==============================] - 5s 2ms/step - loss: 0.4512 - accuracy: 0.8500\n",
      "Epoch 113/200\n",
      "2500/2500 [==============================] - 5s 2ms/step - loss: 0.4398 - accuracy: 0.8524\n",
      "Epoch 114/200\n",
      "2500/2500 [==============================] - 5s 2ms/step - loss: 0.4763 - accuracy: 0.8360\n",
      "Epoch 115/200\n",
      "2500/2500 [==============================] - 5s 2ms/step - loss: 0.4806 - accuracy: 0.8432\n",
      "Epoch 116/200\n",
      "2500/2500 [==============================] - 5s 2ms/step - loss: 0.4613 - accuracy: 0.8500\n",
      "Epoch 117/200\n",
      "2500/2500 [==============================] - 5s 2ms/step - loss: 0.4291 - accuracy: 0.8584\n",
      "Epoch 118/200\n",
      "2500/2500 [==============================] - 5s 2ms/step - loss: 0.4228 - accuracy: 0.8624\n",
      "Epoch 119/200\n",
      "2500/2500 [==============================] - 5s 2ms/step - loss: 0.4092 - accuracy: 0.8612\n",
      "Epoch 120/200\n",
      "2500/2500 [==============================] - 5s 2ms/step - loss: 0.4506 - accuracy: 0.8472\n",
      "Epoch 121/200\n",
      "2500/2500 [==============================] - 5s 2ms/step - loss: 0.4136 - accuracy: 0.8600\n",
      "Epoch 122/200\n",
      "2500/2500 [==============================] - 5s 2ms/step - loss: 0.4231 - accuracy: 0.8516\n",
      "Epoch 123/200\n",
      "2500/2500 [==============================] - 5s 2ms/step - loss: 0.4170 - accuracy: 0.8640\n",
      "Epoch 124/200\n",
      "2500/2500 [==============================] - 5s 2ms/step - loss: 0.3976 - accuracy: 0.8612\n",
      "Epoch 125/200\n",
      "2500/2500 [==============================] - 5s 2ms/step - loss: 0.4125 - accuracy: 0.8580\n",
      "Epoch 126/200\n",
      "2500/2500 [==============================] - 6s 2ms/step - loss: 0.4077 - accuracy: 0.8660\n",
      "Epoch 127/200\n",
      "2500/2500 [==============================] - 5s 2ms/step - loss: 0.4082 - accuracy: 0.8616\n",
      "Epoch 128/200\n",
      "2500/2500 [==============================] - 6s 2ms/step - loss: 0.4297 - accuracy: 0.8556\n",
      "Epoch 129/200\n",
      "2500/2500 [==============================] - 5s 2ms/step - loss: 0.3797 - accuracy: 0.8752\n",
      "Epoch 130/200\n",
      "2500/2500 [==============================] - 5s 2ms/step - loss: 0.4103 - accuracy: 0.8660\n",
      "Epoch 131/200\n",
      "2500/2500 [==============================] - 5s 2ms/step - loss: 0.3993 - accuracy: 0.8700\n",
      "Epoch 132/200\n",
      "2500/2500 [==============================] - 5s 2ms/step - loss: 0.4061 - accuracy: 0.8680\n",
      "Epoch 133/200\n",
      "2500/2500 [==============================] - 5s 2ms/step - loss: 0.4032 - accuracy: 0.8676\n",
      "Epoch 134/200\n",
      "2500/2500 [==============================] - 5s 2ms/step - loss: 0.3823 - accuracy: 0.8684\n",
      "Epoch 135/200\n",
      "2500/2500 [==============================] - 5s 2ms/step - loss: 0.3952 - accuracy: 0.8640\n",
      "Epoch 136/200\n",
      "2500/2500 [==============================] - 5s 2ms/step - loss: 0.4151 - accuracy: 0.8660\n",
      "Epoch 137/200\n",
      "2500/2500 [==============================] - 5s 2ms/step - loss: 0.4238 - accuracy: 0.8560\n",
      "Epoch 138/200\n",
      "2500/2500 [==============================] - 5s 2ms/step - loss: 0.3894 - accuracy: 0.8728\n",
      "Epoch 139/200\n",
      "2500/2500 [==============================] - 5s 2ms/step - loss: 0.3885 - accuracy: 0.8704\n",
      "Epoch 140/200\n",
      "2500/2500 [==============================] - 5s 2ms/step - loss: 0.3590 - accuracy: 0.8800\n",
      "Epoch 141/200\n",
      "2500/2500 [==============================] - 5s 2ms/step - loss: 0.3390 - accuracy: 0.8916\n",
      "Epoch 142/200\n",
      "2500/2500 [==============================] - 5s 2ms/step - loss: 0.3562 - accuracy: 0.8820\n",
      "Epoch 143/200\n",
      "2500/2500 [==============================] - 5s 2ms/step - loss: 0.3370 - accuracy: 0.8948\n",
      "Epoch 144/200\n",
      "2500/2500 [==============================] - 5s 2ms/step - loss: 0.3433 - accuracy: 0.8876\n",
      "Epoch 145/200\n",
      "2500/2500 [==============================] - 5s 2ms/step - loss: 0.3469 - accuracy: 0.8828\n",
      "Epoch 146/200\n",
      "2500/2500 [==============================] - 5s 2ms/step - loss: 0.3412 - accuracy: 0.8884\n",
      "Epoch 147/200\n",
      "2500/2500 [==============================] - 5s 2ms/step - loss: 0.3734 - accuracy: 0.8776\n",
      "Epoch 148/200\n",
      "2500/2500 [==============================] - 5s 2ms/step - loss: 0.3585 - accuracy: 0.8808\n",
      "Epoch 149/200\n",
      "2500/2500 [==============================] - 5s 2ms/step - loss: 0.3441 - accuracy: 0.8852\n",
      "Epoch 150/200\n",
      "2500/2500 [==============================] - 5s 2ms/step - loss: 0.3522 - accuracy: 0.8852\n",
      "Epoch 151/200\n",
      "2500/2500 [==============================] - 5s 2ms/step - loss: 0.3560 - accuracy: 0.8916\n",
      "Epoch 152/200\n",
      "2500/2500 [==============================] - 5s 2ms/step - loss: 0.3240 - accuracy: 0.8908\n",
      "Epoch 153/200\n",
      "2500/2500 [==============================] - 5s 2ms/step - loss: 0.3888 - accuracy: 0.8796\n",
      "Epoch 154/200\n",
      "2500/2500 [==============================] - 5s 2ms/step - loss: 0.3816 - accuracy: 0.8736\n",
      "Epoch 155/200\n",
      "2500/2500 [==============================] - 6s 2ms/step - loss: 0.3672 - accuracy: 0.8776\n",
      "Epoch 156/200\n",
      "2500/2500 [==============================] - 5s 2ms/step - loss: 0.3564 - accuracy: 0.8804\n",
      "Epoch 157/200\n"
     ]
    },
    {
     "name": "stdout",
     "output_type": "stream",
     "text": [
      "2500/2500 [==============================] - 5s 2ms/step - loss: 0.3401 - accuracy: 0.8940\n",
      "Epoch 158/200\n",
      "2500/2500 [==============================] - 5s 2ms/step - loss: 0.3190 - accuracy: 0.8984\n",
      "Epoch 159/200\n",
      "2500/2500 [==============================] - 5s 2ms/step - loss: 0.3348 - accuracy: 0.8860\n",
      "Epoch 160/200\n",
      "2500/2500 [==============================] - 7s 3ms/step - loss: 0.3524 - accuracy: 0.8892\n",
      "Epoch 161/200\n",
      "2500/2500 [==============================] - 6s 3ms/step - loss: 0.3544 - accuracy: 0.8828\n",
      "Epoch 162/200\n",
      "2500/2500 [==============================] - 5s 2ms/step - loss: 0.3471 - accuracy: 0.8876\n",
      "Epoch 163/200\n",
      "2500/2500 [==============================] - 5s 2ms/step - loss: 0.3459 - accuracy: 0.8908\n",
      "Epoch 164/200\n",
      "2500/2500 [==============================] - 5s 2ms/step - loss: 0.3634 - accuracy: 0.8820\n",
      "Epoch 165/200\n",
      "2500/2500 [==============================] - 5s 2ms/step - loss: 0.3074 - accuracy: 0.9064\n",
      "Epoch 166/200\n",
      "2500/2500 [==============================] - 5s 2ms/step - loss: 0.2916 - accuracy: 0.9048\n",
      "Epoch 167/200\n",
      "2500/2500 [==============================] - 5s 2ms/step - loss: 0.3345 - accuracy: 0.8948\n",
      "Epoch 168/200\n",
      "2500/2500 [==============================] - 6s 2ms/step - loss: 0.2937 - accuracy: 0.9028\n",
      "Epoch 169/200\n",
      "2500/2500 [==============================] - 5s 2ms/step - loss: 0.3040 - accuracy: 0.8984\n",
      "Epoch 170/200\n",
      "2500/2500 [==============================] - 5s 2ms/step - loss: 0.3056 - accuracy: 0.9032\n",
      "Epoch 171/200\n",
      "2500/2500 [==============================] - 6s 3ms/step - loss: 0.2986 - accuracy: 0.8988\n",
      "Epoch 172/200\n",
      "2500/2500 [==============================] - 5s 2ms/step - loss: 0.2681 - accuracy: 0.9124\n",
      "Epoch 173/200\n",
      "2500/2500 [==============================] - 5s 2ms/step - loss: 0.3044 - accuracy: 0.9000\n",
      "Epoch 174/200\n",
      "2500/2500 [==============================] - 5s 2ms/step - loss: 0.3404 - accuracy: 0.8936\n",
      "Epoch 175/200\n",
      "2500/2500 [==============================] - 5s 2ms/step - loss: 0.2981 - accuracy: 0.8972\n",
      "Epoch 176/200\n",
      "2500/2500 [==============================] - 5s 2ms/step - loss: 0.3030 - accuracy: 0.9040\n",
      "Epoch 177/200\n",
      "2500/2500 [==============================] - 5s 2ms/step - loss: 0.3000 - accuracy: 0.9032\n",
      "Epoch 178/200\n",
      "2500/2500 [==============================] - 5s 2ms/step - loss: 0.3327 - accuracy: 0.8976\n",
      "Epoch 179/200\n",
      "2500/2500 [==============================] - 5s 2ms/step - loss: 0.2988 - accuracy: 0.9040\n",
      "Epoch 180/200\n",
      "2500/2500 [==============================] - 6s 2ms/step - loss: 0.3081 - accuracy: 0.8960\n",
      "Epoch 181/200\n",
      "2500/2500 [==============================] - 5s 2ms/step - loss: 0.3388 - accuracy: 0.8896\n",
      "Epoch 182/200\n",
      "2500/2500 [==============================] - 5s 2ms/step - loss: 0.2633 - accuracy: 0.9152\n",
      "Epoch 183/200\n",
      "2500/2500 [==============================] - 5s 2ms/step - loss: 0.2958 - accuracy: 0.8984\n",
      "Epoch 184/200\n",
      "2500/2500 [==============================] - 5s 2ms/step - loss: 0.2920 - accuracy: 0.9032\n",
      "Epoch 185/200\n",
      "2500/2500 [==============================] - 5s 2ms/step - loss: 0.2861 - accuracy: 0.9088\n",
      "Epoch 186/200\n",
      "2500/2500 [==============================] - 5s 2ms/step - loss: 0.2811 - accuracy: 0.9100\n",
      "Epoch 187/200\n",
      "2500/2500 [==============================] - 5s 2ms/step - loss: 0.2648 - accuracy: 0.9156\n",
      "Epoch 188/200\n",
      "2500/2500 [==============================] - 5s 2ms/step - loss: 0.2603 - accuracy: 0.9144\n",
      "Epoch 189/200\n",
      "2500/2500 [==============================] - 5s 2ms/step - loss: 0.2801 - accuracy: 0.9052\n",
      "Epoch 190/200\n",
      "2500/2500 [==============================] - 5s 2ms/step - loss: 0.2764 - accuracy: 0.9124\n",
      "Epoch 191/200\n",
      "2500/2500 [==============================] - 5s 2ms/step - loss: 0.2936 - accuracy: 0.9092\n",
      "Epoch 192/200\n",
      "2500/2500 [==============================] - 5s 2ms/step - loss: 0.2712 - accuracy: 0.9108\n",
      "Epoch 193/200\n",
      "2500/2500 [==============================] - 5s 2ms/step - loss: 0.2494 - accuracy: 0.9212\n",
      "Epoch 194/200\n",
      "2500/2500 [==============================] - 5s 2ms/step - loss: 0.2964 - accuracy: 0.9004\n",
      "Epoch 195/200\n",
      "2500/2500 [==============================] - 5s 2ms/step - loss: 0.2801 - accuracy: 0.9132\n",
      "Epoch 196/200\n",
      "2500/2500 [==============================] - 5s 2ms/step - loss: 0.2762 - accuracy: 0.9064\n",
      "Epoch 197/200\n",
      "2500/2500 [==============================] - 5s 2ms/step - loss: 0.2604 - accuracy: 0.9156\n",
      "Epoch 198/200\n",
      "2500/2500 [==============================] - 5s 2ms/step - loss: 0.2472 - accuracy: 0.9184\n",
      "Epoch 199/200\n",
      "2500/2500 [==============================] - 5s 2ms/step - loss: 0.2655 - accuracy: 0.9168\n",
      "Epoch 200/200\n",
      "2500/2500 [==============================] - 5s 2ms/step - loss: 0.2856 - accuracy: 0.9080\n",
      "--- 1030.9479010105133 seconds ---\n"
     ]
    }
   ],
   "source": [
    "start_time = time.time()\n",
    "model.compile(loss='categorical_crossentropy',optimizer = Adam(lr=0.001),metrics=['accuracy'])\n",
    "model_nn = model.fit(X,Y,epochs=200)\n",
    "print(\"--- %s seconds ---\" % (time.time() - start_time))"
   ]
  },
  {
   "cell_type": "code",
   "execution_count": 35,
   "metadata": {},
   "outputs": [
    {
     "name": "stdout",
     "output_type": "stream",
     "text": [
      "Test accuracy is 99.68 percent\n",
      "testing model takes 1.3371608257293701 seconds\n"
     ]
    }
   ],
   "source": [
    "start_time = time.time()\n",
    "pred = model.predict(X)\n",
    "pred_list = [] \n",
    "for i in range(len(pred)):\n",
    "    arr = pred[i]\n",
    "    idx = np.argwhere(arr == np.max(arr))\n",
    "    pred_list.append(idx[0][0])\n",
    "tst_labl = np.argmax(Y, axis=-1)\n",
    "accuracy = accuracy_score(pred_list, tst_labl)\n",
    "print(\"Test accuracy is %s percent\" % round(accuracy*100,3))\n",
    "print(\"testing model takes %s seconds\" % (time.time() - start_time))"
   ]
  },
  {
   "cell_type": "code",
   "execution_count": 36,
   "metadata": {},
   "outputs": [
    {
     "data": {
      "text/plain": [
       "['../output/model_nn.m']"
      ]
     },
     "execution_count": 36,
     "metadata": {},
     "output_type": "execute_result"
    }
   ],
   "source": [
    "joblib.dump(model,'../output/model_nn.m')"
   ]
  },
  {
   "cell_type": "markdown",
   "metadata": {},
   "source": [
    "# Prediction"
   ]
  },
  {
   "cell_type": "code",
   "execution_count": 13,
   "metadata": {},
   "outputs": [
    {
     "name": "stderr",
     "output_type": "stream",
     "text": [
      "Using TensorFlow backend.\n"
     ]
    }
   ],
   "source": [
    "Baseline_model=joblib.load('../output/Baseline_model.m')\n",
    "\n",
    "Advanced_model=joblib.load('../output/model_nn.m')"
   ]
  },
  {
   "cell_type": "code",
   "execution_count": 14,
   "metadata": {},
   "outputs": [
    {
     "data": {
      "text/plain": [
       "GradientBoostingClassifier(criterion='friedman_mse', init=None,\n",
       "                           learning_rate=0.1, loss='deviance', max_depth=1,\n",
       "                           max_features=None, max_leaf_nodes=None,\n",
       "                           min_impurity_decrease=0.0, min_impurity_split=None,\n",
       "                           min_samples_leaf=1, min_samples_split=2,\n",
       "                           min_weight_fraction_leaf=0.0, n_estimators=100,\n",
       "                           n_iter_no_change=None, presort='auto',\n",
       "                           random_state=None, subsample=1.0, tol=0.0001,\n",
       "                           validation_fraction=0.1, verbose=0,\n",
       "                           warm_start=False)"
      ]
     },
     "execution_count": 14,
     "metadata": {},
     "output_type": "execute_result"
    }
   ],
   "source": [
    "Baseline_model"
   ]
  },
  {
   "cell_type": "code",
   "execution_count": 15,
   "metadata": {},
   "outputs": [
    {
     "data": {
      "text/plain": [
       "<keras.engine.training.Model at 0x10d010710>"
      ]
     },
     "execution_count": 15,
     "metadata": {},
     "output_type": "execute_result"
    }
   ],
   "source": [
    "Advanced_model"
   ]
  },
  {
   "cell_type": "markdown",
   "metadata": {},
   "source": [
    "#### Prediction for Baseline/Advanced model"
   ]
  },
  {
   "cell_type": "code",
   "execution_count": 34,
   "metadata": {},
   "outputs": [
    {
     "name": "stdout",
     "output_type": "stream",
     "text": [
      "testing baseline takes 0.25626707077026367 seconds\n"
     ]
    }
   ],
   "source": [
    "start_time = time.time()\n",
    "pred_baseline = Baseline_model.predict(test_x)\n",
    "print(\"testing baseline takes %s seconds\" % (time.time() - start_time))"
   ]
  },
  {
   "cell_type": "code",
   "execution_count": 35,
   "metadata": {},
   "outputs": [
    {
     "name": "stdout",
     "output_type": "stream",
     "text": [
      "testing nn takes 1.2242860794067383 seconds\n"
     ]
    }
   ],
   "source": [
    "start_time = time.time()\n",
    "pred_advanced  = np.argmax(Advanced_model.predict(test_x), axis=1)+1\n",
    "print(\"testing nn takes %s seconds\" % (time.time() - start_time))"
   ]
  },
  {
   "cell_type": "markdown",
   "metadata": {},
   "source": [
    "#### Label Prediction"
   ]
  },
  {
   "cell_type": "code",
   "execution_count": 33,
   "metadata": {},
   "outputs": [],
   "source": [
    "label_pred = pd.read_csv(path+'/data/labels_prediction.csv')\n",
    "label_pred['Baseline'] = pred_baseline\n",
    "label_pred['Advanced'] = pred_advanced\n",
    "label_pred.to_csv(path+'/data/labels_prediction.csv')"
   ]
  }
 ],
 "metadata": {
  "kernelspec": {
   "display_name": "Python 3",
   "language": "python",
   "name": "python3"
  },
  "language_info": {
   "codemirror_mode": {
    "name": "ipython",
    "version": 3
   },
   "file_extension": ".py",
   "mimetype": "text/x-python",
   "name": "python",
   "nbconvert_exporter": "python",
   "pygments_lexer": "ipython3",
   "version": "3.7.4"
  }
 },
 "nbformat": 4,
 "nbformat_minor": 2
}
