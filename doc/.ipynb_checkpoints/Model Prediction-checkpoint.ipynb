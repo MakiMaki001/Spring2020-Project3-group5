{
 "cells": [
  {
   "cell_type": "code",
   "execution_count": 1,
   "metadata": {},
   "outputs": [],
   "source": [
    "import warnings\n",
    "warnings.filterwarnings(\"ignore\")"
   ]
  },
  {
   "cell_type": "code",
   "execution_count": 2,
   "metadata": {},
   "outputs": [
    {
     "name": "stderr",
     "output_type": "stream",
     "text": [
      "/opt/anaconda3/lib/python3.7/site-packages/sklearn/externals/joblib/__init__.py:15: DeprecationWarning: sklearn.externals.joblib is deprecated in 0.21 and will be removed in 0.23. Please import this functionality directly from joblib, which can be installed with: pip install joblib. If this warning is raised when loading pickled models, you may need to re-serialize those models with scikit-learn 0.21+.\n",
      "  warnings.warn(msg, category=DeprecationWarning)\n"
     ]
    }
   ],
   "source": [
    "import os\n",
    "import pandas as pd\n",
    "import numpy as np\n",
    "import scipy.io as scio\n",
    "from matplotlib import pyplot as plt\n",
    "import seaborn as sns\n",
    "import time\n",
    "from datetime import datetime\n",
    "from sklearn.decomposition import PCA\n",
    "from sklearn.model_selection import train_test_split\n",
    "from sklearn.metrics import classification_report\n",
    "from sklearn.metrics import confusion_matrix\n",
    "from sklearn.model_selection import GridSearchCV\n",
    "from sklearn.metrics import accuracy_score\n",
    "import time\n",
    "from sklearn.model_selection import cross_val_score\n",
    "from sklearn.model_selection import KFold\n",
    "from sklearn.externals import joblib\n",
    "from sklearn.ensemble import VotingClassifier\n",
    "from sklearn.ensemble import GradientBoostingClassifier\n",
    "from sklearn.linear_model import LogisticRegression\n",
    "from sklearn.svm import SVC\n",
    "from sklearn.discriminant_analysis import LinearDiscriminantAnalysis as LDA\n",
    "import xgboost\n",
    "from xgboost import XGBClassifier\n",
    "from sklearn.ensemble import RandomForestClassifier\n",
    "from sklearn.metrics import accuracy_score, roc_auc_score\n",
    "from scipy.io import loadmat\n",
    "import scipy"
   ]
  },
  {
   "cell_type": "markdown",
   "metadata": {},
   "source": [
    "## Feature Extraction"
   ]
  },
  {
   "cell_type": "markdown",
   "metadata": {},
   "source": [
    "### Path and Load"
   ]
  },
  {
   "cell_type": "code",
   "execution_count": 3,
   "metadata": {},
   "outputs": [],
   "source": [
    "class load():\n",
    "    def load_data(filename):\n",
    "        raw_data = pd.read_csv(filename)\n",
    "        raw_data['filename'] = [str(i).zfill(4)+'.jpg' for i in raw_data['Index'].tolist()]\n",
    "        raw_data['pointsname'] = [str(i).zfill(4)+'.mat' for i in raw_data['Index'].tolist()]\n",
    "        return raw_data\n",
    "\n",
    "    def load_points(points_path,data):\n",
    "        n = data.shape[0]\n",
    "        points_data = np.zeros([n,3003,2])\n",
    "        start_time = time.time()\n",
    "        for i in range(n):\n",
    "            result = loadmat(points_path+data['pointsname'][i])\n",
    "            key = sorted(result.keys())[-1]\n",
    "            points = result[key]\n",
    "            distance_h = []\n",
    "            distance_v = []\n",
    "            for d in range(points.shape[0]-1):\n",
    "                for j in range(d+1,points.shape[0]):\n",
    "                    distance_h.append(abs(points[d,0]-points[j,0]))\n",
    "                    distance_v.append(abs(points[d,1]-points[j,1]))\n",
    "\n",
    "            points_data[i,:,0]=distance_h\n",
    "            points_data[i,:,1]=distance_v\n",
    "        print(\"--- %s seconds ---\" % (time.time() - start_time))\n",
    "        return points_data.reshape([2500,6006])"
   ]
  },
  {
   "cell_type": "code",
   "execution_count": 4,
   "metadata": {},
   "outputs": [],
   "source": [
    "path = '/Users/zhaoziqin/Desktop/Applied Data Science/Spring2020-Project3-group5'\n",
    "\n",
    "trainpath = path+'/data/train_set/'\n",
    "testpath = path+'/data/test_set/'\n",
    "\n",
    "train_image = trainpath + \"images/\"\n",
    "train_point = trainpath + \"points/\"\n",
    "\n",
    "test_image = testpath + \"images/\"\n",
    "test_point = testpath + \"points/\"\n"
   ]
  },
  {
   "cell_type": "markdown",
   "metadata": {},
   "source": [
    "### Train Feature Extraction"
   ]
  },
  {
   "cell_type": "code",
   "execution_count": 5,
   "metadata": {},
   "outputs": [
    {
     "name": "stdout",
     "output_type": "stream",
     "text": [
      "--- 14.262198209762573 seconds ---\n"
     ]
    }
   ],
   "source": [
    "data = load.load_data(trainpath + 'label.csv')\n",
    "X = load.load_points(train_point,data)\n",
    "X = np.round(X,0)\n",
    "y= data['emotion_idx'].to_numpy()"
   ]
  },
  {
   "cell_type": "code",
   "execution_count": 6,
   "metadata": {},
   "outputs": [
    {
     "data": {
      "text/plain": [
       "array([[ 46.,   4.,  29., ..., 114.,   7.,  57.],\n",
       "       [ 44.,  12.,  27., ..., 117.,   1.,  59.],\n",
       "       [ 42.,   5.,  24., ..., 109.,   3.,  54.],\n",
       "       ...,\n",
       "       [ 29.,   7.,  16., ...,  89.,   0.,  45.],\n",
       "       [ 30.,   7.,  16., ..., 101.,   6.,  47.],\n",
       "       [ 38.,   6.,  17., ...,  99.,   1.,  50.]])"
      ]
     },
     "execution_count": 6,
     "metadata": {},
     "output_type": "execute_result"
    }
   ],
   "source": [
    "X"
   ]
  },
  {
   "cell_type": "code",
   "execution_count": 7,
   "metadata": {},
   "outputs": [
    {
     "data": {
      "text/plain": [
       "array([ 1,  1,  1, ..., 22, 22, 22])"
      ]
     },
     "execution_count": 7,
     "metadata": {},
     "output_type": "execute_result"
    }
   ],
   "source": [
    "y"
   ]
  },
  {
   "cell_type": "markdown",
   "metadata": {},
   "source": [
    "### Test Feature Extraction"
   ]
  },
  {
   "cell_type": "code",
   "execution_count": 5,
   "metadata": {},
   "outputs": [
    {
     "name": "stdout",
     "output_type": "stream",
     "text": [
      "--- 21.731241941452026 seconds ---\n"
     ]
    }
   ],
   "source": [
    "n = 2500\n",
    "points_data = np.zeros([n,3003,2])\n",
    "start_time = time.time()\n",
    "for i in range(n):\n",
    "    result = loadmat(test_point + [str(i+1).zfill(4)+'.mat' for i in range(2500)][i])\n",
    "    key = sorted(result.keys())[-1]\n",
    "    points = result[key]\n",
    "    distance_h = []\n",
    "    distance_v = []\n",
    "    for d in range(points.shape[0]-1):\n",
    "        for j in range(d+1,points.shape[0]):\n",
    "            distance_h.append(abs(points[d,0]-points[j,0]))\n",
    "            distance_v.append(abs(points[d,1]-points[j,1]))\n",
    "    points_data[i,:,0]=distance_h\n",
    "    points_data[i,:,1]=distance_v\n",
    "print(\"--- %s seconds ---\" % (time.time() - start_time))\n",
    "\n",
    "test_x = points_data.reshape([2500,6006])"
   ]
  },
  {
   "cell_type": "code",
   "execution_count": 6,
   "metadata": {},
   "outputs": [
    {
     "data": {
      "text/plain": [
       "array([[ 30.,   2.,  13., ...,  94.,   2.,  47.],\n",
       "       [ 34.,   0.,  17., ...,  92.,   0.,  48.],\n",
       "       [ 35.,   1.,  18., ..., 113.,   9.,  56.],\n",
       "       ...,\n",
       "       [ 39.,   3.,  20., ..., 105.,  10.,  52.],\n",
       "       [ 35.,   4.,  20., ..., 107.,   1.,  53.],\n",
       "       [ 42.,   7.,  16., ..., 103.,   1.,  51.]])"
      ]
     },
     "execution_count": 6,
     "metadata": {},
     "output_type": "execute_result"
    }
   ],
   "source": [
    "test_x = np.round(test_x,0)\n",
    "test_x"
   ]
  },
  {
   "cell_type": "markdown",
   "metadata": {},
   "source": [
    "## Baseline Model --- Training"
   ]
  },
  {
   "cell_type": "code",
   "execution_count": 10,
   "metadata": {},
   "outputs": [
    {
     "name": "stdout",
     "output_type": "stream",
     "text": [
      "--- 635.0870678424835 seconds ---\n"
     ]
    }
   ],
   "source": [
    "start_time = time.time()\n",
    "baseline = GradientBoostingClassifier(n_estimators=100,max_depth= 1,learning_rate=0.1)\n",
    "gbm_model = baseline.fit(X,y) \n",
    "print(\"--- %s seconds ---\" % (time.time() - start_time))"
   ]
  },
  {
   "cell_type": "code",
   "execution_count": 11,
   "metadata": {},
   "outputs": [
    {
     "data": {
      "text/plain": [
       "['../output/Baseline_model.m']"
      ]
     },
     "execution_count": 11,
     "metadata": {},
     "output_type": "execute_result"
    }
   ],
   "source": [
    "joblib.dump(gbm_model,'../output/Baseline_model.m')"
   ]
  },
  {
   "cell_type": "markdown",
   "metadata": {},
   "source": [
    "## Advanced Model --- Training"
   ]
  },
  {
   "cell_type": "code",
   "execution_count": 28,
   "metadata": {},
   "outputs": [
    {
     "name": "stdout",
     "output_type": "stream",
     "text": [
      "Collecting package metadata (current_repodata.json): done\n",
      "Solving environment: done\n",
      "\n",
      "## Package Plan ##\n",
      "\n",
      "  environment location: /opt/anaconda3\n",
      "\n",
      "  added / updated specs:\n",
      "    - keras\n",
      "\n",
      "\n",
      "The following packages will be downloaded:\n",
      "\n",
      "    package                    |            build\n",
      "    ---------------------------|-----------------\n",
      "    conda-4.8.3                |           py37_0         2.8 MB\n",
      "    openssl-1.1.1d             |       h1de35cc_2         2.2 MB\n",
      "    ------------------------------------------------------------\n",
      "                                           Total:         5.0 MB\n",
      "\n",
      "The following packages will be SUPERSEDED by a higher-priority channel:\n",
      "\n",
      "  conda                                            anaconda --> pkgs/main\n",
      "  openssl                                          anaconda --> pkgs/main\n",
      "\n",
      "\n",
      "\n",
      "Downloading and Extracting Packages\n",
      "openssl-1.1.1d       | 2.2 MB    | ##################################### | 100% \n",
      "conda-4.8.3          | 2.8 MB    | ##################################### | 100% \n",
      "Preparing transaction: done\n",
      "Verifying transaction: done\n",
      "Executing transaction: done\n",
      "\n",
      "Note: you may need to restart the kernel to use updated packages.\n"
     ]
    }
   ],
   "source": [
    "conda install keras"
   ]
  },
  {
   "cell_type": "code",
   "execution_count": 29,
   "metadata": {},
   "outputs": [
    {
     "name": "stdout",
     "output_type": "stream",
     "text": [
      "Collecting package metadata (current_repodata.json): done\n",
      "Solving environment: done\n",
      "\n",
      "# All requested packages already installed.\n",
      "\n",
      "\n",
      "Note: you may need to restart the kernel to use updated packages.\n"
     ]
    }
   ],
   "source": [
    "conda install tensorflow"
   ]
  },
  {
   "cell_type": "code",
   "execution_count": 12,
   "metadata": {},
   "outputs": [
    {
     "name": "stderr",
     "output_type": "stream",
     "text": [
      "Using TensorFlow backend.\n"
     ]
    }
   ],
   "source": [
    "import tensorflow\n",
    "import keras\n",
    "from keras.utils import to_categorical\n",
    "import matplotlib.pyplot as plt\n",
    "from tensorflow.keras.models import Sequential\n",
    "from keras.layers import Dense, Activation, Flatten, Input, Dropout\n",
    "from keras.layers import BatchNormalization\n",
    "from keras.models import Model\n",
    "from keras import initializers\n",
    "from keras.optimizers import Adam\n",
    "from keras.utils import to_categorical"
   ]
  },
  {
   "cell_type": "markdown",
   "metadata": {},
   "source": [
    "#### Model Fitting"
   ]
  },
  {
   "cell_type": "code",
   "execution_count": 13,
   "metadata": {},
   "outputs": [],
   "source": [
    "Y = to_categorical(y)\n",
    "Y = Y[:,1:]"
   ]
  },
  {
   "cell_type": "code",
   "execution_count": 14,
   "metadata": {},
   "outputs": [],
   "source": [
    "input_shape = [6006] \n",
    "input_layer = Input(input_shape)\n",
    "x = BatchNormalization(momentum = 0.88)(input_layer) \n",
    "x = Dense(220,activation='relu',kernel_initializer=initializers.glorot_normal(seed=6))(x)\n",
    "x = Dropout(0.25)(x)\n",
    "x = BatchNormalization()(x) \n",
    "x = Dense(176,activation='relu',kernel_initializer=initializers.glorot_normal(seed=6))(x)\n",
    "x = Dropout(0.25)(x)\n",
    "x = Dense(88,activation='relu',kernel_initializer=initializers.glorot_normal(seed=6))(x)\n",
    "x = Dropout(0.25)(x)\n",
    "x = Dense(44,activation='relu',kernel_initializer=initializers.glorot_normal(seed=6))(x)\n",
    "output_layer = Dense(22,activation='softmax',kernel_initializer=initializers.glorot_normal(seed=6))(x) \n",
    "model = Model(input_layer,output_layer)"
   ]
  },
  {
   "cell_type": "code",
   "execution_count": 15,
   "metadata": {},
   "outputs": [
    {
     "name": "stdout",
     "output_type": "stream",
     "text": [
      "Epoch 1/200\n",
      "2500/2500 [==============================] - 9s 3ms/step - loss: 3.0254 - accuracy: 0.0756\n",
      "Epoch 2/200\n",
      "2500/2500 [==============================] - 5s 2ms/step - loss: 2.5326 - accuracy: 0.1900\n",
      "Epoch 3/200\n",
      "2500/2500 [==============================] - 5s 2ms/step - loss: 2.1880 - accuracy: 0.2648\n",
      "Epoch 4/200\n",
      "2500/2500 [==============================] - 5s 2ms/step - loss: 2.0701 - accuracy: 0.3048\n",
      "Epoch 5/200\n",
      "2500/2500 [==============================] - 5s 2ms/step - loss: 1.9028 - accuracy: 0.3592\n",
      "Epoch 6/200\n",
      "2500/2500 [==============================] - 5s 2ms/step - loss: 1.8685 - accuracy: 0.3780\n",
      "Epoch 7/200\n",
      "2500/2500 [==============================] - 5s 2ms/step - loss: 1.7322 - accuracy: 0.4108\n",
      "Epoch 8/200\n",
      "2500/2500 [==============================] - 5s 2ms/step - loss: 1.7157 - accuracy: 0.4192\n",
      "Epoch 9/200\n",
      "2500/2500 [==============================] - 5s 2ms/step - loss: 1.6439 - accuracy: 0.4428\n",
      "Epoch 10/200\n",
      "2500/2500 [==============================] - 5s 2ms/step - loss: 1.6225 - accuracy: 0.4424\n",
      "Epoch 11/200\n",
      "2500/2500 [==============================] - 5s 2ms/step - loss: 1.5382 - accuracy: 0.4760\n",
      "Epoch 12/200\n",
      "2500/2500 [==============================] - 5s 2ms/step - loss: 1.5101 - accuracy: 0.4712\n",
      "Epoch 13/200\n",
      "2500/2500 [==============================] - 5s 2ms/step - loss: 1.4652 - accuracy: 0.4948\n",
      "Epoch 14/200\n",
      "2500/2500 [==============================] - 5s 2ms/step - loss: 1.4457 - accuracy: 0.5012\n",
      "Epoch 15/200\n",
      "2500/2500 [==============================] - 5s 2ms/step - loss: 1.4259 - accuracy: 0.5108\n",
      "Epoch 16/200\n",
      "2500/2500 [==============================] - 5s 2ms/step - loss: 1.3968 - accuracy: 0.5160\n",
      "Epoch 17/200\n",
      "2500/2500 [==============================] - 5s 2ms/step - loss: 1.3422 - accuracy: 0.5420\n",
      "Epoch 18/200\n",
      "2500/2500 [==============================] - 5s 2ms/step - loss: 1.3597 - accuracy: 0.5420\n",
      "Epoch 19/200\n",
      "2500/2500 [==============================] - 5s 2ms/step - loss: 1.3092 - accuracy: 0.5500\n",
      "Epoch 20/200\n",
      "2500/2500 [==============================] - 5s 2ms/step - loss: 1.2720 - accuracy: 0.5608\n",
      "Epoch 21/200\n",
      "2500/2500 [==============================] - 5s 2ms/step - loss: 1.2756 - accuracy: 0.5484\n",
      "Epoch 22/200\n",
      "2500/2500 [==============================] - 5s 2ms/step - loss: 1.2276 - accuracy: 0.5752\n",
      "Epoch 23/200\n",
      "2500/2500 [==============================] - 5s 2ms/step - loss: 1.2237 - accuracy: 0.5680\n",
      "Epoch 24/200\n",
      "2500/2500 [==============================] - 5s 2ms/step - loss: 1.2101 - accuracy: 0.5812\n",
      "Epoch 25/200\n",
      "2500/2500 [==============================] - 5s 2ms/step - loss: 1.1976 - accuracy: 0.5896\n",
      "Epoch 26/200\n",
      "2500/2500 [==============================] - 5s 2ms/step - loss: 1.1590 - accuracy: 0.5888\n",
      "Epoch 27/200\n",
      "2500/2500 [==============================] - 5s 2ms/step - loss: 1.1476 - accuracy: 0.5948\n",
      "Epoch 28/200\n",
      "2500/2500 [==============================] - 5s 2ms/step - loss: 1.1523 - accuracy: 0.6040\n",
      "Epoch 29/200\n",
      "2500/2500 [==============================] - 5s 2ms/step - loss: 1.0972 - accuracy: 0.6108\n",
      "Epoch 30/200\n",
      "2500/2500 [==============================] - 5s 2ms/step - loss: 1.0907 - accuracy: 0.6164\n",
      "Epoch 31/200\n",
      "2500/2500 [==============================] - 5s 2ms/step - loss: 1.1121 - accuracy: 0.6236\n",
      "Epoch 32/200\n",
      "2500/2500 [==============================] - 5s 2ms/step - loss: 1.0657 - accuracy: 0.6388\n",
      "Epoch 33/200\n",
      "2500/2500 [==============================] - 5s 2ms/step - loss: 1.0764 - accuracy: 0.6296\n",
      "Epoch 34/200\n",
      "2500/2500 [==============================] - 5s 2ms/step - loss: 1.0216 - accuracy: 0.6456\n",
      "Epoch 35/200\n",
      "2500/2500 [==============================] - 5s 2ms/step - loss: 1.0475 - accuracy: 0.6396\n",
      "Epoch 36/200\n",
      "2500/2500 [==============================] - 5s 2ms/step - loss: 1.0314 - accuracy: 0.6388\n",
      "Epoch 37/200\n",
      "2500/2500 [==============================] - 5s 2ms/step - loss: 0.9723 - accuracy: 0.6516\n",
      "Epoch 38/200\n",
      "2500/2500 [==============================] - 5s 2ms/step - loss: 0.9979 - accuracy: 0.6556\n",
      "Epoch 39/200\n",
      "2500/2500 [==============================] - 5s 2ms/step - loss: 0.9559 - accuracy: 0.6676\n",
      "Epoch 40/200\n",
      "2500/2500 [==============================] - 5s 2ms/step - loss: 0.9435 - accuracy: 0.6672\n",
      "Epoch 41/200\n",
      "2500/2500 [==============================] - 5s 2ms/step - loss: 0.9773 - accuracy: 0.6568\n",
      "Epoch 42/200\n",
      "2500/2500 [==============================] - 5s 2ms/step - loss: 0.9367 - accuracy: 0.6772\n",
      "Epoch 43/200\n",
      "2500/2500 [==============================] - 5s 2ms/step - loss: 0.9373 - accuracy: 0.6780\n",
      "Epoch 44/200\n",
      "2500/2500 [==============================] - 5s 2ms/step - loss: 0.8867 - accuracy: 0.6912\n",
      "Epoch 45/200\n",
      "2500/2500 [==============================] - 5s 2ms/step - loss: 0.8655 - accuracy: 0.6968\n",
      "Epoch 46/200\n",
      "2500/2500 [==============================] - 5s 2ms/step - loss: 0.8448 - accuracy: 0.7064\n",
      "Epoch 47/200\n",
      "2500/2500 [==============================] - 5s 2ms/step - loss: 0.8488 - accuracy: 0.7144\n",
      "Epoch 48/200\n",
      "2500/2500 [==============================] - 5s 2ms/step - loss: 0.8599 - accuracy: 0.7000\n",
      "Epoch 49/200\n",
      "2500/2500 [==============================] - 5s 2ms/step - loss: 0.8284 - accuracy: 0.7036\n",
      "Epoch 50/200\n",
      "2500/2500 [==============================] - 5s 2ms/step - loss: 0.8215 - accuracy: 0.7112\n",
      "Epoch 51/200\n",
      "2500/2500 [==============================] - 5s 2ms/step - loss: 0.8776 - accuracy: 0.6952\n",
      "Epoch 52/200\n",
      "2500/2500 [==============================] - 5s 2ms/step - loss: 0.8750 - accuracy: 0.6972\n",
      "Epoch 53/200\n",
      "2500/2500 [==============================] - 5s 2ms/step - loss: 0.7656 - accuracy: 0.7404\n",
      "Epoch 54/200\n",
      "2500/2500 [==============================] - 6s 2ms/step - loss: 0.7839 - accuracy: 0.7376\n",
      "Epoch 55/200\n",
      "2500/2500 [==============================] - 5s 2ms/step - loss: 0.7510 - accuracy: 0.7408\n",
      "Epoch 56/200\n",
      "2500/2500 [==============================] - 5s 2ms/step - loss: 0.7574 - accuracy: 0.7368\n",
      "Epoch 57/200\n",
      "2500/2500 [==============================] - 5s 2ms/step - loss: 0.7430 - accuracy: 0.7416\n",
      "Epoch 58/200\n",
      "2500/2500 [==============================] - 5s 2ms/step - loss: 0.7306 - accuracy: 0.7504\n",
      "Epoch 59/200\n",
      "2500/2500 [==============================] - 5s 2ms/step - loss: 0.7226 - accuracy: 0.7528\n",
      "Epoch 60/200\n",
      "2500/2500 [==============================] - 5s 2ms/step - loss: 0.7326 - accuracy: 0.7492\n",
      "Epoch 61/200\n",
      "2500/2500 [==============================] - 5s 2ms/step - loss: 0.7441 - accuracy: 0.7468\n",
      "Epoch 62/200\n",
      "2500/2500 [==============================] - 5s 2ms/step - loss: 0.7375 - accuracy: 0.7436\n",
      "Epoch 63/200\n",
      "2500/2500 [==============================] - 5s 2ms/step - loss: 0.7181 - accuracy: 0.7584\n",
      "Epoch 64/200\n",
      "2500/2500 [==============================] - 6s 2ms/step - loss: 0.7013 - accuracy: 0.7532\n",
      "Epoch 65/200\n",
      "2500/2500 [==============================] - 5s 2ms/step - loss: 0.6980 - accuracy: 0.7540\n",
      "Epoch 66/200\n",
      "2500/2500 [==============================] - 5s 2ms/step - loss: 0.6770 - accuracy: 0.7692\n",
      "Epoch 67/200\n",
      "2500/2500 [==============================] - 5s 2ms/step - loss: 0.6731 - accuracy: 0.7704\n",
      "Epoch 68/200\n",
      "2500/2500 [==============================] - 5s 2ms/step - loss: 0.6604 - accuracy: 0.7748\n",
      "Epoch 69/200\n",
      "2500/2500 [==============================] - 5s 2ms/step - loss: 0.6155 - accuracy: 0.7876\n",
      "Epoch 70/200\n",
      "2500/2500 [==============================] - 5s 2ms/step - loss: 0.6652 - accuracy: 0.7788\n",
      "Epoch 71/200\n",
      "2500/2500 [==============================] - 5s 2ms/step - loss: 0.6323 - accuracy: 0.7796\n",
      "Epoch 72/200\n",
      "2500/2500 [==============================] - 5s 2ms/step - loss: 0.6351 - accuracy: 0.7784\n",
      "Epoch 73/200\n",
      "2500/2500 [==============================] - 5s 2ms/step - loss: 0.6339 - accuracy: 0.7852\n",
      "Epoch 74/200\n",
      "2500/2500 [==============================] - 5s 2ms/step - loss: 0.6609 - accuracy: 0.7748\n",
      "Epoch 75/200\n",
      "2500/2500 [==============================] - 5s 2ms/step - loss: 0.6353 - accuracy: 0.7752\n",
      "Epoch 76/200\n",
      "2500/2500 [==============================] - 5s 2ms/step - loss: 0.6154 - accuracy: 0.7856\n",
      "Epoch 77/200\n",
      "2500/2500 [==============================] - 5s 2ms/step - loss: 0.6009 - accuracy: 0.7896\n",
      "Epoch 78/200\n",
      "2500/2500 [==============================] - 5s 2ms/step - loss: 0.6125 - accuracy: 0.7836\n",
      "Epoch 79/200\n",
      "2500/2500 [==============================] - 5s 2ms/step - loss: 0.5664 - accuracy: 0.8036\n",
      "Epoch 80/200\n",
      "2500/2500 [==============================] - 5s 2ms/step - loss: 0.6069 - accuracy: 0.7956\n",
      "Epoch 81/200\n",
      "2500/2500 [==============================] - 5s 2ms/step - loss: 0.5709 - accuracy: 0.8108\n",
      "Epoch 82/200\n",
      "2500/2500 [==============================] - 5s 2ms/step - loss: 0.5570 - accuracy: 0.8028\n",
      "Epoch 83/200\n",
      "2500/2500 [==============================] - 5s 2ms/step - loss: 0.5646 - accuracy: 0.8088\n",
      "Epoch 84/200\n",
      "2500/2500 [==============================] - 5s 2ms/step - loss: 0.5969 - accuracy: 0.8012\n",
      "Epoch 85/200\n",
      "2500/2500 [==============================] - 5s 2ms/step - loss: 0.5418 - accuracy: 0.8168\n",
      "Epoch 86/200\n",
      "2500/2500 [==============================] - 5s 2ms/step - loss: 0.5400 - accuracy: 0.8160\n",
      "Epoch 87/200\n",
      "2500/2500 [==============================] - 5s 2ms/step - loss: 0.5439 - accuracy: 0.8072\n",
      "Epoch 88/200\n",
      "2500/2500 [==============================] - 5s 2ms/step - loss: 0.5428 - accuracy: 0.8112\n",
      "Epoch 89/200\n",
      "2500/2500 [==============================] - 5s 2ms/step - loss: 0.5729 - accuracy: 0.8096\n",
      "Epoch 90/200\n",
      "2500/2500 [==============================] - 5s 2ms/step - loss: 0.5590 - accuracy: 0.8068\n",
      "Epoch 91/200\n",
      "2500/2500 [==============================] - 5s 2ms/step - loss: 0.5796 - accuracy: 0.7996\n",
      "Epoch 92/200\n",
      "2500/2500 [==============================] - 5s 2ms/step - loss: 0.5707 - accuracy: 0.8048\n",
      "Epoch 93/200\n",
      "2500/2500 [==============================] - 5s 2ms/step - loss: 0.5353 - accuracy: 0.8224\n",
      "Epoch 94/200\n",
      "2500/2500 [==============================] - 5s 2ms/step - loss: 0.5490 - accuracy: 0.8072\n",
      "Epoch 95/200\n",
      "2500/2500 [==============================] - 5s 2ms/step - loss: 0.5673 - accuracy: 0.8088\n",
      "Epoch 96/200\n",
      "2500/2500 [==============================] - 5s 2ms/step - loss: 0.5306 - accuracy: 0.8176\n",
      "Epoch 97/200\n",
      "2500/2500 [==============================] - 5s 2ms/step - loss: 0.5283 - accuracy: 0.8220\n",
      "Epoch 98/200\n",
      "2500/2500 [==============================] - 5s 2ms/step - loss: 0.5334 - accuracy: 0.8220\n",
      "Epoch 99/200\n",
      "2500/2500 [==============================] - 5s 2ms/step - loss: 0.4637 - accuracy: 0.8492\n",
      "Epoch 100/200\n",
      "2500/2500 [==============================] - 5s 2ms/step - loss: 0.4876 - accuracy: 0.8344\n",
      "Epoch 101/200\n",
      "2500/2500 [==============================] - 5s 2ms/step - loss: 0.5550 - accuracy: 0.8172\n",
      "Epoch 102/200\n",
      "2500/2500 [==============================] - 5s 2ms/step - loss: 0.4978 - accuracy: 0.8284\n",
      "Epoch 103/200\n",
      "2500/2500 [==============================] - 5s 2ms/step - loss: 0.4979 - accuracy: 0.8320\n",
      "Epoch 104/200\n",
      "2500/2500 [==============================] - 5s 2ms/step - loss: 0.4738 - accuracy: 0.8448\n",
      "Epoch 105/200\n",
      "2500/2500 [==============================] - 5s 2ms/step - loss: 0.4522 - accuracy: 0.8416\n",
      "Epoch 106/200\n",
      "2500/2500 [==============================] - 5s 2ms/step - loss: 0.4485 - accuracy: 0.8564\n",
      "Epoch 107/200\n",
      "2500/2500 [==============================] - 5s 2ms/step - loss: 0.4860 - accuracy: 0.8328\n",
      "Epoch 108/200\n",
      "2500/2500 [==============================] - 5s 2ms/step - loss: 0.4456 - accuracy: 0.8440\n",
      "Epoch 109/200\n",
      "2500/2500 [==============================] - 5s 2ms/step - loss: 0.4338 - accuracy: 0.8492\n",
      "Epoch 110/200\n",
      "2500/2500 [==============================] - 5s 2ms/step - loss: 0.4188 - accuracy: 0.8652\n",
      "Epoch 111/200\n",
      "2500/2500 [==============================] - 5s 2ms/step - loss: 0.4725 - accuracy: 0.8388\n",
      "Epoch 112/200\n",
      "2500/2500 [==============================] - 5s 2ms/step - loss: 0.4082 - accuracy: 0.8664\n",
      "Epoch 113/200\n",
      "2500/2500 [==============================] - 5s 2ms/step - loss: 0.4221 - accuracy: 0.8640\n",
      "Epoch 114/200\n",
      "2500/2500 [==============================] - 5s 2ms/step - loss: 0.4045 - accuracy: 0.8560\n",
      "Epoch 115/200\n",
      "2500/2500 [==============================] - 5s 2ms/step - loss: 0.4325 - accuracy: 0.8620\n",
      "Epoch 116/200\n",
      "2500/2500 [==============================] - 5s 2ms/step - loss: 0.4779 - accuracy: 0.8356\n",
      "Epoch 117/200\n",
      "2500/2500 [==============================] - 5s 2ms/step - loss: 0.4541 - accuracy: 0.8472\n",
      "Epoch 118/200\n",
      "2500/2500 [==============================] - 5s 2ms/step - loss: 0.4653 - accuracy: 0.8448\n",
      "Epoch 119/200\n",
      "2500/2500 [==============================] - 5s 2ms/step - loss: 0.4345 - accuracy: 0.8568\n",
      "Epoch 120/200\n",
      "2500/2500 [==============================] - 5s 2ms/step - loss: 0.4526 - accuracy: 0.8504\n",
      "Epoch 121/200\n",
      "2500/2500 [==============================] - 5s 2ms/step - loss: 0.3981 - accuracy: 0.8684\n",
      "Epoch 122/200\n",
      "2500/2500 [==============================] - 5s 2ms/step - loss: 0.4190 - accuracy: 0.8600\n",
      "Epoch 123/200\n",
      "2500/2500 [==============================] - 5s 2ms/step - loss: 0.3993 - accuracy: 0.8652\n",
      "Epoch 124/200\n",
      "2500/2500 [==============================] - 5s 2ms/step - loss: 0.3873 - accuracy: 0.8668\n",
      "Epoch 125/200\n",
      "2500/2500 [==============================] - 5s 2ms/step - loss: 0.4210 - accuracy: 0.8640\n",
      "Epoch 126/200\n",
      "2500/2500 [==============================] - 5s 2ms/step - loss: 0.3949 - accuracy: 0.8640\n",
      "Epoch 127/200\n",
      "2500/2500 [==============================] - 5s 2ms/step - loss: 0.4203 - accuracy: 0.8564\n",
      "Epoch 128/200\n",
      "2500/2500 [==============================] - 5s 2ms/step - loss: 0.4356 - accuracy: 0.8596\n",
      "Epoch 129/200\n",
      "2500/2500 [==============================] - 5s 2ms/step - loss: 0.3895 - accuracy: 0.8748\n",
      "Epoch 130/200\n",
      "2500/2500 [==============================] - 5s 2ms/step - loss: 0.3792 - accuracy: 0.8672\n",
      "Epoch 131/200\n",
      "2500/2500 [==============================] - 5s 2ms/step - loss: 0.3876 - accuracy: 0.8728\n",
      "Epoch 132/200\n",
      "2500/2500 [==============================] - 5s 2ms/step - loss: 0.3724 - accuracy: 0.8740\n",
      "Epoch 133/200\n",
      "2500/2500 [==============================] - 5s 2ms/step - loss: 0.3990 - accuracy: 0.8636\n",
      "Epoch 134/200\n",
      "2500/2500 [==============================] - 5s 2ms/step - loss: 0.3732 - accuracy: 0.8852\n",
      "Epoch 135/200\n",
      "2500/2500 [==============================] - 5s 2ms/step - loss: 0.3587 - accuracy: 0.8836\n",
      "Epoch 136/200\n",
      "2500/2500 [==============================] - 5s 2ms/step - loss: 0.3811 - accuracy: 0.8808\n",
      "Epoch 137/200\n",
      "2500/2500 [==============================] - 5s 2ms/step - loss: 0.3640 - accuracy: 0.8768\n",
      "Epoch 138/200\n",
      "2500/2500 [==============================] - 5s 2ms/step - loss: 0.3888 - accuracy: 0.8692\n",
      "Epoch 139/200\n",
      "2500/2500 [==============================] - 5s 2ms/step - loss: 0.3550 - accuracy: 0.8808\n",
      "Epoch 140/200\n",
      "2500/2500 [==============================] - 5s 2ms/step - loss: 0.3587 - accuracy: 0.8768\n",
      "Epoch 141/200\n",
      "2500/2500 [==============================] - 5s 2ms/step - loss: 0.3704 - accuracy: 0.8760\n",
      "Epoch 142/200\n",
      "2500/2500 [==============================] - 5s 2ms/step - loss: 0.3706 - accuracy: 0.8720\n",
      "Epoch 143/200\n",
      "2500/2500 [==============================] - 5s 2ms/step - loss: 0.3296 - accuracy: 0.8916\n",
      "Epoch 144/200\n",
      "2500/2500 [==============================] - 5s 2ms/step - loss: 0.3431 - accuracy: 0.8860\n",
      "Epoch 145/200\n",
      "2500/2500 [==============================] - 5s 2ms/step - loss: 0.3467 - accuracy: 0.8852\n",
      "Epoch 146/200\n",
      "2500/2500 [==============================] - 5s 2ms/step - loss: 0.3668 - accuracy: 0.8824\n",
      "Epoch 147/200\n",
      "2500/2500 [==============================] - 5s 2ms/step - loss: 0.3467 - accuracy: 0.8856\n",
      "Epoch 148/200\n",
      "2500/2500 [==============================] - 5s 2ms/step - loss: 0.3359 - accuracy: 0.8908\n",
      "Epoch 149/200\n",
      "2500/2500 [==============================] - 5s 2ms/step - loss: 0.3624 - accuracy: 0.8824\n",
      "Epoch 150/200\n",
      "2500/2500 [==============================] - 5s 2ms/step - loss: 0.3258 - accuracy: 0.8920\n",
      "Epoch 151/200\n",
      "2500/2500 [==============================] - 5s 2ms/step - loss: 0.3692 - accuracy: 0.8752\n",
      "Epoch 152/200\n",
      "2500/2500 [==============================] - 5s 2ms/step - loss: 0.3407 - accuracy: 0.8872\n",
      "Epoch 153/200\n",
      "2500/2500 [==============================] - 5s 2ms/step - loss: 0.2961 - accuracy: 0.9024\n",
      "Epoch 154/200\n",
      "2500/2500 [==============================] - 5s 2ms/step - loss: 0.3406 - accuracy: 0.8908\n",
      "Epoch 155/200\n",
      "2500/2500 [==============================] - 5s 2ms/step - loss: 0.3417 - accuracy: 0.8896\n",
      "Epoch 156/200\n",
      "2500/2500 [==============================] - 5s 2ms/step - loss: 0.3125 - accuracy: 0.8944\n",
      "Epoch 157/200\n"
     ]
    },
    {
     "name": "stdout",
     "output_type": "stream",
     "text": [
      "2500/2500 [==============================] - 5s 2ms/step - loss: 0.3223 - accuracy: 0.8936\n",
      "Epoch 158/200\n",
      "2500/2500 [==============================] - 5s 2ms/step - loss: 0.3285 - accuracy: 0.8992\n",
      "Epoch 159/200\n",
      "2500/2500 [==============================] - 5s 2ms/step - loss: 0.2930 - accuracy: 0.8968\n",
      "Epoch 160/200\n",
      "2500/2500 [==============================] - 5s 2ms/step - loss: 0.3016 - accuracy: 0.9052\n",
      "Epoch 161/200\n",
      "2500/2500 [==============================] - 5s 2ms/step - loss: 0.3405 - accuracy: 0.8876\n",
      "Epoch 162/200\n",
      "2500/2500 [==============================] - 5s 2ms/step - loss: 0.2779 - accuracy: 0.9056\n",
      "Epoch 163/200\n",
      "2500/2500 [==============================] - 5s 2ms/step - loss: 0.3082 - accuracy: 0.9040\n",
      "Epoch 164/200\n",
      "2500/2500 [==============================] - 5s 2ms/step - loss: 0.3058 - accuracy: 0.9020\n",
      "Epoch 165/200\n",
      "2500/2500 [==============================] - 5s 2ms/step - loss: 0.2974 - accuracy: 0.9096\n",
      "Epoch 166/200\n",
      "2500/2500 [==============================] - 5s 2ms/step - loss: 0.3056 - accuracy: 0.9048\n",
      "Epoch 167/200\n",
      "2500/2500 [==============================] - 5s 2ms/step - loss: 0.2983 - accuracy: 0.9040\n",
      "Epoch 168/200\n",
      "2500/2500 [==============================] - 5s 2ms/step - loss: 0.2777 - accuracy: 0.9040\n",
      "Epoch 169/200\n",
      "2500/2500 [==============================] - 5s 2ms/step - loss: 0.2924 - accuracy: 0.9092\n",
      "Epoch 170/200\n",
      "2500/2500 [==============================] - 5s 2ms/step - loss: 0.3014 - accuracy: 0.8988\n",
      "Epoch 171/200\n",
      "2500/2500 [==============================] - 5s 2ms/step - loss: 0.3021 - accuracy: 0.9116\n",
      "Epoch 172/200\n",
      "2500/2500 [==============================] - 5s 2ms/step - loss: 0.3133 - accuracy: 0.8968\n",
      "Epoch 173/200\n",
      "2500/2500 [==============================] - 5s 2ms/step - loss: 0.3131 - accuracy: 0.9096\n",
      "Epoch 174/200\n",
      "2500/2500 [==============================] - 5s 2ms/step - loss: 0.2705 - accuracy: 0.9124\n",
      "Epoch 175/200\n",
      "2500/2500 [==============================] - 5s 2ms/step - loss: 0.2873 - accuracy: 0.9136\n",
      "Epoch 176/200\n",
      "2500/2500 [==============================] - 5s 2ms/step - loss: 0.2738 - accuracy: 0.9112\n",
      "Epoch 177/200\n",
      "2500/2500 [==============================] - 5s 2ms/step - loss: 0.2894 - accuracy: 0.9016\n",
      "Epoch 178/200\n",
      "2500/2500 [==============================] - 5s 2ms/step - loss: 0.2946 - accuracy: 0.9088\n",
      "Epoch 179/200\n",
      "2500/2500 [==============================] - 5s 2ms/step - loss: 0.2710 - accuracy: 0.9128\n",
      "Epoch 180/200\n",
      "2500/2500 [==============================] - 5s 2ms/step - loss: 0.3181 - accuracy: 0.9016\n",
      "Epoch 181/200\n",
      "2500/2500 [==============================] - 5s 2ms/step - loss: 0.2629 - accuracy: 0.9188\n",
      "Epoch 182/200\n",
      "2500/2500 [==============================] - 5s 2ms/step - loss: 0.2500 - accuracy: 0.9128\n",
      "Epoch 183/200\n",
      "2500/2500 [==============================] - 5s 2ms/step - loss: 0.2585 - accuracy: 0.9200\n",
      "Epoch 184/200\n",
      "2500/2500 [==============================] - 5s 2ms/step - loss: 0.2901 - accuracy: 0.8992\n",
      "Epoch 185/200\n",
      "2500/2500 [==============================] - 5s 2ms/step - loss: 0.3148 - accuracy: 0.9048\n",
      "Epoch 186/200\n",
      "2500/2500 [==============================] - 5s 2ms/step - loss: 0.2936 - accuracy: 0.9080\n",
      "Epoch 187/200\n",
      "2500/2500 [==============================] - 5s 2ms/step - loss: 0.2797 - accuracy: 0.9096\n",
      "Epoch 188/200\n",
      "2500/2500 [==============================] - 5s 2ms/step - loss: 0.2957 - accuracy: 0.9088\n",
      "Epoch 189/200\n",
      "2500/2500 [==============================] - 5s 2ms/step - loss: 0.3021 - accuracy: 0.9036\n",
      "Epoch 190/200\n",
      "2500/2500 [==============================] - 5s 2ms/step - loss: 0.2622 - accuracy: 0.9128\n",
      "Epoch 191/200\n",
      "2500/2500 [==============================] - 5s 2ms/step - loss: 0.2818 - accuracy: 0.9140\n",
      "Epoch 192/200\n",
      "2500/2500 [==============================] - 5s 2ms/step - loss: 0.2755 - accuracy: 0.9180\n",
      "Epoch 193/200\n",
      "2500/2500 [==============================] - 5s 2ms/step - loss: 0.2792 - accuracy: 0.9124\n",
      "Epoch 194/200\n",
      "2500/2500 [==============================] - 5s 2ms/step - loss: 0.2753 - accuracy: 0.9164\n",
      "Epoch 195/200\n",
      "2500/2500 [==============================] - 6s 2ms/step - loss: 0.2336 - accuracy: 0.9316\n",
      "Epoch 196/200\n",
      "2500/2500 [==============================] - 5s 2ms/step - loss: 0.2509 - accuracy: 0.9180\n",
      "Epoch 197/200\n",
      "2500/2500 [==============================] - 5s 2ms/step - loss: 0.2756 - accuracy: 0.9140\n",
      "Epoch 198/200\n",
      "2500/2500 [==============================] - 5s 2ms/step - loss: 0.2693 - accuracy: 0.9148\n",
      "Epoch 199/200\n",
      "2500/2500 [==============================] - 5s 2ms/step - loss: 0.2268 - accuracy: 0.9272\n",
      "Epoch 200/200\n",
      "2500/2500 [==============================] - 5s 2ms/step - loss: 0.2072 - accuracy: 0.9312\n",
      "--- 979.0806038379669 seconds ---\n"
     ]
    }
   ],
   "source": [
    "start_time = time.time()\n",
    "model.compile(loss='categorical_crossentropy',optimizer = Adam(lr=0.001),metrics=['accuracy'])\n",
    "model_nn = model.fit(X,Y,epochs=200)\n",
    "print(\"--- %s seconds ---\" % (time.time() - start_time))"
   ]
  },
  {
   "cell_type": "code",
   "execution_count": 16,
   "metadata": {},
   "outputs": [
    {
     "name": "stdout",
     "output_type": "stream",
     "text": [
      "Test accuracy is 99.56 percent\n",
      "testing model takes 1.864372968673706 seconds\n"
     ]
    }
   ],
   "source": [
    "start_time = time.time()\n",
    "pred = model.predict(X)\n",
    "pred_list = [] \n",
    "for i in range(len(pred)):\n",
    "    arr = pred[i]\n",
    "    idx = np.argwhere(arr == np.max(arr))\n",
    "    pred_list.append(idx[0][0])\n",
    "tst_labl = np.argmax(Y, axis=-1)\n",
    "accuracy = accuracy_score(pred_list, tst_labl)\n",
    "print(\"Test accuracy is %s percent\" % round(accuracy*100,3))\n",
    "print(\"testing model takes %s seconds\" % (time.time() - start_time))"
   ]
  },
  {
   "cell_type": "code",
   "execution_count": 17,
   "metadata": {},
   "outputs": [
    {
     "data": {
      "text/plain": [
       "['../output/Advanced_model.m']"
      ]
     },
     "execution_count": 17,
     "metadata": {},
     "output_type": "execute_result"
    }
   ],
   "source": [
    "joblib.dump(model,'../output/Advanced_model.m')"
   ]
  },
  {
   "cell_type": "markdown",
   "metadata": {},
   "source": [
    "# Prediction"
   ]
  },
  {
   "cell_type": "code",
   "execution_count": 7,
   "metadata": {},
   "outputs": [
    {
     "name": "stderr",
     "output_type": "stream",
     "text": [
      "Using TensorFlow backend.\n"
     ]
    }
   ],
   "source": [
    "Baseline_model=joblib.load('../output/Baseline_model.m')\n",
    "\n",
    "Advanced_model=joblib.load('../output/Advanced_model.m')"
   ]
  },
  {
   "cell_type": "code",
   "execution_count": 8,
   "metadata": {},
   "outputs": [
    {
     "data": {
      "text/plain": [
       "GradientBoostingClassifier(criterion='friedman_mse', init=None,\n",
       "                           learning_rate=0.1, loss='deviance', max_depth=1,\n",
       "                           max_features=None, max_leaf_nodes=None,\n",
       "                           min_impurity_decrease=0.0, min_impurity_split=None,\n",
       "                           min_samples_leaf=1, min_samples_split=2,\n",
       "                           min_weight_fraction_leaf=0.0, n_estimators=100,\n",
       "                           n_iter_no_change=None, presort='auto',\n",
       "                           random_state=None, subsample=1.0, tol=0.0001,\n",
       "                           validation_fraction=0.1, verbose=0,\n",
       "                           warm_start=False)"
      ]
     },
     "execution_count": 8,
     "metadata": {},
     "output_type": "execute_result"
    }
   ],
   "source": [
    "Baseline_model"
   ]
  },
  {
   "cell_type": "code",
   "execution_count": 9,
   "metadata": {},
   "outputs": [
    {
     "data": {
      "text/plain": [
       "<keras.engine.training.Model at 0x1a19c2dfd0>"
      ]
     },
     "execution_count": 9,
     "metadata": {},
     "output_type": "execute_result"
    }
   ],
   "source": [
    "Advanced_model"
   ]
  },
  {
   "cell_type": "markdown",
   "metadata": {},
   "source": [
    "#### Prediction for Baseline/Advanced model"
   ]
  },
  {
   "cell_type": "code",
   "execution_count": 10,
   "metadata": {},
   "outputs": [
    {
     "name": "stdout",
     "output_type": "stream",
     "text": [
      "testing baseline takes 0.33864498138427734 seconds\n"
     ]
    }
   ],
   "source": [
    "start_time = time.time()\n",
    "pred_baseline = Baseline_model.predict(test_x)\n",
    "print(\"testing baseline takes %s seconds\" % (time.time() - start_time))"
   ]
  },
  {
   "cell_type": "code",
   "execution_count": 11,
   "metadata": {},
   "outputs": [
    {
     "name": "stdout",
     "output_type": "stream",
     "text": [
      "testing nn takes 2.1253249645233154 seconds\n"
     ]
    }
   ],
   "source": [
    "start_time = time.time()\n",
    "pred_advanced  = np.argmax(Advanced_model.predict(test_x), axis=1)+1\n",
    "print(\"testing nn takes %s seconds\" % (time.time() - start_time))"
   ]
  },
  {
   "cell_type": "markdown",
   "metadata": {},
   "source": [
    "#### Label Prediction"
   ]
  },
  {
   "cell_type": "code",
   "execution_count": 12,
   "metadata": {},
   "outputs": [],
   "source": [
    "label_pred = pd.read_csv(path+'/data/test_set/labels_prediction.csv')\n",
    "label_pred = label_pred.iloc[:,1:4]\n",
    "label_pred['Baseline'] = pred_baseline\n",
    "label_pred['Advanced'] = pred_advanced\n",
    "label_pred.to_csv(path+'/data/test_set/labels_prediction.csv')"
   ]
  },
  {
   "cell_type": "code",
   "execution_count": null,
   "metadata": {},
   "outputs": [],
   "source": []
  }
 ],
 "metadata": {
  "kernelspec": {
   "display_name": "Python 3",
   "language": "python",
   "name": "python3"
  },
  "language_info": {
   "codemirror_mode": {
    "name": "ipython",
    "version": 3
   },
   "file_extension": ".py",
   "mimetype": "text/x-python",
   "name": "python",
   "nbconvert_exporter": "python",
   "pygments_lexer": "ipython3",
   "version": "3.7.4"
  }
 },
 "nbformat": 4,
 "nbformat_minor": 2
}
