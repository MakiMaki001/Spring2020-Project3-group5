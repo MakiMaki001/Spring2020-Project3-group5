{
 "cells": [
  {
   "cell_type": "markdown",
   "metadata": {},
   "source": [
    "# Set and Import"
   ]
  },
  {
   "cell_type": "code",
   "execution_count": 22,
   "metadata": {},
   "outputs": [],
   "source": [
    "import numpy as np\n",
    "import pandas as pd\n",
    "from matplotlib import pyplot as plt\n",
    "import seaborn as sns\n",
    "from datetime import datetime\n",
    "from sklearn.decomposition import PCA\n",
    "from sklearn.model_selection import train_test_split\n",
    "from sklearn.metrics import classification_report\n",
    "from sklearn.metrics import confusion_matrix\n",
    "from sklearn.linear_model import LogisticRegression\n",
    "from sklearn.model_selection import GridSearchCV\n",
    "%run ../lib/load.py"
   ]
  },
  {
   "cell_type": "code",
   "execution_count": 18,
   "metadata": {},
   "outputs": [
    {
     "name": "stdout",
     "output_type": "stream",
     "text": [
      "--- 17.440037727355957 seconds ---\n"
     ]
    }
   ],
   "source": [
    "path = '/Users/zhaoziqin/Desktop/train_set/'\n",
    "data = load.load_data(path+'label.csv')\n",
    "points_path = '/Users/zhaoziqin/Desktop/train_set/points/'\n",
    "X = load.load_points(points_path,data)\n",
    "y= data['emotion_idx'].to_numpy()"
   ]
  },
  {
   "cell_type": "markdown",
   "metadata": {},
   "source": [
    "# train-test split"
   ]
  },
  {
   "cell_type": "code",
   "execution_count": 29,
   "metadata": {},
   "outputs": [],
   "source": [
    "train_x,test_x,train_y,test_y=train_test_split(X,y,test_size=0.2,random_state=123)"
   ]
  },
  {
   "cell_type": "code",
   "execution_count": 30,
   "metadata": {},
   "outputs": [
    {
     "name": "stdout",
     "output_type": "stream",
     "text": [
      "(2000, 6006)\n",
      "(500, 6006)\n",
      "(2000,)\n",
      "(500,)\n"
     ]
    }
   ],
   "source": [
    "print(train_x.shape)\n",
    "print(test_x.shape)\n",
    "print(train_y.shape)\n",
    "print(test_y.shape)"
   ]
  },
  {
   "cell_type": "markdown",
   "metadata": {},
   "source": [
    "# Advanced model: Logistic Regression"
   ]
  },
  {
   "cell_type": "code",
   "execution_count": 31,
   "metadata": {},
   "outputs": [
    {
     "name": "stdout",
     "output_type": "stream",
     "text": [
      "Fitting 3 folds for each of 6 candidates, totalling 18 fits\n"
     ]
    },
    {
     "name": "stderr",
     "output_type": "stream",
     "text": [
      "[Parallel(n_jobs=10)]: Using backend LokyBackend with 10 concurrent workers.\n",
      "[Parallel(n_jobs=10)]: Done   6 out of  18 | elapsed:  1.6min remaining:  3.2min\n",
      "[Parallel(n_jobs=10)]: Done  13 out of  18 | elapsed:  3.3min remaining:  1.3min\n",
      "[Parallel(n_jobs=10)]: Done  18 out of  18 | elapsed:  3.3min finished\n"
     ]
    },
    {
     "name": "stdout",
     "output_type": "stream",
     "text": [
      "--- 211.25653195381165 seconds ---\n"
     ]
    },
    {
     "name": "stderr",
     "output_type": "stream",
     "text": [
      "/opt/anaconda3/lib/python3.7/site-packages/sklearn/linear_model/logistic.py:947: ConvergenceWarning: lbfgs failed to converge. Increase the number of iterations.\n",
      "  \"of iterations.\", ConvergenceWarning)\n"
     ]
    }
   ],
   "source": [
    "start_time = time.time() \n",
    "param_grid = {\n",
    "    'C': [0.001,0.01, 1, 25,50,100] ,\n",
    "    'solver': ['lbfgs'],\n",
    "    'multi_class' : [ 'multinomial'],\n",
    "    'max_iter':[300],\n",
    "    'intercept_scaling':[1],\n",
    "    'dual':[False],\n",
    "    'fit_intercept':[True], \n",
    "    'penalty':['l2'],\n",
    "    'tol':[0.0001]}\n",
    "estimator = LogisticRegression()\n",
    "gscv = GridSearchCV(estimator = estimator, \n",
    "                                param_grid = param_grid, \n",
    "                                scoring ='accuracy',\n",
    "                                cv = 3,\n",
    "                                n_jobs = 10,\n",
    "                                verbose=3,)\n",
    "gscv.fit(train_x, train_y)\n",
    "print(\"--- %s seconds ---\" % (time.time() - start_time))"
   ]
  },
  {
   "cell_type": "code",
   "execution_count": 37,
   "metadata": {},
   "outputs": [
    {
     "data": {
      "text/plain": [
       "{'C': 0.01,\n",
       " 'dual': False,\n",
       " 'fit_intercept': True,\n",
       " 'intercept_scaling': 1,\n",
       " 'max_iter': 300,\n",
       " 'multi_class': 'multinomial',\n",
       " 'penalty': 'l2',\n",
       " 'solver': 'lbfgs',\n",
       " 'tol': 0.0001}"
      ]
     },
     "execution_count": 37,
     "metadata": {},
     "output_type": "execute_result"
    }
   ],
   "source": [
    "gscv.best_params_"
   ]
  },
  {
   "cell_type": "code",
   "execution_count": 34,
   "metadata": {},
   "outputs": [
    {
     "data": {
      "text/plain": [
       "LogisticRegression(C=0.01, class_weight=None, dual=False, fit_intercept=True,\n",
       "                   intercept_scaling=1, l1_ratio=None, max_iter=300,\n",
       "                   multi_class='multinomial', n_jobs=None, penalty='l2',\n",
       "                   random_state=None, solver='lbfgs', tol=0.0001, verbose=0,\n",
       "                   warm_start=False)"
      ]
     },
     "execution_count": 34,
     "metadata": {},
     "output_type": "execute_result"
    }
   ],
   "source": [
    "gscv.best_estimator_"
   ]
  },
  {
   "cell_type": "code",
   "execution_count": 40,
   "metadata": {},
   "outputs": [
    {
     "name": "stdout",
     "output_type": "stream",
     "text": [
      "--- 14.09993290901184 seconds ---\n"
     ]
    },
    {
     "name": "stderr",
     "output_type": "stream",
     "text": [
      "/opt/anaconda3/lib/python3.7/site-packages/sklearn/linear_model/logistic.py:947: ConvergenceWarning: lbfgs failed to converge. Increase the number of iterations.\n",
      "  \"of iterations.\", ConvergenceWarning)\n"
     ]
    }
   ],
   "source": [
    "start_time = time.time() \n",
    "lr = LogisticRegression(C=0.01, dual=False, fit_intercept=True,\n",
    "                   intercept_scaling=1, max_iter=300,\n",
    "                   multi_class='multinomial', penalty='l2',\n",
    "                   solver='lbfgs', tol=0.0001)\n",
    "lr_model = lr.fit(train_x,train_y)\n",
    "print(\"--- %s seconds ---\" % (time.time() - start_time))"
   ]
  },
  {
   "cell_type": "code",
   "execution_count": 41,
   "metadata": {},
   "outputs": [
    {
     "name": "stdout",
     "output_type": "stream",
     "text": [
      "Accuracy on the logistic regression model(train): 0.7600\n",
      "Accuracy on the logistic regression model(test): 0.4940\n",
      "              precision    recall  f1-score   support\n",
      "\n",
      "           1       0.88      0.89      0.89        94\n",
      "           2       0.93      0.97      0.95        95\n",
      "           3       0.80      0.82      0.81       110\n",
      "           4       0.80      0.72      0.76        97\n",
      "           5       0.84      0.84      0.84        91\n",
      "           6       0.73      0.74      0.74        78\n",
      "           7       0.74      0.74      0.74        94\n",
      "           8       0.94      0.94      0.94       104\n",
      "           9       0.92      0.93      0.92        84\n",
      "          10       0.66      0.68      0.67        87\n",
      "          11       0.80      0.79      0.79        99\n",
      "          12       0.71      0.60      0.65        80\n",
      "          13       0.64      0.67      0.65        83\n",
      "          14       0.74      0.82      0.78        99\n",
      "          15       0.73      0.64      0.69        73\n",
      "          16       0.78      0.80      0.79        91\n",
      "          17       0.77      0.73      0.75       101\n",
      "          18       0.68      0.73      0.70        84\n",
      "          19       0.62      0.58      0.60        88\n",
      "          20       0.66      0.67      0.67        95\n",
      "          21       0.68      0.64      0.66        83\n",
      "          22       0.58      0.66      0.61        90\n",
      "\n",
      "    accuracy                           0.76      2000\n",
      "   macro avg       0.76      0.75      0.76      2000\n",
      "weighted avg       0.76      0.76      0.76      2000\n",
      "\n",
      "              precision    recall  f1-score   support\n",
      "\n",
      "           1       0.68      0.83      0.75        18\n",
      "           2       0.79      0.58      0.67        19\n",
      "           3       0.55      0.68      0.61        25\n",
      "           4       0.42      0.52      0.47        21\n",
      "           5       0.55      0.89      0.68        18\n",
      "           6       0.48      0.38      0.43        26\n",
      "           7       0.52      0.60      0.56        20\n",
      "           8       0.59      0.81      0.68        16\n",
      "           9       0.75      0.72      0.73        25\n",
      "          10       0.47      0.40      0.43        20\n",
      "          11       0.50      0.46      0.48        24\n",
      "          12       0.40      0.31      0.35        32\n",
      "          13       0.32      0.38      0.35        24\n",
      "          14       0.60      0.65      0.63        23\n",
      "          15       0.59      0.45      0.51        22\n",
      "          16       0.54      0.68      0.60        22\n",
      "          17       0.57      0.50      0.53        26\n",
      "          18       0.57      0.36      0.44        22\n",
      "          19       0.20      0.17      0.19        23\n",
      "          20       0.32      0.40      0.36        20\n",
      "          21       0.48      0.29      0.36        34\n",
      "          22       0.13      0.15      0.14        20\n",
      "\n",
      "    accuracy                           0.49       500\n",
      "   macro avg       0.50      0.51      0.50       500\n",
      "weighted avg       0.50      0.49      0.49       500\n",
      "\n"
     ]
    }
   ],
   "source": [
    "lr_test_pred = lr_model.predict(test_x)\n",
    "lr_train_pred = lr_model.predict(train_x)\n",
    "lr_accuracy_train = lr_model.score(train_x,train_y)\n",
    "lr_accuracy_test = lr_model.score(test_x,test_y)\n",
    "print(\"Accuracy on the logistic regression model(train): %.4f\" % (lr_accuracy_train))\n",
    "print(\"Accuracy on the logistic regression model(test): %.4f\" % (lr_accuracy_test))\n",
    "print(classification_report(train_y, lr_train_pred))\n",
    "print(classification_report(test_y, lr_test_pred))"
   ]
  },
  {
   "cell_type": "code",
   "execution_count": 42,
   "metadata": {},
   "outputs": [
    {
     "data": {
      "text/plain": [
       "<matplotlib.axes._subplots.AxesSubplot at 0x1a35562e10>"
      ]
     },
     "execution_count": 42,
     "metadata": {},
     "output_type": "execute_result"
    },
    {
     "data": {
      "image/png": "[encoded data removed]",
      "text/plain": [
       "<Figure size 432x288 with 2 Axes>"
      ]
     },
     "metadata": {
      "needs_background": "light"
     },
     "output_type": "display_data"
    }
   ],
   "source": [
    "lr_cm = confusion_matrix(test_y,lr_test_pred)\n",
    "sns.heatmap(lr_cm)"
   ]
  },
  {
   "cell_type": "code",
   "execution_count": 16,
   "metadata": {},
   "outputs": [
    {
     "data": {
      "text/plain": [
       "['../output/logistic_new.m']"
      ]
     },
     "execution_count": 16,
     "metadata": {},
     "output_type": "execute_result"
    }
   ],
   "source": [
    "# save \n",
    "joblib.dump(lr_model,'../output/logistic_new.m')"
   ]
  },
  {
   "cell_type": "code",
   "execution_count": null,
   "metadata": {},
   "outputs": [],
   "source": []
  }
 ],
 "metadata": {
  "kernelspec": {
   "display_name": "Python 3",
   "language": "python",
   "name": "python3"
  },
  "language_info": {
   "codemirror_mode": {
    "name": "ipython",
    "version": 3
   },
   "file_extension": ".py",
   "mimetype": "text/x-python",
   "name": "python",
   "nbconvert_exporter": "python",
   "pygments_lexer": "ipython3",
   "version": "3.7.4"
  }
 },
 "nbformat": 4,
 "nbformat_minor": 2
}
