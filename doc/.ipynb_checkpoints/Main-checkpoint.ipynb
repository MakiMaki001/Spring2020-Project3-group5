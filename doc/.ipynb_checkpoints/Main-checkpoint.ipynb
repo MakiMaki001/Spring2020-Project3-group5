{
 "cells": [
  {
   "cell_type": "markdown",
   "metadata": {},
   "source": [
    "# Project 3 Predictive analytics: model evaluation and selection"
   ]
  },
  {
   "cell_type": "markdown",
   "metadata": {},
   "source": [
    "## Step 0: Set up the environment and Import packages"
   ]
  },
  {
   "cell_type": "code",
   "execution_count": 1,
   "metadata": {},
   "outputs": [],
   "source": [
    "import warnings\n",
    "warnings.filterwarnings(\"ignore\")"
   ]
  },
  {
   "cell_type": "code",
   "execution_count": 21,
   "metadata": {},
   "outputs": [],
   "source": [
    "import os\n",
    "import pandas as pd\n",
    "import numpy as np\n",
    "import scipy.io as scio\n",
    "from matplotlib import pyplot as plt\n",
    "import seaborn as sns\n",
    "import time\n",
    "from datetime import datetime\n",
    "from sklearn.decomposition import PCA\n",
    "from sklearn.model_selection import train_test_split\n",
    "from sklearn.metrics import classification_report\n",
    "from sklearn.metrics import confusion_matrix\n",
    "from sklearn.model_selection import GridSearchCV\n",
    "from sklearn.preprocessing import StandardScaler\n",
    "from sklearn.metrics import accuracy_score\n",
    "import time\n",
    "from sklearn.model_selection import cross_val_score\n",
    "from sklearn.model_selection import KFold\n",
    "from sklearn.externals import joblib\n",
    "from sklearn.ensemble import VotingClassifier\n",
    "from sklearn.ensemble import GradientBoostingClassifier\n",
    "from sklearn.linear_model import LogisticRegression\n",
    "from sklearn.svm import SVC\n",
    "from sklearn.discriminant_analysis import LinearDiscriminantAnalysis as LDA\n",
    "import xgboost\n",
    "from xgboost import XGBClassifier\n",
    "from sklearn.ensemble import RandomForestClassifier\n",
    "from sklearn.metrics import accuracy_score, roc_auc_score\n",
    "from scipy.io import loadmat\n",
    "import scipy"
   ]
  },
  {
   "cell_type": "markdown",
   "metadata": {},
   "source": [
    "## Step 1: Feature Extraction"
   ]
  },
  {
   "cell_type": "code",
   "execution_count": 4,
   "metadata": {},
   "outputs": [],
   "source": [
    "class load():\n",
    "    def load_data(filename):\n",
    "        raw_data = pd.read_csv(filename)\n",
    "        raw_data['filename'] = [str(i).zfill(4)+'.jpg' for i in raw_data['Index'].tolist()]\n",
    "        raw_data['pointsname'] = [str(i).zfill(4)+'.mat' for i in raw_data['Index'].tolist()]\n",
    "        return raw_data\n",
    "\n",
    "    #read points data from mat data\n",
    "    def load_points(points_path,data):\n",
    "        n = data.shape[0]\n",
    "        points_data = np.zeros([n,3003,2])\n",
    "        start_time = time.time()\n",
    "        for i in range(n):\n",
    "            result = loadmat(points_path+data['pointsname'][i])\n",
    "            key = sorted(result.keys())[-1]\n",
    "            points = result[key]\n",
    "            distance_h = []\n",
    "            distance_v = []\n",
    "            for d in range(points.shape[0]-1):\n",
    "                for j in range(d+1,points.shape[0]):\n",
    "                    distance_h.append(abs(points[d,0]-points[j,0]))\n",
    "                    distance_v.append(abs(points[d,1]-points[j,1]))\n",
    "\n",
    "            points_data[i,:,0]=distance_h\n",
    "            points_data[i,:,1]=distance_v\n",
    "        print(\"--- %s seconds ---\" % (time.time() - start_time))\n",
    "        return points_data.reshape([2500,6006])"
   ]
  },
  {
   "cell_type": "markdown",
   "metadata": {},
   "source": [
    "<font color='blue'> Please modify the path in the following part to get different files.</font>\n"
   ]
  },
  {
   "cell_type": "code",
   "execution_count": 5,
   "metadata": {},
   "outputs": [
    {
     "name": "stdout",
     "output_type": "stream",
     "text": [
      "--- 13.732297897338867 seconds ---\n"
     ]
    }
   ],
   "source": [
    "path = '/Users/zhaoziqin/Desktop/train_set/'  # Please modify your own path\n",
    "data = load.load_data(path+'label.csv')\n",
    "points_path = '/Users/zhaoziqin/Desktop/train_set/points/'\n",
    "X = load.load_points(points_path,data)\n",
    "X = np.round(X,0)\n",
    "y= data['emotion_idx'].to_numpy()"
   ]
  },
  {
   "cell_type": "markdown",
   "metadata": {},
   "source": [
    "## Step 2 : Train-Test Split"
   ]
  },
  {
   "cell_type": "code",
   "execution_count": 6,
   "metadata": {},
   "outputs": [],
   "source": [
    "train_x,test_x,train_y,test_y=train_test_split(X,y,test_size=0.2,random_state=123)"
   ]
  },
  {
   "cell_type": "code",
   "execution_count": 7,
   "metadata": {},
   "outputs": [
    {
     "name": "stdout",
     "output_type": "stream",
     "text": [
      "(2000, 6006)\n",
      "(500, 6006)\n",
      "(2000,)\n",
      "(500,)\n"
     ]
    }
   ],
   "source": [
    "print(train_x.shape)\n",
    "print(test_x.shape)\n",
    "print(train_y.shape)\n",
    "print(test_y.shape)"
   ]
  },
  {
   "cell_type": "markdown",
   "metadata": {},
   "source": [
    "## Step 3 : Baseline Model --- GBM"
   ]
  },
  {
   "cell_type": "markdown",
   "metadata": {},
   "source": [
    "We used Cross-Validation to find the more efficient estimator combination for baseline model and fitted by using this combination."
   ]
  },
  {
   "cell_type": "code",
   "execution_count": 8,
   "metadata": {},
   "outputs": [
    {
     "name": "stdout",
     "output_type": "stream",
     "text": [
      "--- 521.2786290645599 seconds ---\n"
     ]
    }
   ],
   "source": [
    "start_time = time.time()\n",
    "baseline = GradientBoostingClassifier(n_estimators=100,max_depth= 1,learning_rate=0.1)\n",
    "gbm_model = baseline.fit(train_x,train_y) \n",
    "print(\"--- %s seconds ---\" % (time.time() - start_time))"
   ]
  },
  {
   "cell_type": "code",
   "execution_count": 9,
   "metadata": {},
   "outputs": [
    {
     "name": "stdout",
     "output_type": "stream",
     "text": [
      "Training Accuracy on the baseline model: 0.8380\n",
      "Testing Accuracy on the baseline model: 0.3820\n",
      "Prediction on Baseline: 0.035868167877197266 seconds\n",
      "              precision    recall  f1-score   support\n",
      "\n",
      "           1       0.87      0.97      0.91        94\n",
      "           2       0.93      0.99      0.96        95\n",
      "           3       0.80      0.90      0.85       110\n",
      "           4       0.80      0.82      0.81        97\n",
      "           5       0.90      0.95      0.92        91\n",
      "           6       0.81      0.83      0.82        78\n",
      "           7       0.88      0.88      0.88        94\n",
      "           8       0.94      0.95      0.95       104\n",
      "           9       0.91      0.95      0.93        84\n",
      "          10       0.79      0.77      0.78        87\n",
      "          11       0.89      0.82      0.85        99\n",
      "          12       0.85      0.75      0.79        80\n",
      "          13       0.81      0.65      0.72        83\n",
      "          14       0.78      0.90      0.84        99\n",
      "          15       0.86      0.77      0.81        73\n",
      "          16       0.82      0.88      0.85        91\n",
      "          17       0.79      0.83      0.81       101\n",
      "          18       0.90      0.77      0.83        84\n",
      "          19       0.70      0.75      0.73        88\n",
      "          20       0.74      0.74      0.74        95\n",
      "          21       0.86      0.78      0.82        83\n",
      "          22       0.85      0.69      0.76        90\n",
      "\n",
      "    accuracy                           0.84      2000\n",
      "   macro avg       0.84      0.83      0.83      2000\n",
      "weighted avg       0.84      0.84      0.84      2000\n",
      "\n",
      "              precision    recall  f1-score   support\n",
      "\n",
      "           1       0.41      0.67      0.51        18\n",
      "           2       0.59      0.68      0.63        19\n",
      "           3       0.24      0.36      0.29        25\n",
      "           4       0.38      0.57      0.45        21\n",
      "           5       0.48      0.56      0.51        18\n",
      "           6       0.47      0.35      0.40        26\n",
      "           7       0.42      0.55      0.48        20\n",
      "           8       0.67      0.62      0.65        16\n",
      "           9       0.73      0.44      0.55        25\n",
      "          10       0.44      0.35      0.39        20\n",
      "          11       0.48      0.54      0.51        24\n",
      "          12       0.32      0.22      0.26        32\n",
      "          13       0.24      0.21      0.22        24\n",
      "          14       0.43      0.52      0.47        23\n",
      "          15       0.31      0.23      0.26        22\n",
      "          16       0.55      0.50      0.52        22\n",
      "          17       0.24      0.27      0.25        26\n",
      "          18       0.25      0.23      0.24        22\n",
      "          19       0.27      0.43      0.33        23\n",
      "          20       0.20      0.20      0.20        20\n",
      "          21       0.33      0.21      0.25        34\n",
      "          22       0.17      0.05      0.08        20\n",
      "\n",
      "    accuracy                           0.38       500\n",
      "   macro avg       0.39      0.40      0.38       500\n",
      "weighted avg       0.39      0.38      0.37       500\n",
      "\n"
     ]
    }
   ],
   "source": [
    "baseline_train_accuracy = gbm_model.score(train_x,train_y)\n",
    "baseline_test_accuracy = gbm_model.score(test_x,test_y)\n",
    "print(\"Training Accuracy on the baseline model: %.4f\" % (baseline_train_accuracy))\n",
    "print(\"Testing Accuracy on the baseline model: %.4f\" % (baseline_test_accuracy))\n",
    "\n",
    "baseline_pred_train = gbm_model.predict(train_x)\n",
    "t1 = time.time()\n",
    "baseline_pred_test = gbm_model.predict(test_x)\n",
    "print(\"Prediction on Baseline: %s seconds\" % (time.time() - t1))\n",
    "\n",
    "print(classification_report(train_y, baseline_pred_train))\n",
    "print(classification_report(test_y, baseline_pred_test))\n"
   ]
  },
  {
   "cell_type": "code",
   "execution_count": 49,
   "metadata": {},
   "outputs": [
    {
     "data": {
      "text/plain": [
       "<matplotlib.axes._subplots.AxesSubplot at 0x1a6a372890>"
      ]
     },
     "execution_count": 49,
     "metadata": {},
     "output_type": "execute_result"
    },
    {
     "data": {
      "image/png": "[encoded data removed]",
      "text/plain": [
       "<Figure size 432x288 with 2 Axes>"
      ]
     },
     "metadata": {
      "needs_background": "light"
     },
     "output_type": "display_data"
    }
   ],
   "source": [
    "cm_baseline = confusion_matrix(test_y,baseline_pred_test)\n",
    "sns.heatmap(cm_baseline)"
   ]
  },
  {
   "cell_type": "markdown",
   "metadata": {},
   "source": [
    "## Step 4 : Candidate Advanced Model --- Part I"
   ]
  },
  {
   "cell_type": "markdown",
   "metadata": {},
   "source": [
    "For our advanced model, we chose different models to fit the train dataset. Here is the following models we picked as our candidate advanced models firstly."
   ]
  },
  {
   "cell_type": "markdown",
   "metadata": {},
   "source": [
    " 1. XGBoost\n",
    " 2. Logistic Regression\n",
    " 3. Support Vector Machine (SVM)\n",
    " 4. LDA\n",
    " 5. Random Forest\n",
    " \n",
    "For each of these models, We have different python files for each model which contains the completed process. In each of model, we used Cross-Validation to find the best parameter combination and fit the training set."
   ]
  },
  {
   "cell_type": "markdown",
   "metadata": {},
   "source": [
    "### 1. XGBoost"
   ]
  },
  {
   "cell_type": "markdown",
   "metadata": {},
   "source": [
    "#### We used  GridSearch cross-validation to find the best parameter combination.\n",
    "'max_depth': range (1, 5, 1)\n",
    "\n",
    "'n_estimators': range(1, 200, 20)\n",
    "\n",
    "'learning_rate': [0.1, 0.01, 0.05]\n",
    "\n",
    "Results: Best Max Depth: 2 / Best N.estimators: 181 / Best Learning Rate: 0.1"
   ]
  },
  {
   "cell_type": "code",
   "execution_count": 11,
   "metadata": {},
   "outputs": [
    {
     "name": "stdout",
     "output_type": "stream",
     "text": [
      "--- 1987.00168800354 seconds ---\n"
     ]
    }
   ],
   "source": [
    "start_time = time.time()\n",
    "xgb = XGBClassifier(n_estimators = 181,max_depth=2,learning_rate=0.1)\n",
    "xgb_model = xgb.fit(train_x,train_y)\n",
    "print(\"--- %s seconds ---\" % (time.time() - start_time))"
   ]
  },
  {
   "cell_type": "code",
   "execution_count": 13,
   "metadata": {},
   "outputs": [
    {
     "name": "stdout",
     "output_type": "stream",
     "text": [
      "Training Accuracy on the xgb model: 1.0000\n",
      "Testing Accuracy on the xgb model: 0.4920\n",
      "Prediction on XGBoost: 1.1762139797210693 seconds\n",
      "              precision    recall  f1-score   support\n",
      "\n",
      "           1       1.00      1.00      1.00        94\n",
      "           2       1.00      1.00      1.00        95\n",
      "           3       1.00      1.00      1.00       110\n",
      "           4       1.00      1.00      1.00        97\n",
      "           5       1.00      1.00      1.00        91\n",
      "           6       1.00      1.00      1.00        78\n",
      "           7       1.00      1.00      1.00        94\n",
      "           8       1.00      1.00      1.00       104\n",
      "           9       1.00      1.00      1.00        84\n",
      "          10       1.00      1.00      1.00        87\n",
      "          11       1.00      1.00      1.00        99\n",
      "          12       1.00      1.00      1.00        80\n",
      "          13       1.00      1.00      1.00        83\n",
      "          14       1.00      1.00      1.00        99\n",
      "          15       1.00      1.00      1.00        73\n",
      "          16       1.00      1.00      1.00        91\n",
      "          17       1.00      1.00      1.00       101\n",
      "          18       1.00      1.00      1.00        84\n",
      "          19       1.00      1.00      1.00        88\n",
      "          20       1.00      1.00      1.00        95\n",
      "          21       1.00      1.00      1.00        83\n",
      "          22       1.00      1.00      1.00        90\n",
      "\n",
      "    accuracy                           1.00      2000\n",
      "   macro avg       1.00      1.00      1.00      2000\n",
      "weighted avg       1.00      1.00      1.00      2000\n",
      "\n",
      "              precision    recall  f1-score   support\n",
      "\n",
      "           1       0.58      0.83      0.68        18\n",
      "           2       0.63      0.63      0.63        19\n",
      "           3       0.46      0.52      0.49        25\n",
      "           4       0.44      0.52      0.48        21\n",
      "           5       0.50      0.61      0.55        18\n",
      "           6       0.73      0.42      0.54        26\n",
      "           7       0.47      0.40      0.43        20\n",
      "           8       0.75      0.75      0.75        16\n",
      "           9       0.68      0.52      0.59        25\n",
      "          10       0.55      0.60      0.57        20\n",
      "          11       0.52      0.58      0.55        24\n",
      "          12       0.43      0.41      0.42        32\n",
      "          13       0.29      0.29      0.29        24\n",
      "          14       0.60      0.65      0.63        23\n",
      "          15       0.56      0.41      0.47        22\n",
      "          16       0.65      0.77      0.71        22\n",
      "          17       0.42      0.50      0.46        26\n",
      "          18       0.50      0.32      0.39        22\n",
      "          19       0.36      0.57      0.44        23\n",
      "          20       0.27      0.35      0.30        20\n",
      "          21       0.46      0.32      0.38        34\n",
      "          22       0.17      0.10      0.12        20\n",
      "\n",
      "    accuracy                           0.49       500\n",
      "   macro avg       0.50      0.50      0.49       500\n",
      "weighted avg       0.50      0.49      0.49       500\n",
      "\n"
     ]
    }
   ],
   "source": [
    "xgb_train_accuracy = xgb_model.score(train_x,train_y)\n",
    "xgb_test_accuracy = xgb_model.score(test_x,test_y)\n",
    "print(\"Training Accuracy on the xgb model: %.4f\" % (xgb_train_accuracy))\n",
    "print(\"Testing Accuracy on the xgb model: %.4f\" % (xgb_test_accuracy))\n",
    "\n",
    "xgb_pred_train = xgb_model.predict(train_x)\n",
    "t1 = time.time()\n",
    "xgb_pred_test = xgb_model.predict(test_x)\n",
    "print(\"Prediction on XGBoost: %s seconds\" % (time.time() - t1))\n",
    "\n",
    "print(classification_report(train_y, xgb_pred_train))\n",
    "print(classification_report(test_y, xgb_pred_test))\n"
   ]
  },
  {
   "cell_type": "markdown",
   "metadata": {},
   "source": [
    "### 2. Logistic Regression"
   ]
  },
  {
   "cell_type": "markdown",
   "metadata": {},
   "source": [
    "#### We used GridSearchCV to fine the best parameter combination\n",
    "'C': [0.001,0.01, 1, 25,50,100] \n",
    "\n",
    "Result:\n",
    "\n",
    " 'C': 0.01,\n",
    " 'dual': False.\n",
    " 'fit_intercept': True,\n",
    " 'intercept_scaling': 1,\n",
    " 'max_iter': 300,\n",
    " 'multi_class': 'multinomial',\n",
    " 'penalty': 'l2',\n",
    " 'solver': 'lbfgs',\n",
    " 'tol': 0.0001}"
   ]
  },
  {
   "cell_type": "code",
   "execution_count": 14,
   "metadata": {},
   "outputs": [
    {
     "name": "stdout",
     "output_type": "stream",
     "text": [
      "--- 14.355353116989136 seconds ---\n"
     ]
    }
   ],
   "source": [
    "start_time = time.time() \n",
    "lr = LogisticRegression(C=0.01, dual=False, fit_intercept=True,\n",
    "                   intercept_scaling=1, max_iter=300,\n",
    "                   multi_class='multinomial', penalty='l2',\n",
    "                   solver='lbfgs', tol=0.0001)\n",
    "lr_model = lr.fit(train_x,train_y)\n",
    "print(\"--- %s seconds ---\" % (time.time() - start_time))"
   ]
  },
  {
   "cell_type": "code",
   "execution_count": 15,
   "metadata": {},
   "outputs": [
    {
     "name": "stdout",
     "output_type": "stream",
     "text": [
      "Training Accuracy on the logistic regression model: 0.7725\n",
      "Testing Accuracy on the logistic regression model: 0.5140\n",
      "Prediction on Logistic Regression: 0.008421897888183594 seconds\n",
      "              precision    recall  f1-score   support\n",
      "\n",
      "           1       0.84      0.89      0.87        94\n",
      "           2       0.93      0.94      0.93        95\n",
      "           3       0.83      0.85      0.84       110\n",
      "           4       0.76      0.76      0.76        97\n",
      "           5       0.85      0.89      0.87        91\n",
      "           6       0.77      0.77      0.77        78\n",
      "           7       0.80      0.79      0.80        94\n",
      "           8       0.93      0.95      0.94       104\n",
      "           9       0.92      0.93      0.92        84\n",
      "          10       0.67      0.64      0.66        87\n",
      "          11       0.81      0.81      0.81        99\n",
      "          12       0.68      0.66      0.67        80\n",
      "          13       0.64      0.64      0.64        83\n",
      "          14       0.77      0.83      0.80        99\n",
      "          15       0.71      0.67      0.69        73\n",
      "          16       0.80      0.80      0.80        91\n",
      "          17       0.80      0.77      0.79       101\n",
      "          18       0.70      0.71      0.71        84\n",
      "          19       0.62      0.66      0.64        88\n",
      "          20       0.76      0.64      0.70        95\n",
      "          21       0.67      0.64      0.65        83\n",
      "          22       0.61      0.63      0.62        90\n",
      "\n",
      "    accuracy                           0.77      2000\n",
      "   macro avg       0.77      0.77      0.77      2000\n",
      "weighted avg       0.77      0.77      0.77      2000\n",
      "\n",
      "              precision    recall  f1-score   support\n",
      "\n",
      "           1       0.58      0.78      0.67        18\n",
      "           2       0.85      0.58      0.69        19\n",
      "           3       0.55      0.64      0.59        25\n",
      "           4       0.42      0.52      0.47        21\n",
      "           5       0.62      0.89      0.73        18\n",
      "           6       0.48      0.46      0.47        26\n",
      "           7       0.52      0.60      0.56        20\n",
      "           8       0.59      0.81      0.68        16\n",
      "           9       0.90      0.72      0.80        25\n",
      "          10       0.45      0.45      0.45        20\n",
      "          11       0.52      0.50      0.51        24\n",
      "          12       0.44      0.34      0.39        32\n",
      "          13       0.43      0.38      0.40        24\n",
      "          14       0.56      0.65      0.60        23\n",
      "          15       0.55      0.55      0.55        22\n",
      "          16       0.57      0.73      0.64        22\n",
      "          17       0.54      0.54      0.54        26\n",
      "          18       0.64      0.41      0.50        22\n",
      "          19       0.19      0.17      0.18        23\n",
      "          20       0.32      0.35      0.33        20\n",
      "          21       0.52      0.35      0.42        34\n",
      "          22       0.20      0.20      0.20        20\n",
      "\n",
      "    accuracy                           0.51       500\n",
      "   macro avg       0.52      0.53      0.52       500\n",
      "weighted avg       0.52      0.51      0.51       500\n",
      "\n"
     ]
    }
   ],
   "source": [
    "lr_train_accuracy = lr_model.score(train_x,train_y)\n",
    "lr_test_accuracy = lr_model.score(test_x,test_y)\n",
    "print(\"Training Accuracy on the logistic regression model: %.4f\" % (lr_train_accuracy))\n",
    "print(\"Testing Accuracy on the logistic regression model: %.4f\" % (lr_test_accuracy))\n",
    "\n",
    "lr_pred_train = lr_model.predict(train_x)\n",
    "t1 = time.time()\n",
    "lr_pred_test = lr_model.predict(test_x)\n",
    "print(\"Prediction on Logistic Regression: %s seconds\" % (time.time() - t1))\n",
    "\n",
    "print(classification_report(train_y, lr_pred_train))\n",
    "print(classification_report(test_y, lr_pred_test))"
   ]
  },
  {
   "cell_type": "markdown",
   "metadata": {},
   "source": [
    "### 3. Support Vector Machine (SVM)"
   ]
  },
  {
   "cell_type": "markdown",
   "metadata": {},
   "source": [
    "#### We used GridSearchCV to find the best parameter combination of SVM.\n",
    "param= {'C': [0.0000001,0.000001,0.00001,0.0001,0.001,0.01,1]}\n",
    "\n",
    "Result: 'C':0.00001"
   ]
  },
  {
   "cell_type": "code",
   "execution_count": 18,
   "metadata": {},
   "outputs": [
    {
     "name": "stdout",
     "output_type": "stream",
     "text": [
      "--- 18.18335795402527 seconds ---\n"
     ]
    }
   ],
   "source": [
    "start_time = time.time()\n",
    "svc = SVC(kernel= 'linear', random_state = 123, C = 0.00001)\n",
    "svm = svc.fit(train_x,train_y)\n",
    "print(\"--- %s seconds ---\" % (time.time() - start_time))"
   ]
  },
  {
   "cell_type": "code",
   "execution_count": 20,
   "metadata": {},
   "outputs": [
    {
     "name": "stdout",
     "output_type": "stream",
     "text": [
      "Training Accuracy on the logistic regression model: 0.8145\n",
      "Testing Accuracy on the logistic regression model: 0.4840\n",
      "Prediction on SVM: 5.256656885147095 seconds\n",
      "              precision    recall  f1-score   support\n",
      "\n",
      "           1       0.88      0.97      0.92        94\n",
      "           2       0.96      0.96      0.96        95\n",
      "           3       0.87      0.82      0.85       110\n",
      "           4       0.75      0.81      0.78        97\n",
      "           5       0.90      0.95      0.92        91\n",
      "           6       0.79      0.78      0.79        78\n",
      "           7       0.87      0.87      0.87        94\n",
      "           8       0.94      0.98      0.96       104\n",
      "           9       0.93      0.95      0.94        84\n",
      "          10       0.70      0.79      0.74        87\n",
      "          11       0.86      0.76      0.81        99\n",
      "          12       0.66      0.71      0.69        80\n",
      "          13       0.65      0.61      0.63        83\n",
      "          14       0.75      0.89      0.81        99\n",
      "          15       0.85      0.71      0.78        73\n",
      "          16       0.89      0.89      0.89        91\n",
      "          17       0.81      0.78      0.79       101\n",
      "          18       0.82      0.74      0.78        84\n",
      "          19       0.69      0.70      0.70        88\n",
      "          20       0.82      0.68      0.75        95\n",
      "          21       0.72      0.78      0.75        83\n",
      "          22       0.78      0.68      0.73        90\n",
      "\n",
      "    accuracy                           0.81      2000\n",
      "   macro avg       0.81      0.81      0.81      2000\n",
      "weighted avg       0.82      0.81      0.81      2000\n",
      "\n",
      "              precision    recall  f1-score   support\n",
      "\n",
      "           1       0.59      0.72      0.65        18\n",
      "           2       0.68      0.68      0.68        19\n",
      "           3       0.40      0.56      0.47        25\n",
      "           4       0.41      0.57      0.48        21\n",
      "           5       0.54      0.83      0.65        18\n",
      "           6       0.50      0.46      0.48        26\n",
      "           7       0.45      0.45      0.45        20\n",
      "           8       0.59      0.62      0.61        16\n",
      "           9       0.78      0.72      0.75        25\n",
      "          10       0.38      0.40      0.39        20\n",
      "          11       0.55      0.46      0.50        24\n",
      "          12       0.54      0.44      0.48        32\n",
      "          13       0.36      0.33      0.35        24\n",
      "          14       0.62      0.70      0.65        23\n",
      "          15       0.65      0.59      0.62        22\n",
      "          16       0.48      0.59      0.53        22\n",
      "          17       0.50      0.46      0.48        26\n",
      "          18       0.37      0.32      0.34        22\n",
      "          19       0.17      0.17      0.17        23\n",
      "          20       0.33      0.30      0.32        20\n",
      "          21       0.52      0.35      0.42        34\n",
      "          22       0.14      0.10      0.12        20\n",
      "\n",
      "    accuracy                           0.48       500\n",
      "   macro avg       0.48      0.49      0.48       500\n",
      "weighted avg       0.48      0.48      0.48       500\n",
      "\n"
     ]
    }
   ],
   "source": [
    "svm_train_accuracy = svm.score(train_x,train_y)\n",
    "svm_test_accuracy = svm.score(test_x,test_y)\n",
    "print(\"Training Accuracy on the logistic regression model: %.4f\" % (svm_train_accuracy))\n",
    "print(\"Testing Accuracy on the logistic regression model: %.4f\" % (svm_test_accuracy))\n",
    "\n",
    "svm_pred_train = svm.predict(train_x)\n",
    "t1 = time.time()\n",
    "svm_pred_test = svm.predict(test_x)\n",
    "print(\"Prediction on SVM: %s seconds\" % (time.time() - t1))\n",
    "\n",
    "print(classification_report(train_y, svm_pred_train))\n",
    "print(classification_report(test_y, svm_pred_test))"
   ]
  },
  {
   "cell_type": "markdown",
   "metadata": {},
   "source": [
    "### 4. Linear Discriminant Analysis (LDA)"
   ]
  },
  {
   "cell_type": "code",
   "execution_count": 29,
   "metadata": {},
   "outputs": [
    {
     "name": "stdout",
     "output_type": "stream",
     "text": [
      "--- 68.76783013343811 seconds ---\n"
     ]
    }
   ],
   "source": [
    "start_time = time.time()\n",
    "lda = LDA(solver='eigen', shrinkage=.1, n_components=2)\n",
    "lda_model = lda.fit(train_x, train_y)\n",
    "print(\"--- %s seconds ---\" % (time.time() - start_time))"
   ]
  },
  {
   "cell_type": "code",
   "execution_count": 26,
   "metadata": {},
   "outputs": [
    {
     "name": "stdout",
     "output_type": "stream",
     "text": [
      "Training Accuracy on the LDA model: 0.8580\n",
      "Testing Accuracy on the LDA model: 0.5380\n",
      "Prediction on LDA: 0.007727146148681641 seconds\n",
      "              precision    recall  f1-score   support\n",
      "\n",
      "           1       0.91      0.99      0.95        94\n",
      "           2       0.93      0.96      0.94        95\n",
      "           3       0.87      0.89      0.88       110\n",
      "           4       0.86      0.84      0.85        97\n",
      "           5       0.96      0.90      0.93        91\n",
      "           6       0.84      0.82      0.83        78\n",
      "           7       0.90      0.87      0.89        94\n",
      "           8       0.95      0.92      0.94       104\n",
      "           9       0.94      0.96      0.95        84\n",
      "          10       0.75      0.86      0.80        87\n",
      "          11       0.96      0.70      0.81        99\n",
      "          12       0.79      0.82      0.80        80\n",
      "          13       0.75      0.81      0.78        83\n",
      "          14       0.84      0.86      0.85        99\n",
      "          15       0.88      0.77      0.82        73\n",
      "          16       0.95      0.84      0.89        91\n",
      "          17       0.89      0.81      0.85       101\n",
      "          18       0.81      0.88      0.85        84\n",
      "          19       0.74      0.89      0.81        88\n",
      "          20       0.86      0.77      0.81        95\n",
      "          21       0.78      0.88      0.83        83\n",
      "          22       0.76      0.82      0.79        90\n",
      "\n",
      "    accuracy                           0.86      2000\n",
      "   macro avg       0.86      0.86      0.86      2000\n",
      "weighted avg       0.86      0.86      0.86      2000\n",
      "\n",
      "              precision    recall  f1-score   support\n",
      "\n",
      "           1       0.61      0.94      0.74        18\n",
      "           2       0.79      0.58      0.67        19\n",
      "           3       0.58      0.60      0.59        25\n",
      "           4       0.50      0.57      0.53        21\n",
      "           5       0.85      0.61      0.71        18\n",
      "           6       0.64      0.54      0.58        26\n",
      "           7       0.60      0.60      0.60        20\n",
      "           8       0.68      0.81      0.74        16\n",
      "           9       0.79      0.88      0.83        25\n",
      "          10       0.60      0.60      0.60        20\n",
      "          11       0.77      0.42      0.54        24\n",
      "          12       0.43      0.50      0.46        32\n",
      "          13       0.37      0.46      0.41        24\n",
      "          14       0.54      0.57      0.55        23\n",
      "          15       0.52      0.50      0.51        22\n",
      "          16       0.73      0.73      0.73        22\n",
      "          17       0.55      0.46      0.50        26\n",
      "          18       0.50      0.45      0.48        22\n",
      "          19       0.25      0.35      0.29        23\n",
      "          20       0.33      0.40      0.36        20\n",
      "          21       0.52      0.35      0.42        34\n",
      "          22       0.17      0.15      0.16        20\n",
      "\n",
      "    accuracy                           0.54       500\n",
      "   macro avg       0.56      0.55      0.55       500\n",
      "weighted avg       0.55      0.54      0.54       500\n",
      "\n"
     ]
    }
   ],
   "source": [
    "lda_train_accuracy = lda_model.score(train_x,train_y)\n",
    "lda_test_accuracy = lda_model.score(test_x,test_y)\n",
    "print(\"Training Accuracy on the LDA model: %.4f\" % (lda_train_accuracy))\n",
    "print(\"Testing Accuracy on the LDA model: %.4f\" % (lda_test_accuracy))\n",
    "\n",
    "lda_pred_train = lda_model.predict(train_x)\n",
    "t1 = time.time()\n",
    "lda_pred_test = lda_model.predict(test_x)\n",
    "print(\"Prediction on LDA: %s seconds\" % (time.time() - t1))\n",
    "\n",
    "print(classification_report(train_y, lda_pred_train))\n",
    "print(classification_report(test_y, lda_pred_test))"
   ]
  },
  {
   "cell_type": "markdown",
   "metadata": {},
   "source": [
    "### 5. Random Forest"
   ]
  },
  {
   "cell_type": "code",
   "execution_count": 28,
   "metadata": {},
   "outputs": [
    {
     "name": "stdout",
     "output_type": "stream",
     "text": [
      "--- 7.890650987625122 seconds ---\n"
     ]
    }
   ],
   "source": [
    "start_time = time.time()\n",
    "rf = RandomForestClassifier(n_estimators = 100, criterion = 'gini', min_samples_leaf=1, max_features='sqrt')\n",
    "rf_model = rf.fit(train_x, train_y)\n",
    "print(\"--- %s seconds ---\" % (time.time() - start_time))"
   ]
  },
  {
   "cell_type": "code",
   "execution_count": 30,
   "metadata": {},
   "outputs": [
    {
     "name": "stdout",
     "output_type": "stream",
     "text": [
      "Training Accuracy on the random forest model: 1.0000\n",
      "Testing Accuracy on the random forest model: 0.4040\n",
      "Prediction on Random Forest: 0.040242910385131836 seconds\n",
      "              precision    recall  f1-score   support\n",
      "\n",
      "           1       1.00      1.00      1.00        94\n",
      "           2       1.00      1.00      1.00        95\n",
      "           3       1.00      1.00      1.00       110\n",
      "           4       1.00      1.00      1.00        97\n",
      "           5       1.00      1.00      1.00        91\n",
      "           6       1.00      1.00      1.00        78\n",
      "           7       1.00      1.00      1.00        94\n",
      "           8       1.00      1.00      1.00       104\n",
      "           9       1.00      1.00      1.00        84\n",
      "          10       1.00      1.00      1.00        87\n",
      "          11       1.00      1.00      1.00        99\n",
      "          12       1.00      1.00      1.00        80\n",
      "          13       1.00      1.00      1.00        83\n",
      "          14       1.00      1.00      1.00        99\n",
      "          15       1.00      1.00      1.00        73\n",
      "          16       1.00      1.00      1.00        91\n",
      "          17       1.00      1.00      1.00       101\n",
      "          18       1.00      1.00      1.00        84\n",
      "          19       1.00      1.00      1.00        88\n",
      "          20       1.00      1.00      1.00        95\n",
      "          21       1.00      1.00      1.00        83\n",
      "          22       1.00      1.00      1.00        90\n",
      "\n",
      "    accuracy                           1.00      2000\n",
      "   macro avg       1.00      1.00      1.00      2000\n",
      "weighted avg       1.00      1.00      1.00      2000\n",
      "\n",
      "              precision    recall  f1-score   support\n",
      "\n",
      "           1       0.33      0.50      0.40        18\n",
      "           2       0.58      0.74      0.65        19\n",
      "           3       0.28      0.48      0.35        25\n",
      "           4       0.37      0.62      0.46        21\n",
      "           5       0.50      0.67      0.57        18\n",
      "           6       0.60      0.35      0.44        26\n",
      "           7       0.28      0.25      0.26        20\n",
      "           8       0.50      0.81      0.62        16\n",
      "           9       0.70      0.56      0.62        25\n",
      "          10       0.43      0.30      0.35        20\n",
      "          11       0.42      0.58      0.49        24\n",
      "          12       0.40      0.31      0.35        32\n",
      "          13       0.24      0.17      0.20        24\n",
      "          14       0.34      0.61      0.44        23\n",
      "          15       0.36      0.23      0.28        22\n",
      "          16       0.70      0.64      0.67        22\n",
      "          17       0.44      0.42      0.43        26\n",
      "          18       0.39      0.32      0.35        22\n",
      "          19       0.24      0.17      0.20        23\n",
      "          20       0.20      0.15      0.17        20\n",
      "          21       0.33      0.24      0.28        34\n",
      "          22       0.20      0.05      0.08        20\n",
      "\n",
      "    accuracy                           0.40       500\n",
      "   macro avg       0.40      0.42      0.39       500\n",
      "weighted avg       0.40      0.40      0.39       500\n",
      "\n"
     ]
    }
   ],
   "source": [
    "rf_train_accuracy = rf_model.score(train_x,train_y)\n",
    "rf_test_accuracy = rf_model.score(test_x,test_y)\n",
    "print(\"Training Accuracy on the random forest model: %.4f\" % (rf_train_accuracy))\n",
    "print(\"Testing Accuracy on the random forest model: %.4f\" % (rf_test_accuracy))\n",
    "\n",
    "rf_pred_train = rf_model.predict(train_x)\n",
    "t1 = time.time()\n",
    "rf_pred_test = rf_model.predict(test_x)\n",
    "print(\"Prediction on Random Forest: %s seconds\" % (time.time() - t1))\n",
    "\n",
    "print(classification_report(train_y, rf_pred_train))\n",
    "print(classification_report(test_y, rf_pred_test))"
   ]
  },
  {
   "cell_type": "markdown",
   "metadata": {},
   "source": [
    "## Step 5: \n",
    "## Ensemle with VotingClassifier : Combining the effective models to get the better prediction"
   ]
  },
  {
   "cell_type": "markdown",
   "metadata": {},
   "source": [
    "#### From our candidate advanced models 1-5, summary is in the following :"
   ]
  },
  {
   "cell_type": "code",
   "execution_count": 65,
   "metadata": {},
   "outputs": [
    {
     "data": {
      "text/html": [
       "<div>\n",
       "<style scoped>\n",
       "    .dataframe tbody tr th:only-of-type {\n",
       "        vertical-align: middle;\n",
       "    }\n",
       "\n",
       "    .dataframe tbody tr th {\n",
       "        vertical-align: top;\n",
       "    }\n",
       "\n",
       "    .dataframe thead th {\n",
       "        text-align: right;\n",
       "    }\n",
       "</style>\n",
       "<table border=\"1\" class=\"dataframe\">\n",
       "  <thead>\n",
       "    <tr style=\"text-align: right;\">\n",
       "      <th></th>\n",
       "      <th>Candidate Model</th>\n",
       "      <th>Training Accuracy(%)</th>\n",
       "      <th>Testing Accuracy(%)</th>\n",
       "      <th>Fitting Time</th>\n",
       "      <th>Prediction Time</th>\n",
       "    </tr>\n",
       "  </thead>\n",
       "  <tbody>\n",
       "    <tr>\n",
       "      <td>1</td>\n",
       "      <td>Baseline(GBM)</td>\n",
       "      <td>83.8</td>\n",
       "      <td>38.2</td>\n",
       "      <td>521s</td>\n",
       "      <td>0.036s</td>\n",
       "    </tr>\n",
       "    <tr>\n",
       "      <td>2</td>\n",
       "      <td>XGBoost</td>\n",
       "      <td>100</td>\n",
       "      <td>49.2</td>\n",
       "      <td>1987s</td>\n",
       "      <td>1.18s</td>\n",
       "    </tr>\n",
       "    <tr>\n",
       "      <td>3</td>\n",
       "      <td>Logistic Regression</td>\n",
       "      <td>77.25</td>\n",
       "      <td>51.4</td>\n",
       "      <td>15s</td>\n",
       "      <td>0.0084s</td>\n",
       "    </tr>\n",
       "    <tr>\n",
       "      <td>4</td>\n",
       "      <td>LDA</td>\n",
       "      <td>85.8</td>\n",
       "      <td>53.8</td>\n",
       "      <td>68.77s</td>\n",
       "      <td>0.0077s</td>\n",
       "    </tr>\n",
       "    <tr>\n",
       "      <td>5</td>\n",
       "      <td>SVM</td>\n",
       "      <td>81.45</td>\n",
       "      <td>48.4</td>\n",
       "      <td>18.18s</td>\n",
       "      <td>5.26s</td>\n",
       "    </tr>\n",
       "    <tr>\n",
       "      <td>6</td>\n",
       "      <td>Random Forest</td>\n",
       "      <td>100</td>\n",
       "      <td>40.4</td>\n",
       "      <td>7.9s</td>\n",
       "      <td>0.04s</td>\n",
       "    </tr>\n",
       "  </tbody>\n",
       "</table>\n",
       "</div>"
      ],
      "text/plain": [
       "       Candidate Model Training Accuracy(%) Testing Accuracy(%) Fitting Time  \\\n",
       "1        Baseline(GBM)                 83.8                38.2         521s   \n",
       "2              XGBoost                  100                49.2        1987s   \n",
       "3  Logistic Regression                77.25                51.4          15s   \n",
       "4                  LDA                 85.8                53.8       68.77s   \n",
       "5                  SVM                81.45                48.4       18.18s   \n",
       "6        Random Forest                  100                40.4         7.9s   \n",
       "\n",
       "  Prediction Time  \n",
       "1          0.036s  \n",
       "2           1.18s  \n",
       "3         0.0084s  \n",
       "4         0.0077s  \n",
       "5           5.26s  \n",
       "6           0.04s  "
      ]
     },
     "execution_count": 65,
     "metadata": {},
     "output_type": "execute_result"
    }
   ],
   "source": [
    "chart = {'Candidate Model':['Baseline(GBM)', 'XGBoost', 'Logistic Regression', 'LDA','SVM','Random Forest'],\n",
    "         'Training Accuracy(%)':['83.8','100','77.25','85.8','81.45','100'],\n",
    "        'Testing Accuracy(%)':['38.2','49.2','51.4','53.8','48.4','40.4'],\n",
    "         'Fitting Time':['521s','1987s','15s','68.77s','18.18s','7.9s'],\n",
    "         'Prediction Time':['0.036s','1.18s','0.0084s','0.0077s','5.26s','0.04s']\n",
    "        }\n",
    "\n",
    "df = pd.DataFrame(chart,index = ['1','2','3','4','5','6'])\n",
    "df"
   ]
  },
  {
   "cell_type": "markdown",
   "metadata": {},
   "source": [
    "Now, we want to combine the effiective models showing above and to do a ensemble prediction. \n",
    "\n",
    "From all the candidate models, XGBoost, Logistic Regression, LDA and SVM have the higher testing accuracy. \n",
    "At the same time, XGBoost has the longer fitting time, so we did not pick XGBoost in our ensemble model.\n",
    "\n",
    "#### Ensemble : Logistic Regression, LDA and SVM"
   ]
  },
  {
   "cell_type": "code",
   "execution_count": 47,
   "metadata": {},
   "outputs": [
    {
     "name": "stdout",
     "output_type": "stream",
     "text": [
      "--- 105.66939377784729 seconds ---\n"
     ]
    }
   ],
   "source": [
    "start_time = time.time()\n",
    "eclf = VotingClassifier(\n",
    "    estimators=[('lr', lr), ('lda', lda), ('svm', svc)], \n",
    "    voting='hard',\n",
    "    weights=[1.5,1.5,1])\n",
    "eclf_model = eclf.fit(train_x, train_y)\n",
    "print(\"--- %s seconds ---\" % (time.time() - start_time))"
   ]
  },
  {
   "cell_type": "code",
   "execution_count": 60,
   "metadata": {},
   "outputs": [
    {
     "name": "stdout",
     "output_type": "stream",
     "text": [
      "Training Accuracy on the Ensemle model: 0.8405\n",
      "Testing Accuracy on the Ensemle model: 0.5460\n",
      "Prediction on Ensemle model: 6.695195913314819 seconds\n"
     ]
    }
   ],
   "source": [
    "eclf_train_accuracy = eclf_model.score(train_x,train_y)\n",
    "eclf_test_accuracy = eclf_model.score(test_x,test_y)\n",
    "print(\"Training Accuracy on the Ensemle model: %.4f\" % (eclf_train_accuracy))\n",
    "print(\"Testing Accuracy on the Ensemle model: %.4f\" % (eclf_test_accuracy))\n",
    "\n",
    "eclf_pred_train = eclf_model.predict(train_x)\n",
    "t1 = time.time()\n",
    "eclf_pred_test = eclf_model.predict(test_x)\n",
    "print(\"Prediction on Ensemle model: %s seconds\" % (time.time() - t1))"
   ]
  },
  {
   "cell_type": "code",
   "execution_count": 53,
   "metadata": {},
   "outputs": [
    {
     "data": {
      "text/plain": [
       "<matplotlib.axes._subplots.AxesSubplot at 0x1a6b41ecd0>"
      ]
     },
     "execution_count": 53,
     "metadata": {},
     "output_type": "execute_result"
    },
    {
     "data": {
      "image/png": "[encoded data removed]",
      "text/plain": [
       "<Figure size 432x288 with 2 Axes>"
      ]
     },
     "metadata": {
      "needs_background": "light"
     },
     "output_type": "display_data"
    }
   ],
   "source": [
    "cm_eclf = confusion_matrix(test_y,eclf_pred_test)\n",
    "sns.heatmap(cm_eclf)"
   ]
  },
  {
   "cell_type": "markdown",
   "metadata": {},
   "source": [
    "## Step 6 : Candidate Advanced Model --- Deep Learning"
   ]
  },
  {
   "cell_type": "markdown",
   "metadata": {},
   "source": [
    "### Neutral Network "
   ]
  },
  {
   "cell_type": "markdown",
   "metadata": {},
   "source": [
    "At the beginning of this model, install the required packages"
   ]
  },
  {
   "cell_type": "code",
   "execution_count": 31,
   "metadata": {},
   "outputs": [
    {
     "name": "stdout",
     "output_type": "stream",
     "text": [
      "Collecting package metadata (current_repodata.json): done\n",
      "Solving environment: done\n",
      "\n",
      "# All requested packages already installed.\n",
      "\n",
      "\n",
      "Note: you may need to restart the kernel to use updated packages.\n"
     ]
    }
   ],
   "source": [
    "conda install keras"
   ]
  },
  {
   "cell_type": "code",
   "execution_count": 32,
   "metadata": {},
   "outputs": [
    {
     "name": "stdout",
     "output_type": "stream",
     "text": [
      "Collecting package metadata (current_repodata.json): done\n",
      "Solving environment: done\n",
      "\n",
      "# All requested packages already installed.\n",
      "\n",
      "\n",
      "Note: you may need to restart the kernel to use updated packages.\n"
     ]
    }
   ],
   "source": [
    "conda install tensorflow"
   ]
  },
  {
   "cell_type": "code",
   "execution_count": 33,
   "metadata": {},
   "outputs": [
    {
     "name": "stderr",
     "output_type": "stream",
     "text": [
      "Using TensorFlow backend.\n"
     ]
    }
   ],
   "source": [
    "import tensorflow\n",
    "import keras\n",
    "from keras.utils import to_categorical\n",
    "import matplotlib.pyplot as plt\n",
    "from tensorflow.keras.models import Sequential\n",
    "from keras.layers import Dense, Activation, Flatten, Input, Dropout\n",
    "from keras.layers import BatchNormalization\n",
    "from keras.models import Model\n",
    "from keras import initializers\n",
    "from keras.optimizers import Adam\n",
    "from keras.utils import to_categorical"
   ]
  },
  {
   "cell_type": "markdown",
   "metadata": {},
   "source": [
    "##### Model Fitting"
   ]
  },
  {
   "cell_type": "code",
   "execution_count": 34,
   "metadata": {},
   "outputs": [],
   "source": [
    "Y = to_categorical(y)\n",
    "Y = Y[:,1:]\n",
    "X_train,X_test,y_train,y_test = train_test_split(X,Y,test_size=0.2,random_state=1106)"
   ]
  },
  {
   "cell_type": "code",
   "execution_count": 35,
   "metadata": {},
   "outputs": [],
   "source": [
    "input_shape = [6006] \n",
    "input_layer = Input(input_shape)\n",
    "x = BatchNormalization(momentum = 0.88)(input_layer) \n",
    "x = Dense(22*10,activation='relu',kernel_initializer=initializers.glorot_normal(seed=6))(x)\n",
    "x = Dropout(0.25)(x)\n",
    "x = BatchNormalization()(x) \n",
    "x = Dense(22*8,activation='relu',kernel_initializer=initializers.glorot_normal(seed=6))(x)\n",
    "x = Dropout(0.25)(x)\n",
    "x = Dense(22*4,activation='relu',kernel_initializer=initializers.glorot_normal(seed=6))(x)\n",
    "x = Dropout(0.25)(x)\n",
    "x = Dense(22*2,activation='relu',kernel_initializer=initializers.glorot_normal(seed=6))(x)\n",
    "output_layer = Dense(22,activation='softmax',kernel_initializer=initializers.glorot_normal(seed=6))(x) \n",
    "model = Model(input_layer,output_layer)"
   ]
  },
  {
   "cell_type": "code",
   "execution_count": 36,
   "metadata": {},
   "outputs": [
    {
     "name": "stdout",
     "output_type": "stream",
     "text": [
      "Epoch 1/200\n",
      "2000/2000 [==============================] - 13s 7ms/step - loss: 3.0633 - accuracy: 0.0810\n",
      "Epoch 2/200\n",
      "2000/2000 [==============================] - 5s 2ms/step - loss: 2.6660 - accuracy: 0.1675\n",
      "Epoch 3/200\n",
      "2000/2000 [==============================] - 5s 3ms/step - loss: 2.3384 - accuracy: 0.2355\n",
      "Epoch 4/200\n",
      "2000/2000 [==============================] - 5s 3ms/step - loss: 2.0736 - accuracy: 0.2975\n",
      "Epoch 5/200\n",
      "2000/2000 [==============================] - 6s 3ms/step - loss: 1.9892 - accuracy: 0.3215\n",
      "Epoch 6/200\n",
      "2000/2000 [==============================] - 5s 3ms/step - loss: 1.9165 - accuracy: 0.3560\n",
      "Epoch 7/200\n",
      "2000/2000 [==============================] - 5s 3ms/step - loss: 1.8152 - accuracy: 0.3890\n",
      "Epoch 8/200\n",
      "2000/2000 [==============================] - 5s 2ms/step - loss: 1.7222 - accuracy: 0.4080\n",
      "Epoch 9/200\n",
      "2000/2000 [==============================] - 5s 2ms/step - loss: 1.6400 - accuracy: 0.4460\n",
      "Epoch 10/200\n",
      "2000/2000 [==============================] - 5s 3ms/step - loss: 1.5659 - accuracy: 0.4580\n",
      "Epoch 11/200\n",
      "2000/2000 [==============================] - 5s 2ms/step - loss: 1.5425 - accuracy: 0.4740\n",
      "Epoch 12/200\n",
      "2000/2000 [==============================] - 5s 2ms/step - loss: 1.4849 - accuracy: 0.5185\n",
      "Epoch 13/200\n",
      "2000/2000 [==============================] - 6s 3ms/step - loss: 1.5087 - accuracy: 0.4995\n",
      "Epoch 14/200\n",
      "2000/2000 [==============================] - 5s 2ms/step - loss: 1.4253 - accuracy: 0.5090\n",
      "Epoch 15/200\n",
      "2000/2000 [==============================] - 6s 3ms/step - loss: 1.3252 - accuracy: 0.5420\n",
      "Epoch 16/200\n",
      "2000/2000 [==============================] - 5s 3ms/step - loss: 1.2972 - accuracy: 0.5415\n",
      "Epoch 17/200\n",
      "2000/2000 [==============================] - 5s 3ms/step - loss: 1.3197 - accuracy: 0.5390\n",
      "Epoch 18/200\n",
      "2000/2000 [==============================] - 5s 2ms/step - loss: 1.2730 - accuracy: 0.5715\n",
      "Epoch 19/200\n",
      "2000/2000 [==============================] - 5s 2ms/step - loss: 1.2335 - accuracy: 0.5775\n",
      "Epoch 20/200\n",
      "2000/2000 [==============================] - 5s 2ms/step - loss: 1.2682 - accuracy: 0.5705\n",
      "Epoch 21/200\n",
      "2000/2000 [==============================] - 5s 3ms/step - loss: 1.2016 - accuracy: 0.5820\n",
      "Epoch 22/200\n",
      "2000/2000 [==============================] - 5s 2ms/step - loss: 1.1991 - accuracy: 0.5925\n",
      "Epoch 23/200\n",
      "2000/2000 [==============================] - 5s 2ms/step - loss: 1.1825 - accuracy: 0.5850\n",
      "Epoch 24/200\n",
      "2000/2000 [==============================] - 5s 2ms/step - loss: 1.1577 - accuracy: 0.6025\n",
      "Epoch 25/200\n",
      "2000/2000 [==============================] - 5s 2ms/step - loss: 1.1052 - accuracy: 0.6060\n",
      "Epoch 26/200\n",
      "2000/2000 [==============================] - 5s 3ms/step - loss: 1.1006 - accuracy: 0.6155\n",
      "Epoch 27/200\n",
      "2000/2000 [==============================] - 5s 3ms/step - loss: 1.0746 - accuracy: 0.6210\n",
      "Epoch 28/200\n",
      "2000/2000 [==============================] - 5s 3ms/step - loss: 1.0151 - accuracy: 0.6495\n",
      "Epoch 29/200\n",
      "2000/2000 [==============================] - 6s 3ms/step - loss: 1.0177 - accuracy: 0.6625\n",
      "Epoch 30/200\n",
      "2000/2000 [==============================] - 5s 3ms/step - loss: 1.0138 - accuracy: 0.6285\n",
      "Epoch 31/200\n",
      "2000/2000 [==============================] - 5s 3ms/step - loss: 1.0096 - accuracy: 0.6395\n",
      "Epoch 32/200\n",
      "2000/2000 [==============================] - 5s 3ms/step - loss: 0.9808 - accuracy: 0.6665\n",
      "Epoch 33/200\n",
      "2000/2000 [==============================] - 5s 3ms/step - loss: 0.9250 - accuracy: 0.6705\n",
      "Epoch 34/200\n",
      "2000/2000 [==============================] - 5s 2ms/step - loss: 0.9543 - accuracy: 0.6835\n",
      "Epoch 35/200\n",
      "2000/2000 [==============================] - 6s 3ms/step - loss: 0.8726 - accuracy: 0.6750\n",
      "Epoch 36/200\n",
      "2000/2000 [==============================] - 6s 3ms/step - loss: 0.8966 - accuracy: 0.6900\n",
      "Epoch 37/200\n",
      "2000/2000 [==============================] - 6s 3ms/step - loss: 0.8459 - accuracy: 0.7060\n",
      "Epoch 38/200\n",
      "2000/2000 [==============================] - 5s 3ms/step - loss: 0.8626 - accuracy: 0.7080\n",
      "Epoch 39/200\n",
      "2000/2000 [==============================] - 6s 3ms/step - loss: 0.8312 - accuracy: 0.7180\n",
      "Epoch 40/200\n",
      "2000/2000 [==============================] - 5s 3ms/step - loss: 0.8822 - accuracy: 0.6950\n",
      "Epoch 41/200\n",
      "2000/2000 [==============================] - 5s 2ms/step - loss: 0.8222 - accuracy: 0.7165\n",
      "Epoch 42/200\n",
      "2000/2000 [==============================] - 5s 3ms/step - loss: 0.8104 - accuracy: 0.7305\n",
      "Epoch 43/200\n",
      "2000/2000 [==============================] - 5s 2ms/step - loss: 0.8174 - accuracy: 0.7245\n",
      "Epoch 44/200\n",
      "2000/2000 [==============================] - 5s 2ms/step - loss: 0.7686 - accuracy: 0.7330\n",
      "Epoch 45/200\n",
      "2000/2000 [==============================] - 5s 2ms/step - loss: 0.7558 - accuracy: 0.7385\n",
      "Epoch 46/200\n",
      "2000/2000 [==============================] - 5s 3ms/step - loss: 0.7978 - accuracy: 0.7360\n",
      "Epoch 47/200\n",
      "2000/2000 [==============================] - 5s 2ms/step - loss: 0.8111 - accuracy: 0.7205\n",
      "Epoch 48/200\n",
      "2000/2000 [==============================] - 5s 3ms/step - loss: 0.7725 - accuracy: 0.7440\n",
      "Epoch 49/200\n",
      "2000/2000 [==============================] - 7s 3ms/step - loss: 0.6954 - accuracy: 0.7675\n",
      "Epoch 50/200\n",
      "2000/2000 [==============================] - 5s 3ms/step - loss: 0.7420 - accuracy: 0.7465\n",
      "Epoch 51/200\n",
      "2000/2000 [==============================] - 5s 3ms/step - loss: 0.7064 - accuracy: 0.7545\n",
      "Epoch 52/200\n",
      "2000/2000 [==============================] - 5s 3ms/step - loss: 0.6867 - accuracy: 0.7590\n",
      "Epoch 53/200\n",
      "2000/2000 [==============================] - 5s 3ms/step - loss: 0.6621 - accuracy: 0.7670\n",
      "Epoch 54/200\n",
      "2000/2000 [==============================] - 5s 2ms/step - loss: 0.6256 - accuracy: 0.7830\n",
      "Epoch 55/200\n",
      "2000/2000 [==============================] - 6s 3ms/step - loss: 0.6641 - accuracy: 0.7745\n",
      "Epoch 56/200\n",
      "2000/2000 [==============================] - 6s 3ms/step - loss: 0.6493 - accuracy: 0.7765\n",
      "Epoch 57/200\n",
      "2000/2000 [==============================] - 7s 3ms/step - loss: 0.6522 - accuracy: 0.7835\n",
      "Epoch 58/200\n",
      "2000/2000 [==============================] - 5s 3ms/step - loss: 0.6467 - accuracy: 0.7725\n",
      "Epoch 59/200\n",
      "2000/2000 [==============================] - 6s 3ms/step - loss: 0.5927 - accuracy: 0.7945\n",
      "Epoch 60/200\n",
      "2000/2000 [==============================] - 5s 3ms/step - loss: 0.6282 - accuracy: 0.7905\n",
      "Epoch 61/200\n",
      "2000/2000 [==============================] - 7s 3ms/step - loss: 0.6012 - accuracy: 0.7940\n",
      "Epoch 62/200\n",
      "2000/2000 [==============================] - 5s 3ms/step - loss: 0.5530 - accuracy: 0.8050\n",
      "Epoch 63/200\n",
      "2000/2000 [==============================] - 5s 2ms/step - loss: 0.5530 - accuracy: 0.8085\n",
      "Epoch 64/200\n",
      "2000/2000 [==============================] - 5s 2ms/step - loss: 0.5850 - accuracy: 0.8080\n",
      "Epoch 65/200\n",
      "2000/2000 [==============================] - 5s 2ms/step - loss: 0.5669 - accuracy: 0.7975\n",
      "Epoch 66/200\n",
      "2000/2000 [==============================] - 5s 2ms/step - loss: 0.5633 - accuracy: 0.8185\n",
      "Epoch 67/200\n",
      "2000/2000 [==============================] - 5s 2ms/step - loss: 0.5502 - accuracy: 0.8140\n",
      "Epoch 68/200\n",
      "2000/2000 [==============================] - 5s 2ms/step - loss: 0.5834 - accuracy: 0.8130\n",
      "Epoch 69/200\n",
      "2000/2000 [==============================] - 5s 2ms/step - loss: 0.5290 - accuracy: 0.8190\n",
      "Epoch 70/200\n",
      "2000/2000 [==============================] - 5s 3ms/step - loss: 0.5299 - accuracy: 0.8260\n",
      "Epoch 71/200\n",
      "2000/2000 [==============================] - 5s 2ms/step - loss: 0.4845 - accuracy: 0.8405\n",
      "Epoch 72/200\n",
      "2000/2000 [==============================] - 6s 3ms/step - loss: 0.5172 - accuracy: 0.8275\n",
      "Epoch 73/200\n",
      "2000/2000 [==============================] - 6s 3ms/step - loss: 0.4811 - accuracy: 0.8340\n",
      "Epoch 74/200\n",
      "2000/2000 [==============================] - 5s 3ms/step - loss: 0.4462 - accuracy: 0.8515\n",
      "Epoch 75/200\n",
      "2000/2000 [==============================] - 6s 3ms/step - loss: 0.4525 - accuracy: 0.8470: 0s - loss: 0.4451 - ac\n",
      "Epoch 76/200\n",
      "2000/2000 [==============================] - 5s 2ms/step - loss: 0.4833 - accuracy: 0.8395\n",
      "Epoch 77/200\n",
      "2000/2000 [==============================] - 5s 2ms/step - loss: 0.5088 - accuracy: 0.8340\n",
      "Epoch 78/200\n",
      "2000/2000 [==============================] - 5s 2ms/step - loss: 0.4279 - accuracy: 0.8585\n",
      "Epoch 79/200\n",
      "2000/2000 [==============================] - 5s 2ms/step - loss: 0.4273 - accuracy: 0.8550\n",
      "Epoch 80/200\n",
      "2000/2000 [==============================] - 6s 3ms/step - loss: 0.4504 - accuracy: 0.8560\n",
      "Epoch 81/200\n",
      "2000/2000 [==============================] - 5s 2ms/step - loss: 0.4352 - accuracy: 0.8560\n",
      "Epoch 82/200\n",
      "2000/2000 [==============================] - 4s 2ms/step - loss: 0.4441 - accuracy: 0.8535\n",
      "Epoch 83/200\n",
      "2000/2000 [==============================] - 4s 2ms/step - loss: 0.4346 - accuracy: 0.8435\n",
      "Epoch 84/200\n",
      "2000/2000 [==============================] - 5s 3ms/step - loss: 0.4096 - accuracy: 0.8585\n",
      "Epoch 85/200\n",
      "2000/2000 [==============================] - 6s 3ms/step - loss: 0.4191 - accuracy: 0.8555\n",
      "Epoch 86/200\n",
      "2000/2000 [==============================] - 6s 3ms/step - loss: 0.4718 - accuracy: 0.8555\n",
      "Epoch 87/200\n",
      "2000/2000 [==============================] - 5s 3ms/step - loss: 0.4168 - accuracy: 0.8625\n",
      "Epoch 88/200\n",
      "2000/2000 [==============================] - 5s 2ms/step - loss: 0.3947 - accuracy: 0.8710\n",
      "Epoch 89/200\n",
      "2000/2000 [==============================] - 5s 2ms/step - loss: 0.4376 - accuracy: 0.8470\n",
      "Epoch 90/200\n",
      "2000/2000 [==============================] - 5s 3ms/step - loss: 0.4060 - accuracy: 0.8625\n",
      "Epoch 91/200\n",
      "2000/2000 [==============================] - 6s 3ms/step - loss: 0.3644 - accuracy: 0.8740\n",
      "Epoch 92/200\n",
      "2000/2000 [==============================] - 5s 2ms/step - loss: 0.3602 - accuracy: 0.8835\n",
      "Epoch 93/200\n",
      "2000/2000 [==============================] - 5s 2ms/step - loss: 0.3759 - accuracy: 0.8750\n",
      "Epoch 94/200\n",
      "2000/2000 [==============================] - 5s 2ms/step - loss: 0.4130 - accuracy: 0.8705\n",
      "Epoch 95/200\n",
      "2000/2000 [==============================] - 4s 2ms/step - loss: 0.3903 - accuracy: 0.8740\n",
      "Epoch 96/200\n",
      "2000/2000 [==============================] - 5s 3ms/step - loss: 0.3986 - accuracy: 0.8630\n",
      "Epoch 97/200\n",
      "2000/2000 [==============================] - 5s 3ms/step - loss: 0.3403 - accuracy: 0.8835\n",
      "Epoch 98/200\n",
      "2000/2000 [==============================] - 5s 2ms/step - loss: 0.3576 - accuracy: 0.8810\n",
      "Epoch 99/200\n",
      "2000/2000 [==============================] - 5s 2ms/step - loss: 0.3767 - accuracy: 0.8795\n",
      "Epoch 100/200\n",
      "2000/2000 [==============================] - 5s 2ms/step - loss: 0.3279 - accuracy: 0.8930\n",
      "Epoch 101/200\n",
      "2000/2000 [==============================] - 6s 3ms/step - loss: 0.3392 - accuracy: 0.8920: 1s -\n",
      "Epoch 102/200\n",
      "2000/2000 [==============================] - 5s 2ms/step - loss: 0.3373 - accuracy: 0.8820\n",
      "Epoch 103/200\n",
      "2000/2000 [==============================] - 4s 2ms/step - loss: 0.3063 - accuracy: 0.9015\n",
      "Epoch 104/200\n",
      "2000/2000 [==============================] - 4s 2ms/step - loss: 0.3507 - accuracy: 0.8785\n",
      "Epoch 105/200\n",
      "2000/2000 [==============================] - 4s 2ms/step - loss: 0.2996 - accuracy: 0.8980\n",
      "Epoch 106/200\n",
      "2000/2000 [==============================] - 5s 2ms/step - loss: 0.3497 - accuracy: 0.8830\n",
      "Epoch 107/200\n",
      "2000/2000 [==============================] - 6s 3ms/step - loss: 0.3151 - accuracy: 0.8975\n",
      "Epoch 108/200\n",
      "2000/2000 [==============================] - 6s 3ms/step - loss: 0.3488 - accuracy: 0.8900\n",
      "Epoch 109/200\n",
      "2000/2000 [==============================] - 6s 3ms/step - loss: 0.3158 - accuracy: 0.8940\n",
      "Epoch 110/200\n",
      "2000/2000 [==============================] - 6s 3ms/step - loss: 0.3093 - accuracy: 0.8975\n",
      "Epoch 111/200\n",
      "2000/2000 [==============================] - 5s 2ms/step - loss: 0.3169 - accuracy: 0.9005\n",
      "Epoch 112/200\n",
      "2000/2000 [==============================] - 5s 3ms/step - loss: 0.3092 - accuracy: 0.8805\n",
      "Epoch 113/200\n",
      "2000/2000 [==============================] - 5s 2ms/step - loss: 0.3090 - accuracy: 0.9010\n",
      "Epoch 114/200\n",
      "2000/2000 [==============================] - 5s 2ms/step - loss: 0.3164 - accuracy: 0.8965\n",
      "Epoch 115/200\n",
      "2000/2000 [==============================] - 5s 2ms/step - loss: 0.3144 - accuracy: 0.9000\n",
      "Epoch 116/200\n",
      "2000/2000 [==============================] - 5s 2ms/step - loss: 0.3072 - accuracy: 0.9070\n",
      "Epoch 117/200\n",
      "2000/2000 [==============================] - 5s 3ms/step - loss: 0.2904 - accuracy: 0.9025\n",
      "Epoch 118/200\n",
      "2000/2000 [==============================] - 5s 2ms/step - loss: 0.3241 - accuracy: 0.8930\n",
      "Epoch 119/200\n",
      "2000/2000 [==============================] - 5s 3ms/step - loss: 0.3083 - accuracy: 0.9020\n",
      "Epoch 120/200\n",
      "2000/2000 [==============================] - 5s 2ms/step - loss: 0.3415 - accuracy: 0.8905\n",
      "Epoch 121/200\n",
      "2000/2000 [==============================] - 5s 2ms/step - loss: 0.2848 - accuracy: 0.9015\n",
      "Epoch 122/200\n",
      "2000/2000 [==============================] - 5s 2ms/step - loss: 0.3013 - accuracy: 0.9055\n",
      "Epoch 123/200\n",
      "2000/2000 [==============================] - 5s 2ms/step - loss: 0.2976 - accuracy: 0.8980\n",
      "Epoch 124/200\n",
      "2000/2000 [==============================] - 5s 2ms/step - loss: 0.2593 - accuracy: 0.9140\n",
      "Epoch 125/200\n",
      "2000/2000 [==============================] - 5s 2ms/step - loss: 0.2767 - accuracy: 0.9130\n",
      "Epoch 126/200\n",
      "2000/2000 [==============================] - 5s 2ms/step - loss: 0.2259 - accuracy: 0.9305\n",
      "Epoch 127/200\n",
      "2000/2000 [==============================] - 6s 3ms/step - loss: 0.2474 - accuracy: 0.9235\n",
      "Epoch 128/200\n",
      "2000/2000 [==============================] - 5s 2ms/step - loss: 0.2548 - accuracy: 0.9155\n",
      "Epoch 129/200\n",
      "2000/2000 [==============================] - 5s 2ms/step - loss: 0.2720 - accuracy: 0.9110\n",
      "Epoch 130/200\n",
      "2000/2000 [==============================] - 5s 3ms/step - loss: 0.2665 - accuracy: 0.9115\n",
      "Epoch 131/200\n",
      "2000/2000 [==============================] - 5s 2ms/step - loss: 0.2892 - accuracy: 0.9115\n",
      "Epoch 132/200\n",
      "2000/2000 [==============================] - 5s 2ms/step - loss: 0.2753 - accuracy: 0.9115\n",
      "Epoch 133/200\n",
      "2000/2000 [==============================] - 5s 3ms/step - loss: 0.2732 - accuracy: 0.9150\n",
      "Epoch 134/200\n",
      "2000/2000 [==============================] - 5s 2ms/step - loss: 0.2213 - accuracy: 0.9235\n",
      "Epoch 135/200\n",
      "2000/2000 [==============================] - 5s 2ms/step - loss: 0.2576 - accuracy: 0.9190\n",
      "Epoch 136/200\n",
      "2000/2000 [==============================] - 5s 2ms/step - loss: 0.2563 - accuracy: 0.9130\n",
      "Epoch 137/200\n",
      "2000/2000 [==============================] - 5s 2ms/step - loss: 0.2771 - accuracy: 0.9140\n",
      "Epoch 138/200\n",
      "2000/2000 [==============================] - 5s 2ms/step - loss: 0.2263 - accuracy: 0.9315\n",
      "Epoch 139/200\n",
      "2000/2000 [==============================] - 5s 2ms/step - loss: 0.2332 - accuracy: 0.9245\n",
      "Epoch 140/200\n",
      "2000/2000 [==============================] - 5s 3ms/step - loss: 0.2335 - accuracy: 0.9260\n",
      "Epoch 141/200\n",
      "2000/2000 [==============================] - 5s 3ms/step - loss: 0.2377 - accuracy: 0.9185\n",
      "Epoch 142/200\n",
      "2000/2000 [==============================] - 4s 2ms/step - loss: 0.2516 - accuracy: 0.9120\n",
      "Epoch 143/200\n",
      "2000/2000 [==============================] - 4s 2ms/step - loss: 0.2652 - accuracy: 0.9155\n",
      "Epoch 144/200\n",
      "2000/2000 [==============================] - 4s 2ms/step - loss: 0.2652 - accuracy: 0.9145: 0s - los\n",
      "Epoch 145/200\n",
      "2000/2000 [==============================] - 4s 2ms/step - loss: 0.2526 - accuracy: 0.9170\n",
      "Epoch 146/200\n",
      "2000/2000 [==============================] - 4s 2ms/step - loss: 0.2322 - accuracy: 0.9210\n",
      "Epoch 147/200\n",
      "2000/2000 [==============================] - 4s 2ms/step - loss: 0.2570 - accuracy: 0.9195\n",
      "Epoch 148/200\n",
      "2000/2000 [==============================] - 4s 2ms/step - loss: 0.2629 - accuracy: 0.9115\n",
      "Epoch 149/200\n",
      "2000/2000 [==============================] - 4s 2ms/step - loss: 0.2233 - accuracy: 0.9315\n",
      "Epoch 150/200\n",
      "2000/2000 [==============================] - 4s 2ms/step - loss: 0.2410 - accuracy: 0.9160\n",
      "Epoch 151/200\n",
      "2000/2000 [==============================] - 4s 2ms/step - loss: 0.2385 - accuracy: 0.9180\n",
      "Epoch 152/200\n",
      "2000/2000 [==============================] - 4s 2ms/step - loss: 0.2144 - accuracy: 0.9365\n",
      "Epoch 153/200\n",
      "2000/2000 [==============================] - 5s 2ms/step - loss: 0.2090 - accuracy: 0.9345\n",
      "Epoch 154/200\n",
      "2000/2000 [==============================] - 5s 2ms/step - loss: 0.2354 - accuracy: 0.9215\n",
      "Epoch 155/200\n",
      "2000/2000 [==============================] - 4s 2ms/step - loss: 0.2312 - accuracy: 0.9260\n",
      "Epoch 156/200\n",
      "2000/2000 [==============================] - 4s 2ms/step - loss: 0.2315 - accuracy: 0.9270\n",
      "Epoch 157/200\n"
     ]
    },
    {
     "name": "stdout",
     "output_type": "stream",
     "text": [
      "2000/2000 [==============================] - 5s 2ms/step - loss: 0.2133 - accuracy: 0.9215\n",
      "Epoch 158/200\n",
      "2000/2000 [==============================] - 4s 2ms/step - loss: 0.2442 - accuracy: 0.9215\n",
      "Epoch 159/200\n",
      "2000/2000 [==============================] - 4s 2ms/step - loss: 0.2293 - accuracy: 0.9255\n",
      "Epoch 160/200\n",
      "2000/2000 [==============================] - 4s 2ms/step - loss: 0.2144 - accuracy: 0.9325\n",
      "Epoch 161/200\n",
      "2000/2000 [==============================] - 4s 2ms/step - loss: 0.2005 - accuracy: 0.9345\n",
      "Epoch 162/200\n",
      "2000/2000 [==============================] - 4s 2ms/step - loss: 0.2006 - accuracy: 0.9365\n",
      "Epoch 163/200\n",
      "2000/2000 [==============================] - 4s 2ms/step - loss: 0.1952 - accuracy: 0.9380\n",
      "Epoch 164/200\n",
      "2000/2000 [==============================] - 4s 2ms/step - loss: 0.2049 - accuracy: 0.9375\n",
      "Epoch 165/200\n",
      "2000/2000 [==============================] - 4s 2ms/step - loss: 0.2096 - accuracy: 0.9365\n",
      "Epoch 166/200\n",
      "2000/2000 [==============================] - 4s 2ms/step - loss: 0.2011 - accuracy: 0.9345\n",
      "Epoch 167/200\n",
      "2000/2000 [==============================] - 4s 2ms/step - loss: 0.2099 - accuracy: 0.9365\n",
      "Epoch 168/200\n",
      "2000/2000 [==============================] - 4s 2ms/step - loss: 0.2029 - accuracy: 0.9295\n",
      "Epoch 169/200\n",
      "2000/2000 [==============================] - 4s 2ms/step - loss: 0.2311 - accuracy: 0.9260\n",
      "Epoch 170/200\n",
      "2000/2000 [==============================] - 4s 2ms/step - loss: 0.2378 - accuracy: 0.9275\n",
      "Epoch 171/200\n",
      "2000/2000 [==============================] - 4s 2ms/step - loss: 0.1909 - accuracy: 0.9420\n",
      "Epoch 172/200\n",
      "2000/2000 [==============================] - 4s 2ms/step - loss: 0.2100 - accuracy: 0.9350\n",
      "Epoch 173/200\n",
      "2000/2000 [==============================] - 4s 2ms/step - loss: 0.1795 - accuracy: 0.9480\n",
      "Epoch 174/200\n",
      "2000/2000 [==============================] - 5s 3ms/step - loss: 0.2020 - accuracy: 0.9360\n",
      "Epoch 175/200\n",
      "2000/2000 [==============================] - 5s 3ms/step - loss: 0.2349 - accuracy: 0.9280\n",
      "Epoch 176/200\n",
      "2000/2000 [==============================] - 5s 2ms/step - loss: 0.2011 - accuracy: 0.9330\n",
      "Epoch 177/200\n",
      "2000/2000 [==============================] - 4s 2ms/step - loss: 0.2191 - accuracy: 0.9370\n",
      "Epoch 178/200\n",
      "2000/2000 [==============================] - 5s 2ms/step - loss: 0.2035 - accuracy: 0.9340\n",
      "Epoch 179/200\n",
      "2000/2000 [==============================] - 4s 2ms/step - loss: 0.1989 - accuracy: 0.9350\n",
      "Epoch 180/200\n",
      "2000/2000 [==============================] - 6s 3ms/step - loss: 0.1923 - accuracy: 0.9390\n",
      "Epoch 181/200\n",
      "2000/2000 [==============================] - 4s 2ms/step - loss: 0.1991 - accuracy: 0.9345\n",
      "Epoch 182/200\n",
      "2000/2000 [==============================] - 5s 2ms/step - loss: 0.1674 - accuracy: 0.9465\n",
      "Epoch 183/200\n",
      "2000/2000 [==============================] - 4s 2ms/step - loss: 0.2230 - accuracy: 0.9290\n",
      "Epoch 184/200\n",
      "2000/2000 [==============================] - 4s 2ms/step - loss: 0.1648 - accuracy: 0.9465\n",
      "Epoch 185/200\n",
      "2000/2000 [==============================] - 4s 2ms/step - loss: 0.1801 - accuracy: 0.9470\n",
      "Epoch 186/200\n",
      "2000/2000 [==============================] - 4s 2ms/step - loss: 0.1503 - accuracy: 0.9520\n",
      "Epoch 187/200\n",
      "2000/2000 [==============================] - 5s 3ms/step - loss: 0.1833 - accuracy: 0.9420\n",
      "Epoch 188/200\n",
      "2000/2000 [==============================] - 5s 2ms/step - loss: 0.1616 - accuracy: 0.9495\n",
      "Epoch 189/200\n",
      "2000/2000 [==============================] - 4s 2ms/step - loss: 0.2174 - accuracy: 0.9315\n",
      "Epoch 190/200\n",
      "2000/2000 [==============================] - 5s 2ms/step - loss: 0.1907 - accuracy: 0.9390\n",
      "Epoch 191/200\n",
      "2000/2000 [==============================] - 5s 2ms/step - loss: 0.1757 - accuracy: 0.9495\n",
      "Epoch 192/200\n",
      "2000/2000 [==============================] - 5s 2ms/step - loss: 0.1732 - accuracy: 0.9435: 1s\n",
      "Epoch 193/200\n",
      "2000/2000 [==============================] - 5s 2ms/step - loss: 0.2112 - accuracy: 0.9340\n",
      "Epoch 194/200\n",
      "2000/2000 [==============================] - 5s 2ms/step - loss: 0.1828 - accuracy: 0.9425\n",
      "Epoch 195/200\n",
      "2000/2000 [==============================] - 4s 2ms/step - loss: 0.1778 - accuracy: 0.9435\n",
      "Epoch 196/200\n",
      "2000/2000 [==============================] - 5s 2ms/step - loss: 0.1628 - accuracy: 0.9550\n",
      "Epoch 197/200\n",
      "2000/2000 [==============================] - 5s 2ms/step - loss: 0.1635 - accuracy: 0.9470\n",
      "Epoch 198/200\n",
      "2000/2000 [==============================] - 5s 2ms/step - loss: 0.1810 - accuracy: 0.9400\n",
      "Epoch 199/200\n",
      "2000/2000 [==============================] - 5s 2ms/step - loss: 0.1693 - accuracy: 0.9460\n",
      "Epoch 200/200\n",
      "2000/2000 [==============================] - 5s 2ms/step - loss: 0.1614 - accuracy: 0.9465\n",
      "--- 993.6481537818909 seconds ---\n"
     ]
    }
   ],
   "source": [
    "start_time = time.time()\n",
    "model.compile(loss='categorical_crossentropy',optimizer = Adam(lr=0.001),metrics=['accuracy'])\n",
    "model_nn = model.fit(X_train,y_train,epochs=200)\n",
    "print(\"--- %s seconds ---\" % (time.time() - start_time))"
   ]
  },
  {
   "cell_type": "code",
   "execution_count": 37,
   "metadata": {},
   "outputs": [
    {
     "data": {
      "text/plain": [
       "Text(0.5, 1.0, 'Accuracy Curves')"
      ]
     },
     "execution_count": 37,
     "metadata": {},
     "output_type": "execute_result"
    },
    {
     "data": {
      "image/png": "[encoded data removed]",
      "text/plain": [
       "<Figure size 576x432 with 1 Axes>"
      ]
     },
     "metadata": {
      "needs_background": "light"
     },
     "output_type": "display_data"
    }
   ],
   "source": [
    "plt.figure(figsize=[8,6])\n",
    "plt.plot(model_nn.history['accuracy'],'r',linewidth=1.0)\n",
    "plt.legend(['Training Accuracy'],fontsize=18)\n",
    "plt.xlabel('Epochs ',fontsize=16)\n",
    "plt.ylabel('Accuracy',fontsize=16)\n",
    "plt.title('Accuracy Curves',fontsize=16)"
   ]
  },
  {
   "cell_type": "code",
   "execution_count": 39,
   "metadata": {},
   "outputs": [
    {
     "name": "stdout",
     "output_type": "stream",
     "text": [
      "Test accuracy is 54.6 percent\n",
      "testing model takes 0.35124802589416504 seconds\n"
     ]
    }
   ],
   "source": [
    "start_time = time.time()\n",
    "pred = model.predict(X_test)\n",
    "pred_list = [] \n",
    "for i in range(len(pred)):\n",
    "    arr = pred[i]\n",
    "    idx = np.argwhere(arr == np.max(arr))\n",
    "    pred_list.append(idx[0][0])\n",
    "tst_labl = np.argmax(y_test, axis=-1)\n",
    "accuracy = accuracy_score(pred_list, tst_labl)\n",
    "print(\"Test accuracy is %s percent\" % round(accuracy*100,3))\n",
    "print(\"testing model takes %s seconds\" % (time.time() - start_time))"
   ]
  },
  {
   "cell_type": "markdown",
   "metadata": {},
   "source": [
    "### Comparing : Ensemble Model VS Neutral Network"
   ]
  },
  {
   "cell_type": "code",
   "execution_count": 64,
   "metadata": {},
   "outputs": [
    {
     "data": {
      "text/html": [
       "<div>\n",
       "<style scoped>\n",
       "    .dataframe tbody tr th:only-of-type {\n",
       "        vertical-align: middle;\n",
       "    }\n",
       "\n",
       "    .dataframe tbody tr th {\n",
       "        vertical-align: top;\n",
       "    }\n",
       "\n",
       "    .dataframe thead th {\n",
       "        text-align: right;\n",
       "    }\n",
       "</style>\n",
       "<table border=\"1\" class=\"dataframe\">\n",
       "  <thead>\n",
       "    <tr style=\"text-align: right;\">\n",
       "      <th></th>\n",
       "      <th>Candidate Model</th>\n",
       "      <th>Testing Accuracy(%)</th>\n",
       "      <th>Fitting Time</th>\n",
       "      <th>Prediction Time</th>\n",
       "    </tr>\n",
       "  </thead>\n",
       "  <tbody>\n",
       "    <tr>\n",
       "      <td>1</td>\n",
       "      <td>Ensemble Model</td>\n",
       "      <td>54.6</td>\n",
       "      <td>106s</td>\n",
       "      <td>6.7s</td>\n",
       "    </tr>\n",
       "    <tr>\n",
       "      <td>2</td>\n",
       "      <td>Neutral Network</td>\n",
       "      <td>55</td>\n",
       "      <td>994s</td>\n",
       "      <td>0.35s</td>\n",
       "    </tr>\n",
       "  </tbody>\n",
       "</table>\n",
       "</div>"
      ],
      "text/plain": [
       "   Candidate Model Testing Accuracy(%) Fitting Time Prediction Time\n",
       "1   Ensemble Model                54.6         106s            6.7s\n",
       "2  Neutral Network                  55         994s           0.35s"
      ]
     },
     "execution_count": 64,
     "metadata": {},
     "output_type": "execute_result"
    }
   ],
   "source": [
    "compare = {'Candidate Model':['Ensemble Model','Neutral Network'],\n",
    "        'Testing Accuracy(%)':['54.6','55'],\n",
    "         'Fitting Time':['106s','994s'],\n",
    "         'Prediction Time':['6.7s','0.35s']}\n",
    "df_c = pd.DataFrame(compare,index = ['1','2'])\n",
    "df_c"
   ]
  },
  {
   "cell_type": "code",
   "execution_count": 67,
   "metadata": {},
   "outputs": [
    {
     "data": {
      "text/plain": [
       "['../output/eclf.m']"
      ]
     },
     "execution_count": 67,
     "metadata": {},
     "output_type": "execute_result"
    }
   ],
   "source": [
    "# save ensemble model\n",
    "joblib.dump(eclf,'../output/eclf.m')"
   ]
  },
  {
   "cell_type": "code",
   "execution_count": 68,
   "metadata": {},
   "outputs": [
    {
     "data": {
      "text/plain": [
       "['../output/nn.m']"
      ]
     },
     "execution_count": 68,
     "metadata": {},
     "output_type": "execute_result"
    }
   ],
   "source": [
    "# save nn model\n",
    "joblib.dump(model_nn,'../output/nn.m')"
   ]
  },
  {
   "cell_type": "markdown",
   "metadata": {},
   "source": [
    "## Step 7 : Advanced Model (Final)"
   ]
  },
  {
   "cell_type": "code",
   "execution_count": null,
   "metadata": {},
   "outputs": [],
   "source": []
  }
 ],
 "metadata": {
  "kernelspec": {
   "display_name": "Python 3",
   "language": "python",
   "name": "python3"
  },
  "language_info": {
   "codemirror_mode": {
    "name": "ipython",
    "version": 3
   },
   "file_extension": ".py",
   "mimetype": "text/x-python",
   "name": "python",
   "nbconvert_exporter": "python",
   "pygments_lexer": "ipython3",
   "version": "3.7.4"
  }
 },
 "nbformat": 4,
 "nbformat_minor": 2
}
