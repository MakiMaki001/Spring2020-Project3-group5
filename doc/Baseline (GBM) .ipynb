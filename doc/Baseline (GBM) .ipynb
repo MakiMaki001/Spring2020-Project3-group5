{
 "cells": [
  {
   "cell_type": "markdown",
   "metadata": {},
   "source": [
    "# Set and import"
   ]
  },
  {
   "cell_type": "code",
   "execution_count": 3,
   "metadata": {},
   "outputs": [
    {
     "name": "stderr",
     "output_type": "stream",
     "text": [
      "/opt/anaconda3/lib/python3.7/site-packages/sklearn/externals/joblib/__init__.py:15: DeprecationWarning: sklearn.externals.joblib is deprecated in 0.21 and will be removed in 0.23. Please import this functionality directly from joblib, which can be installed with: pip install joblib. If this warning is raised when loading pickled models, you may need to re-serialize those models with scikit-learn 0.21+.\n",
      "  warnings.warn(msg, category=DeprecationWarning)\n"
     ]
    }
   ],
   "source": [
    "import numpy as np\n",
    "import pandas as pd\n",
    "from matplotlib import pyplot as plt\n",
    "import seaborn as sns\n",
    "from datetime import datetime\n",
    "from sklearn.decomposition import PCA\n",
    "from sklearn.model_selection import train_test_split\n",
    "from sklearn.metrics import classification_report\n",
    "from sklearn.metrics import confusion_matrix\n",
    "from sklearn.model_selection import GridSearchCV\n",
    "from sklearn.ensemble import GradientBoostingClassifier \n",
    "from sklearn.externals import joblib\n",
    "%run ../lib/load.py"
   ]
  },
  {
   "cell_type": "code",
   "execution_count": 4,
   "metadata": {},
   "outputs": [
    {
     "name": "stdout",
     "output_type": "stream",
     "text": [
      "--- 14.970279932022095 seconds ---\n"
     ]
    }
   ],
   "source": [
    "path = '/Users/zhaoziqin/Desktop/train_set/'\n",
    "data = load.load_data(path+'label.csv')\n",
    "points_path = '/Users/zhaoziqin/Desktop/train_set/points/'\n",
    "X = load.load_points(points_path,data)\n",
    "y= data['emotion_idx'].to_numpy()"
   ]
  },
  {
   "cell_type": "markdown",
   "metadata": {},
   "source": [
    "# train-test split"
   ]
  },
  {
   "cell_type": "code",
   "execution_count": 5,
   "metadata": {},
   "outputs": [],
   "source": [
    "train_x,test_x,train_y,test_y=train_test_split(X,y,test_size=0.2,random_state=123)"
   ]
  },
  {
   "cell_type": "code",
   "execution_count": 6,
   "metadata": {},
   "outputs": [
    {
     "name": "stdout",
     "output_type": "stream",
     "text": [
      "(2000, 6006)\n",
      "(500, 6006)\n",
      "(2000,)\n",
      "(500,)\n"
     ]
    }
   ],
   "source": [
    "print(train_x.shape)\n",
    "print(test_x.shape)\n",
    "print(train_y.shape)\n",
    "print(test_y.shape)"
   ]
  },
  {
   "cell_type": "markdown",
   "metadata": {},
   "source": [
    "# Baseline(GBM)"
   ]
  },
  {
   "cell_type": "code",
   "execution_count": 7,
   "metadata": {},
   "outputs": [
    {
     "name": "stdout",
     "output_type": "stream",
     "text": [
      "--- 388.82324600219727 seconds ---\n"
     ]
    }
   ],
   "source": [
    "from sklearn.ensemble import GradientBoostingClassifier \n",
    "start_time = time.time()\n",
    "baseline = GradientBoostingClassifier(n_estimators=22,max_depth=2)\n",
    "gbm_model = GradientBoostingClassifier(n_estimators=22,max_depth=2).fit(train_x,train_y) \n",
    "print(\"--- %s seconds ---\" % (time.time() - start_time))"
   ]
  },
  {
   "cell_type": "code",
   "execution_count": 8,
   "metadata": {},
   "outputs": [
    {
     "name": "stdout",
     "output_type": "stream",
     "text": [
      "Accuracy on the baseline model: 0.3660\n",
      "              precision    recall  f1-score   support\n",
      "\n",
      "           1       0.87      0.87      0.87        94\n",
      "           2       0.92      0.93      0.92        95\n",
      "           3       0.83      0.91      0.87       110\n",
      "           4       0.82      0.87      0.84        97\n",
      "           5       0.94      0.90      0.92        91\n",
      "           6       0.86      0.83      0.84        78\n",
      "           7       0.88      0.89      0.88        94\n",
      "           8       0.88      0.94      0.91       104\n",
      "           9       0.93      0.90      0.92        84\n",
      "          10       0.84      0.84      0.84        87\n",
      "          11       0.90      0.78      0.83        99\n",
      "          12       0.97      0.85      0.91        80\n",
      "          13       0.86      0.81      0.83        83\n",
      "          14       0.81      0.93      0.86        99\n",
      "          15       0.94      0.79      0.86        73\n",
      "          16       0.87      0.91      0.89        91\n",
      "          17       0.78      0.86      0.82       101\n",
      "          18       0.87      0.81      0.84        84\n",
      "          19       0.75      0.80      0.77        88\n",
      "          20       0.66      0.68      0.67        95\n",
      "          21       0.75      0.72      0.74        83\n",
      "          22       0.83      0.74      0.78        90\n",
      "\n",
      "    accuracy                           0.85      2000\n",
      "   macro avg       0.85      0.84      0.85      2000\n",
      "weighted avg       0.85      0.85      0.85      2000\n",
      "\n",
      "              precision    recall  f1-score   support\n",
      "\n",
      "           1       0.56      0.56      0.56        18\n",
      "           2       0.52      0.58      0.55        19\n",
      "           3       0.30      0.36      0.33        25\n",
      "           4       0.33      0.48      0.39        21\n",
      "           5       0.75      0.50      0.60        18\n",
      "           6       0.24      0.15      0.19        26\n",
      "           7       0.33      0.40      0.36        20\n",
      "           8       0.61      0.69      0.65        16\n",
      "           9       0.50      0.28      0.36        25\n",
      "          10       0.28      0.45      0.35        20\n",
      "          11       0.35      0.38      0.36        24\n",
      "          12       0.32      0.22      0.26        32\n",
      "          13       0.09      0.08      0.09        24\n",
      "          14       0.41      0.52      0.46        23\n",
      "          15       0.55      0.50      0.52        22\n",
      "          16       0.62      0.59      0.60        22\n",
      "          17       0.37      0.50      0.43        26\n",
      "          18       0.44      0.32      0.37        22\n",
      "          19       0.31      0.43      0.36        23\n",
      "          20       0.20      0.25      0.22        20\n",
      "          21       0.32      0.18      0.23        34\n",
      "          22       0.00      0.00      0.00        20\n",
      "\n",
      "    accuracy                           0.37       500\n",
      "   macro avg       0.38      0.38      0.37       500\n",
      "weighted avg       0.37      0.37      0.36       500\n",
      "\n"
     ]
    }
   ],
   "source": [
    "baseline_pred = gbm_model.predict(test_x)\n",
    "baseline_accuracy = gbm_model.score(test_x,test_y)\n",
    "print(\"Accuracy on the baseline model: %.4f\" % (baseline_accuracy))\n",
    "baseline_pred_train = gbm_model.predict(train_x)\n",
    "print(classification_report(train_y, baseline_pred_train))\n",
    "print(classification_report(test_y, baseline_pred))"
   ]
  },
  {
   "cell_type": "code",
   "execution_count": 9,
   "metadata": {},
   "outputs": [
    {
     "data": {
      "text/plain": [
       "<matplotlib.axes._subplots.AxesSubplot at 0x1a225ef490>"
      ]
     },
     "execution_count": 9,
     "metadata": {},
     "output_type": "execute_result"
    },
    {
     "data": {
      "image/png": "[encoded data removed]",
      "text/plain": [
       "<Figure size 432x288 with 2 Axes>"
      ]
     },
     "metadata": {
      "needs_background": "light"
     },
     "output_type": "display_data"
    }
   ],
   "source": [
    "cm = confusion_matrix(test_y,baseline_pred)\n",
    "sns.heatmap(cm)"
   ]
  },
  {
   "cell_type": "markdown",
   "metadata": {},
   "source": [
    "## Cross-Validation of GBM"
   ]
  },
  {
   "cell_type": "code",
   "execution_count": null,
   "metadata": {},
   "outputs": [],
   "source": [
    "start_time = time.time()\n",
    "estimator = GradientBoostingClassifier()\n",
    "parameters = {\n",
    "   'max_depth': [1,2,3],\n",
    "   'n_estimators': [50,100],\n",
    "   'learning_rate': [0.1, 0.01, 0.05]\n",
    "}\n",
    "\n",
    "gscv_gbm = GridSearchCV(estimator = estimator , \n",
    "                        param_grid = parameters, \n",
    "                        scoring ='accuracy',\n",
    "                        cv = 3,\n",
    "                        n_jobs = -1)\n",
    "gscv_gbm.fit(train_x, train_y)"
   ]
  },
  {
   "cell_type": "code",
   "execution_count": 10,
   "metadata": {},
   "outputs": [
    {
     "data": {
      "text/plain": [
       "GradientBoostingClassifier(criterion='friedman_mse', init=None,\n",
       "                           learning_rate=0.1, loss='deviance', max_depth=3,\n",
       "                           max_features=None, max_leaf_nodes=None,\n",
       "                           min_impurity_decrease=0.0, min_impurity_split=None,\n",
       "                           min_samples_leaf=1, min_samples_split=2,\n",
       "                           min_weight_fraction_leaf=0.0, n_estimators=100,\n",
       "                           n_iter_no_change=None, presort='auto',\n",
       "                           random_state=None, subsample=1.0, tol=0.0001,\n",
       "                           validation_fraction=0.1, verbose=0,\n",
       "                           warm_start=False)"
      ]
     },
     "execution_count": 10,
     "metadata": {},
     "output_type": "execute_result"
    }
   ],
   "source": [
    "GradientBoostingClassifier()"
   ]
  },
  {
   "cell_type": "code",
   "execution_count": null,
   "metadata": {},
   "outputs": [],
   "source": [
    "gscv_gbm.best_params_"
   ]
  },
  {
   "cell_type": "code",
   "execution_count": 7,
   "metadata": {},
   "outputs": [
    {
     "name": "stdout",
     "output_type": "stream",
     "text": [
      "--- 1719.895252943039 seconds ---\n"
     ]
    }
   ],
   "source": [
    "start_time = time.time()\n",
    "baseline = GradientBoostingClassifier(n_estimators=100,max_depth= 2,learning_rate=0.1)\n",
    "gbm_model = baseline.fit(train_x,train_y) \n",
    "print(\"--- %s seconds ---\" % (time.time() - start_time))"
   ]
  },
  {
   "cell_type": "code",
   "execution_count": 8,
   "metadata": {},
   "outputs": [
    {
     "name": "stdout",
     "output_type": "stream",
     "text": [
      "Accuracy on the train(baseline model): 0.9980\n",
      "Accuracy on the test(baseline model): 0.4180\n",
      "              precision    recall  f1-score   support\n",
      "\n",
      "           1       1.00      1.00      1.00        94\n",
      "           2       0.99      1.00      0.99        95\n",
      "           3       1.00      1.00      1.00       110\n",
      "           4       0.99      1.00      0.99        97\n",
      "           5       1.00      1.00      1.00        91\n",
      "           6       1.00      1.00      1.00        78\n",
      "           7       1.00      1.00      1.00        94\n",
      "           8       1.00      1.00      1.00       104\n",
      "           9       1.00      1.00      1.00        84\n",
      "          10       0.99      1.00      0.99        87\n",
      "          11       1.00      1.00      1.00        99\n",
      "          12       1.00      1.00      1.00        80\n",
      "          13       1.00      1.00      1.00        83\n",
      "          14       0.99      1.00      0.99        99\n",
      "          15       1.00      1.00      1.00        73\n",
      "          16       1.00      1.00      1.00        91\n",
      "          17       1.00      0.99      1.00       101\n",
      "          18       1.00      1.00      1.00        84\n",
      "          19       1.00      1.00      1.00        88\n",
      "          20       1.00      0.99      0.99        95\n",
      "          21       1.00      1.00      1.00        83\n",
      "          22       1.00      0.98      0.99        90\n",
      "\n",
      "    accuracy                           1.00      2000\n",
      "   macro avg       1.00      1.00      1.00      2000\n",
      "weighted avg       1.00      1.00      1.00      2000\n",
      "\n",
      "              precision    recall  f1-score   support\n",
      "\n",
      "           1       0.55      0.61      0.58        18\n",
      "           2       0.65      0.68      0.67        19\n",
      "           3       0.40      0.40      0.40        25\n",
      "           4       0.39      0.57      0.46        21\n",
      "           5       0.59      0.56      0.57        18\n",
      "           6       0.31      0.15      0.21        26\n",
      "           7       0.43      0.45      0.44        20\n",
      "           8       0.62      0.62      0.62        16\n",
      "           9       0.62      0.52      0.57        25\n",
      "          10       0.40      0.50      0.44        20\n",
      "          11       0.46      0.54      0.50        24\n",
      "          12       0.33      0.22      0.26        32\n",
      "          13       0.13      0.17      0.15        24\n",
      "          14       0.46      0.52      0.49        23\n",
      "          15       0.45      0.45      0.45        22\n",
      "          16       0.64      0.73      0.68        22\n",
      "          17       0.31      0.38      0.34        26\n",
      "          18       0.47      0.36      0.41        22\n",
      "          19       0.30      0.39      0.34        23\n",
      "          20       0.24      0.30      0.27        20\n",
      "          21       0.45      0.29      0.36        34\n",
      "          22       0.15      0.10      0.12        20\n",
      "\n",
      "    accuracy                           0.42       500\n",
      "   macro avg       0.43      0.43      0.42       500\n",
      "weighted avg       0.42      0.42      0.41       500\n",
      "\n"
     ]
    }
   ],
   "source": [
    "baseline_pred_train = gbm_model.predict(train_x)\n",
    "baseline_pred = gbm_model.predict(test_x)\n",
    "baseline_accuracy_test = gbm_model.score(test_x,test_y)\n",
    "baseline_accuracy_train = gbm_model.score(train_x,train_y)\n",
    "print(\"Accuracy on the train(baseline model): %.4f\" % (baseline_accuracy_train))\n",
    "print(\"Accuracy on the test(baseline model): %.4f\" % (baseline_accuracy_test))\n",
    "print(classification_report(train_y, baseline_pred_train))\n",
    "print(classification_report(test_y, baseline_pred))"
   ]
  },
  {
   "cell_type": "code",
   "execution_count": 9,
   "metadata": {},
   "outputs": [
    {
     "data": {
      "text/plain": [
       "<matplotlib.axes._subplots.AxesSubplot at 0x1a220afb50>"
      ]
     },
     "execution_count": 9,
     "metadata": {},
     "output_type": "execute_result"
    },
    {
     "data": {
      "image/png": "[encoded data removed]",
      "text/plain": [
       "<Figure size 432x288 with 2 Axes>"
      ]
     },
     "metadata": {
      "needs_background": "light"
     },
     "output_type": "display_data"
    }
   ],
   "source": [
    "cm = confusion_matrix(test_y,baseline_pred)\n",
    "sns.heatmap(cm)"
   ]
  },
  {
   "cell_type": "code",
   "execution_count": null,
   "metadata": {},
   "outputs": [],
   "source": [
    "# save baseline model\n",
    "# joblib.dump(gbm_model,'../output/baseline.m')"
   ]
  }
 ],
 "metadata": {
  "kernelspec": {
   "display_name": "Python 3",
   "language": "python",
   "name": "python3"
  },
  "language_info": {
   "codemirror_mode": {
    "name": "ipython",
    "version": 3
   },
   "file_extension": ".py",
   "mimetype": "text/x-python",
   "name": "python",
   "nbconvert_exporter": "python",
   "pygments_lexer": "ipython3",
   "version": "3.7.4"
  }
 },
 "nbformat": 4,
 "nbformat_minor": 2
}
